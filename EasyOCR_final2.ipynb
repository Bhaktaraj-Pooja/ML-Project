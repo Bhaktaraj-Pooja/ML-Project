{
  "nbformat": 4,
  "nbformat_minor": 0,
  "metadata": {
    "colab": {
      "name": "EasyOCR.ipynb",
      "provenance": [],
      "include_colab_link": true
    },
    "kernelspec": {
      "name": "python3",
      "display_name": "Python 3"
    },
    "language_info": {
      "name": "python"
    },
    "accelerator": "GPU"
  },
  "cells": [
    {
      "cell_type": "markdown",
      "metadata": {
        "id": "view-in-github",
        "colab_type": "text"
      },
      "source": [
        "<a href=\"https://colab.research.google.com/github/Bhaktaraj-Pooja/ML-Project/blob/main/EasyOCR_final2.ipynb\" target=\"_parent\"><img src=\"https://colab.research.google.com/assets/colab-badge.svg\" alt=\"Open In Colab\"/></a>"
      ]
    },
    {
      "cell_type": "markdown",
      "metadata": {
        "id": "H0D-ub2V9sB5"
      },
      "source": [
        "#**Install and Import Packages**"
      ]
    },
    {
      "cell_type": "code",
      "metadata": {
        "id": "Ee5j-65W7FEu",
        "colab": {
          "base_uri": "https://localhost:8080/"
        },
        "outputId": "0c555c2e-e612-4947-c8df-2d1f573841b1"
      },
      "source": [
        "!pip install torch torchvision torchaudio\n",
        "!pip install easyocr"
      ],
      "execution_count": 15,
      "outputs": [
        {
          "output_type": "stream",
          "text": [
            "Requirement already satisfied: torch in /usr/local/lib/python3.7/dist-packages (1.8.1+cu101)\n",
            "Requirement already satisfied: torchvision in /usr/local/lib/python3.7/dist-packages (0.9.1+cu101)\n",
            "Requirement already satisfied: torchaudio in /usr/local/lib/python3.7/dist-packages (0.8.1)\n",
            "Requirement already satisfied: numpy in /usr/local/lib/python3.7/dist-packages (from torch) (1.19.5)\n",
            "Requirement already satisfied: typing-extensions in /usr/local/lib/python3.7/dist-packages (from torch) (3.7.4.3)\n",
            "Requirement already satisfied: pillow>=4.1.1 in /usr/local/lib/python3.7/dist-packages (from torchvision) (7.1.2)\n",
            "Requirement already satisfied: easyocr in /usr/local/lib/python3.7/dist-packages (1.3.2)\n",
            "Requirement already satisfied: PyYAML in /usr/local/lib/python3.7/dist-packages (from easyocr) (3.13)\n",
            "Requirement already satisfied: Pillow in /usr/local/lib/python3.7/dist-packages (from easyocr) (7.1.2)\n",
            "Requirement already satisfied: scipy in /usr/local/lib/python3.7/dist-packages (from easyocr) (1.4.1)\n",
            "Requirement already satisfied: scikit-image in /usr/local/lib/python3.7/dist-packages (from easyocr) (0.16.2)\n",
            "Requirement already satisfied: python-bidi in /usr/local/lib/python3.7/dist-packages (from easyocr) (0.4.2)\n",
            "Requirement already satisfied: torchvision>=0.5 in /usr/local/lib/python3.7/dist-packages (from easyocr) (0.9.1+cu101)\n",
            "Requirement already satisfied: numpy in /usr/local/lib/python3.7/dist-packages (from easyocr) (1.19.5)\n",
            "Requirement already satisfied: torch in /usr/local/lib/python3.7/dist-packages (from easyocr) (1.8.1+cu101)\n",
            "Requirement already satisfied: opencv-python in /usr/local/lib/python3.7/dist-packages (from easyocr) (4.1.2.30)\n",
            "Requirement already satisfied: PyWavelets>=0.4.0 in /usr/local/lib/python3.7/dist-packages (from scikit-image->easyocr) (1.1.1)\n",
            "Requirement already satisfied: matplotlib!=3.0.0,>=2.0.0 in /usr/local/lib/python3.7/dist-packages (from scikit-image->easyocr) (3.2.2)\n",
            "Requirement already satisfied: networkx>=2.0 in /usr/local/lib/python3.7/dist-packages (from scikit-image->easyocr) (2.5.1)\n",
            "Requirement already satisfied: imageio>=2.3.0 in /usr/local/lib/python3.7/dist-packages (from scikit-image->easyocr) (2.4.1)\n",
            "Requirement already satisfied: six in /usr/local/lib/python3.7/dist-packages (from python-bidi->easyocr) (1.15.0)\n",
            "Requirement already satisfied: typing-extensions in /usr/local/lib/python3.7/dist-packages (from torch->easyocr) (3.7.4.3)\n",
            "Requirement already satisfied: pyparsing!=2.0.4,!=2.1.2,!=2.1.6,>=2.0.1 in /usr/local/lib/python3.7/dist-packages (from matplotlib!=3.0.0,>=2.0.0->scikit-image->easyocr) (2.4.7)\n",
            "Requirement already satisfied: kiwisolver>=1.0.1 in /usr/local/lib/python3.7/dist-packages (from matplotlib!=3.0.0,>=2.0.0->scikit-image->easyocr) (1.3.1)\n",
            "Requirement already satisfied: python-dateutil>=2.1 in /usr/local/lib/python3.7/dist-packages (from matplotlib!=3.0.0,>=2.0.0->scikit-image->easyocr) (2.8.1)\n",
            "Requirement already satisfied: cycler>=0.10 in /usr/local/lib/python3.7/dist-packages (from matplotlib!=3.0.0,>=2.0.0->scikit-image->easyocr) (0.10.0)\n",
            "Requirement already satisfied: decorator<5,>=4.3 in /usr/local/lib/python3.7/dist-packages (from networkx>=2.0->scikit-image->easyocr) (4.4.2)\n"
          ],
          "name": "stdout"
        }
      ]
    },
    {
      "cell_type": "code",
      "metadata": {
        "id": "C4_BHd657tUm"
      },
      "source": [
        "import easyocr\n",
        "import cv2\n",
        "from matplotlib import pyplot as plt\n",
        "import numpy as np\n",
        "import re\n",
        "import pandas as pd"
      ],
      "execution_count": 16,
      "outputs": []
    },
    {
      "cell_type": "markdown",
      "metadata": {
        "id": "0zLrlP1p-B24"
      },
      "source": [
        "#**Read Images**"
      ]
    },
    {
      "cell_type": "code",
      "metadata": {
        "colab": {
          "base_uri": "https://localhost:8080/"
        },
        "id": "y0rvzg3y-o5I",
        "outputId": "3ded0e11-057f-4d21-9a28-9cdf1a1f8d93"
      },
      "source": [
        "from google.colab import drive\n",
        "drive.mount('/content/drive/')"
      ],
      "execution_count": 17,
      "outputs": [
        {
          "output_type": "stream",
          "text": [
            "Drive already mounted at /content/drive/; to attempt to forcibly remount, call drive.mount(\"/content/drive/\", force_remount=True).\n"
          ],
          "name": "stdout"
        }
      ]
    },
    {
      "cell_type": "code",
      "metadata": {
        "id": "Hs6QUpuvIBnG"
      },
      "source": [
        "import os\n",
        "from os import listdir\n",
        "from os.path import isfile, join"
      ],
      "execution_count": 18,
      "outputs": []
    },
    {
      "cell_type": "code",
      "metadata": {
        "id": "_1eQZ96hDlZJ"
      },
      "source": [
        "def find_amounts(text):\n",
        "    amounts = re.findall(r'\\d+\\.\\d{2}\\b', text)\n",
        "    floats = [float(amount) for amount in amounts]\n",
        "    unique = list(dict.fromkeys(floats))\n",
        "    return unique"
      ],
      "execution_count": 19,
      "outputs": []
    },
    {
      "cell_type": "code",
      "metadata": {
        "id": "f78OTPNv-BUQ",
        "colab": {
          "base_uri": "https://localhost:8080/"
        },
        "outputId": "2bcf8d9c-06e2-4b73-c5e2-ecd673b1fdee"
      },
      "source": [
        "save_dir = \"/content/drive/MyDrive/OCR_DataSet/tmp/\"\n",
        "imgfiles = [file for file in listdir(save_dir) if isfile(join(save_dir, file)) and file.endswith('.jpg')]\n",
        "print(imgfiles)\n",
        "\n",
        "Submission = pd.DataFrame(columns=['FileName', 'Total Amount'])\n",
        "\n",
        "for imgf in imgfiles:\n",
        "    image_path = save_dir + imgf\n",
        "    image = cv2.imread(image_path, cv2.IMREAD_GRAYSCALE)\n",
        "    reader = easyocr.Reader(['en'], gpu=True)\n",
        "    result = reader.readtext(image_path, detail = 0)\n",
        "    result\n",
        "    i = 0\n",
        "    fr = \"\"\n",
        "    for i in result:\n",
        "        fr = fr + i + \".\"\n",
        "        #fr =  fr + \"\\n\"\n",
        "    amount = find_amounts(fr)\n",
        "    max_amount = 0\n",
        "    if amount:\n",
        "        max_amount = max(amount)\n",
        "    name_only = os.path.splitext(os.path.basename(imgf))[0]\n",
        "    # add data to submission file dataset\n",
        "    Submission = Submission.append({'FileName':name_only,\n",
        "                      'Total Amount':max_amount}, ignore_index = True)\n"
      ],
      "execution_count": null,
      "outputs": [
        {
          "output_type": "stream",
          "text": [
            "['6f76831a-9207-47f9-9601-1b5ba7ef2180-1.jpg', 'TE_163.jpg', '850c8ceb-621c-4d8c-8f49-05bb120bb7c6-1.jpg', 'TE_191.jpg', 'e1689012-8133-4fde-a678-1010db346372-1.jpg', 'TE_168.jpg', '019e40d4-9055-48e8-a07e-6b51cfa74c48-1.jpg', 'TE_155.jpg', 'a7da3a64-4974-4666-b8df-f0456b01a0fe-1.jpg', 'TE_195.jpg', 'c4c35d2a-1a0d-4d17-ba3c-7100ae1d41aa-1.jpg', 'TE_157.jpg', '46a960d5-b6eb-4c89-9900-39824a02ea00-1.jpg', 'TE_194.jpg', 'fccad756-000b-41f1-bd8c-a16550a4f504-1.jpg', 'TE_170.jpg', '3e66e715-1fec-4c36-be15-ad1b3fdbb9ae-1.jpg', 'TE_152.jpg', '9d5db5fd-4e6b-4f01-8823-d7f882d6d6d6-1.jpg', 'TE_142.jpg', '937b8995-4c4f-46e3-9e30-913435d96af9-1.jpg', 'TE_184.jpg', '8c1413ae-3147-4541-bf8e-3df4083db3ce-1.jpg', 'TE_145.jpg', '40be4c51-fd68-43d3-9bb0-deaa84a7e5c5-1.jpg', 'TE_148.jpg', '072c8eaf-d7e0-4096-bb7d-11a0675f6cbc-1.jpg', 'TE_151.jpg', '75977663-9608-4594-bc39-46a420f1b535-1.jpg', 'TE_180.jpg', '357bff82-1f25-4ba9-ad7f-ca5322d22b1c-1.jpg', 'TE_135.jpg', 'ceffcf1e-568a-41e8-af7e-ab081a7e421b-1.jpg', 'TE_149.jpg', '05fbbd2b-8f2d-465e-8fad-78ccc08fedfd-1.jpg', 'TE_181.jpg', '2b198aad-0772-46ff-9889-da9ebb98c6ee-1.jpg', 'TE_187.jpg', 'b08d4a29-1877-43b9-9ef5-f28fbccbed44-1.jpg', 'TE_156.jpg', 'cf820566-5970-4166-8be0-d2b3c85107f7-1.jpg', 'TE_199.jpg', 'e19e9427-a9d7-43ee-9ad2-2d8160766a16-1.jpg', 'TE_144.jpg', 'b909fcae-aa7d-45ff-abbe-c6f0ef0f0745-1.jpg', 'TE_185.jpg', '4506ffc3-a3b8-49f1-bf7a-0f44d4b31f11-1.jpg', 'TE_137.jpg', '7fd00aa7-edb3-4556-b217-cd4f86ea94d8-1.jpg', 'TE_150.jpg', '53e067b5-6fd5-40ed-a1db-b4e17e57ce39-1.jpg', 'TE_173.jpg', 'c7fabca0-b6ba-4edc-9ead-a162c7ebe064-1.jpg', 'TE_158.jpg', '607e6579-8336-45af-a111-e4495b711567-1.jpg', 'TE_131.jpg', '079b4af0-6a33-4ee4-bae3-886af357b377-1.jpg', 'TE_167.jpg', '35744d46-b165-480e-a33a-9c2678c41ec7-1.jpg', 'TE_141.jpg', '6e33d769-f56c-4522-ba51-bf11a45686c3-1.jpg', 'TE_143.jpg', '9c6d9541-189a-4911-baaf-f1f97e093e17-1.jpg', 'TE_133.jpg', '3212b266-d2ca-460b-af55-4340b18b138d-1.jpg', 'TE_162.jpg', 'd56834ca-dfc1-4dcd-b0b8-2808e5ef5be1-1.jpg', 'TE_198.jpg', '5e812fbb-dc80-4724-9d07-1623b2a1cf83-1.jpg', 'TE_161.jpg', '194e219c-fe6e-4cd2-9e98-59a4bc444229-1.jpg', 'TE_139.jpg', '39028fcd-48a2-4f9e-8e33-f0586bf00001-1.jpg', 'TE_188.jpg', 'c6bd184f-f4c2-4413-b4f5-988d365f4025-1.jpg', 'TE_200.jpg', '0f5bd3d9-3076-45b2-95a2-588731d1c891-1.jpg', 'TE_132.jpg', '51b4629b-06ae-4228-9bb9-f60470d6a47c-1.jpg', 'TE_164.jpg', '30c0312b-7eb9-4856-a341-3c375a2625db-1.jpg', 'TE_166.jpg', '098e1cbf-f3e7-4717-af3e-28c9b845f17c-1.jpg', 'TE_178.jpg', 'dd2090b7-e5c4-421d-87b3-05779698d824-1.jpg', 'TE_186.jpg', 'e302cae8-4c60-4cb8-8392-8e5c792a35b6-1.jpg', 'TE_169.jpg', 'dd7ec5e3-162a-41a1-bfa1-282e58915063-1.jpg', 'TE_175.jpg', '152ee76c-2218-46e5-8359-5b243c0b2401-1.jpg', 'TE_172.jpg', '489eaea5-ae9a-41da-8ab2-115e799981e1-1.jpg', 'TE_147.jpg', '15a33f17-2e1a-4ec5-8208-269584a92b0b-1.jpg', 'TE_196.jpg', '5ab0673f-afdb-4c71-8464-46c89dceed53-1.jpg', 'TE_159.jpg', 'c4d1411e-bc45-4677-83aa-7d29a3c4e9f6-1.jpg', 'TE_192.jpg', '900bf084-b257-4be0-bb73-4985c6b6be70-1.jpg', 'TE_190.jpg', 'd3096d75-a611-4a4f-9211-3227d5272ae9-1.jpg', 'TE_174.jpg', '88a6c254-2570-4de9-836c-a8236af6df3b-1.jpg', 'TE_165.jpg', 'dd2b1d55-d056-41a2-a704-747dcc87f843-1.jpg', 'TE_138.jpg', '9f02ce71-6223-49e5-868b-1cd089765134-1.jpg', 'TE_179.jpg', 'bd1f445b-feaa-47e7-82b7-19b21b4755cc-1.jpg', 'TE_134.jpg', '7d0bf7c4-519c-4157-af7c-ce1b7c55009e-1.jpg', 'TE_171.jpg', '1d3de447-cb30-4e1b-b9da-e55d88684f2f-1.jpg', 'TE_193.jpg', 'a88a7be1-d8b8-41bd-a82e-bef88560869b-1.jpg', 'TE_160.jpg', '2917223c-cc56-408d-96a8-186d91557c30-1.jpg', 'TE_177.jpg', 'af1cc781-3245-431e-8782-2eb2ff6c04ed-1.jpg', 'TE_189.jpg', '26691592-ae2a-4c85-ad73-74a68f91bc1d-1.jpg', 'TE_197.jpg', '6f1db9e5-711e-451f-80df-c136f2d34cff-1.jpg', 'TE_176.jpg', '250fa219-1c94-4db7-81b7-58693b1ea5b9-1.jpg', 'TE_146.jpg', '1dee04b0-33ff-4fca-860e-1ca2cf397354-1.jpg', 'TE_154.jpg', 'e78013ba-84ee-4b2d-a4f4-41790a2b530e-1.jpg', 'TE_183.jpg', '13f1c9d1-ce08-4464-b004-aa54c6e3f292-1.jpg', 'TE_182.jpg', '3c64dc8c-c2ed-47e0-bd01-6b83f9e3a239-1.jpg', 'TE_136.jpg', 'e126e250-0ccd-41d4-beeb-d22d61c853f1-1.jpg', 'TE_140.jpg', 'e9e49f4d-ff7b-4485-ab02-a7e3d20f7a99-1.jpg', 'TE_153.jpg']\n"
          ],
          "name": "stdout"
        }
      ]
    },
    {
      "cell_type": "code",
      "metadata": {
        "id": "-oROp41OKx5G"
      },
      "source": [
        "# write output file to Google drive\n",
        "output_path = '/content/drive/MyDrive/PDF_OCR_Final2.csv'\n",
        "Submission.to_csv(output_path, index=False)"
      ],
      "execution_count": null,
      "outputs": []
    },
    {
      "cell_type": "markdown",
      "metadata": {
        "id": "rccmIsBr_RXO"
      },
      "source": [
        "#**Draw Results**"
      ]
    }
  ]
}