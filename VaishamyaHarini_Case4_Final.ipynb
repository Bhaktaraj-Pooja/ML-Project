{
  "nbformat": 4,
  "nbformat_minor": 0,
  "metadata": {
    "colab": {
      "name": "Case4.ipynb",
      "provenance": [],
      "include_colab_link": true
    },
    "kernelspec": {
      "name": "python3",
      "display_name": "Python 3"
    },
    "language_info": {
      "name": "python"
    }
  },
  "cells": [
    {
      "cell_type": "markdown",
      "metadata": {
        "id": "view-in-github",
        "colab_type": "text"
      },
      "source": [
        "<a href=\"https://colab.research.google.com/github/Bhaktaraj-Pooja/ML-Project/blob/main/VaishamyaHarini_Case4_Final.ipynb\" target=\"_parent\"><img src=\"https://colab.research.google.com/assets/colab-badge.svg\" alt=\"Open In Colab\"/></a>"
      ]
    },
    {
      "cell_type": "markdown",
      "metadata": {
        "id": "02EoeRjuub1z"
      },
      "source": [
        "#**Case 4 - Work life balance**\n",
        "\n",
        "#**Import dataset into Python**\n",
        "#Import necessary Libraries"
      ]
    },
    {
      "cell_type": "code",
      "metadata": {
        "id": "hwKlpknxua6F"
      },
      "source": [
        "import pandas as pd\n",
        "import matplotlib as mpl\n",
        "import matplotlib.pyplot as plt\n",
        "import numpy as np\n",
        "import seaborn as sns\n",
        "\n",
        "from sklearn import preprocessing\n",
        "from sklearn.preprocessing import StandardScaler\n",
        "from sklearn.model_selection import train_test_split\n",
        "from sklearn.linear_model import LinearRegression, Ridge, Lasso\n",
        "from sklearn.neural_network import MLPRegressor\n",
        "from xgboost import XGBRegressor\n",
        "from lightgbm import LGBMRegressor\n",
        "\n",
        "import warnings\n",
        "warnings.filterwarnings(action='ignore')"
      ],
      "execution_count": 52,
      "outputs": []
    },
    {
      "cell_type": "markdown",
      "metadata": {
        "id": "6baczS8djYqH"
      },
      "source": [
        "#Mount Google Drive to read dataset"
      ]
    },
    {
      "cell_type": "code",
      "metadata": {
        "colab": {
          "base_uri": "https://localhost:8080/"
        },
        "id": "rWk1BrtUVJGp",
        "outputId": "21db09d5-0ece-41b4-ff59-1736b1c36ac0"
      },
      "source": [
        "from google.colab import drive\n",
        "drive.mount('/content/drive')"
      ],
      "execution_count": 53,
      "outputs": [
        {
          "output_type": "stream",
          "text": [
            "Drive already mounted at /content/drive; to attempt to forcibly remount, call drive.mount(\"/content/drive\", force_remount=True).\n"
          ],
          "name": "stdout"
        }
      ]
    },
    {
      "cell_type": "markdown",
      "metadata": {
        "id": "c8mW_rjLjgvg"
      },
      "source": [
        "#Import Train and Test dataset"
      ]
    },
    {
      "cell_type": "code",
      "metadata": {
        "id": "61-rc5LI-p9s"
      },
      "source": [
        "train_path = '/content/drive/MyDrive/train.csv'\n",
        "test_path = '/content/drive/MyDrive/test.csv'\n",
        "\n",
        "train_main = pd.read_csv(train_path)\n",
        "test_main = pd.read_csv(test_path)"
      ],
      "execution_count": 54,
      "outputs": []
    },
    {
      "cell_type": "markdown",
      "metadata": {
        "id": "SDdFILYJkd0b"
      },
      "source": [
        "#Basic functions to check the Dataset"
      ]
    },
    {
      "cell_type": "code",
      "metadata": {
        "colab": {
          "base_uri": "https://localhost:8080/"
        },
        "id": "Z8lh5nisAa2m",
        "outputId": "c8c75772-a480-4b14-e76b-7cf5cdb3f9cd"
      },
      "source": [
        "print(train_main.shape)\n",
        "print(test_main.shape)"
      ],
      "execution_count": 55,
      "outputs": [
        {
          "output_type": "stream",
          "text": [
            "(22750, 12)\n",
            "(12250, 11)\n"
          ],
          "name": "stdout"
        }
      ]
    },
    {
      "cell_type": "code",
      "metadata": {
        "colab": {
          "base_uri": "https://localhost:8080/"
        },
        "id": "iL9r2B0LAiy7",
        "outputId": "82364a16-9438-4648-df8c-b0bdbfbf5fb3"
      },
      "source": [
        "print(train_main.columns)\n",
        "print(test_main.columns)"
      ],
      "execution_count": 56,
      "outputs": [
        {
          "output_type": "stream",
          "text": [
            "Index(['Employee ID', 'Date of Joining', 'Gender', 'Company Type',\n",
            "       'WFH Setup Available', 'Age', 'Tenure', 'Vacations taken',\n",
            "       'Designation', 'Average Hours worked per day',\n",
            "       'Employee satisfaction score', 'Mental Fatigue Score'],\n",
            "      dtype='object')\n",
            "Index(['Employee ID', 'Date of Joining', 'Gender', 'Company Type',\n",
            "       'WFH Setup Available', 'Age', 'Tenure', 'Vacations taken',\n",
            "       'Designation', 'Average Hours worked per day',\n",
            "       'Employee satisfaction score'],\n",
            "      dtype='object')\n"
          ],
          "name": "stdout"
        }
      ]
    },
    {
      "cell_type": "code",
      "metadata": {
        "colab": {
          "base_uri": "https://localhost:8080/"
        },
        "id": "FlCyAIVaAwK_",
        "outputId": "d08425d3-afa2-4020-cee6-6261e632b995"
      },
      "source": [
        "print(train_main.dtypes)\n",
        "print(test_main.dtypes)"
      ],
      "execution_count": 57,
      "outputs": [
        {
          "output_type": "stream",
          "text": [
            "Employee ID                      object\n",
            "Date of Joining                  object\n",
            "Gender                           object\n",
            "Company Type                     object\n",
            "WFH Setup Available              object\n",
            "Age                               int64\n",
            "Tenure                            int64\n",
            "Vacations taken                   int64\n",
            "Designation                       int64\n",
            "Average Hours worked per day    float64\n",
            "Employee satisfaction score     float64\n",
            "Mental Fatigue Score            float64\n",
            "dtype: object\n",
            "Employee ID                      object\n",
            "Date of Joining                  object\n",
            "Gender                           object\n",
            "Company Type                     object\n",
            "WFH Setup Available              object\n",
            "Age                               int64\n",
            "Tenure                            int64\n",
            "Vacations taken                   int64\n",
            "Designation                       int64\n",
            "Average Hours worked per day      int64\n",
            "Employee satisfaction score     float64\n",
            "dtype: object\n"
          ],
          "name": "stdout"
        }
      ]
    },
    {
      "cell_type": "markdown",
      "metadata": {
        "id": "ysrz48U5_Ai3"
      },
      "source": [
        "# Displaying some rows from the begining of dataset"
      ]
    },
    {
      "cell_type": "code",
      "metadata": {
        "colab": {
          "base_uri": "https://localhost:8080/",
          "height": 231
        },
        "id": "3VrF3qpOFj-f",
        "outputId": "9abd46aa-4893-46ef-d65b-aa060f380d8c"
      },
      "source": [
        "train_main.head(5)"
      ],
      "execution_count": 58,
      "outputs": [
        {
          "output_type": "execute_result",
          "data": {
            "text/html": [
              "<div>\n",
              "<style scoped>\n",
              "    .dataframe tbody tr th:only-of-type {\n",
              "        vertical-align: middle;\n",
              "    }\n",
              "\n",
              "    .dataframe tbody tr th {\n",
              "        vertical-align: top;\n",
              "    }\n",
              "\n",
              "    .dataframe thead th {\n",
              "        text-align: right;\n",
              "    }\n",
              "</style>\n",
              "<table border=\"1\" class=\"dataframe\">\n",
              "  <thead>\n",
              "    <tr style=\"text-align: right;\">\n",
              "      <th></th>\n",
              "      <th>Employee ID</th>\n",
              "      <th>Date of Joining</th>\n",
              "      <th>Gender</th>\n",
              "      <th>Company Type</th>\n",
              "      <th>WFH Setup Available</th>\n",
              "      <th>Age</th>\n",
              "      <th>Tenure</th>\n",
              "      <th>Vacations taken</th>\n",
              "      <th>Designation</th>\n",
              "      <th>Average Hours worked per day</th>\n",
              "      <th>Employee satisfaction score</th>\n",
              "      <th>Mental Fatigue Score</th>\n",
              "    </tr>\n",
              "  </thead>\n",
              "  <tbody>\n",
              "    <tr>\n",
              "      <th>0</th>\n",
              "      <td>fffe32003000360033003200</td>\n",
              "      <td>9/30/2008</td>\n",
              "      <td>Female</td>\n",
              "      <td>Service</td>\n",
              "      <td>No</td>\n",
              "      <td>52</td>\n",
              "      <td>18</td>\n",
              "      <td>8</td>\n",
              "      <td>2</td>\n",
              "      <td>3.0</td>\n",
              "      <td>3.8</td>\n",
              "      <td>0.16</td>\n",
              "    </tr>\n",
              "    <tr>\n",
              "      <th>1</th>\n",
              "      <td>fffe3700360033003500</td>\n",
              "      <td>11/30/2008</td>\n",
              "      <td>Male</td>\n",
              "      <td>Service</td>\n",
              "      <td>Yes</td>\n",
              "      <td>26</td>\n",
              "      <td>12</td>\n",
              "      <td>4</td>\n",
              "      <td>1</td>\n",
              "      <td>2.0</td>\n",
              "      <td>5.0</td>\n",
              "      <td>0.36</td>\n",
              "    </tr>\n",
              "    <tr>\n",
              "      <th>2</th>\n",
              "      <td>fffe31003300320037003900</td>\n",
              "      <td>3/10/2008</td>\n",
              "      <td>Female</td>\n",
              "      <td>Product</td>\n",
              "      <td>Yes</td>\n",
              "      <td>63</td>\n",
              "      <td>20</td>\n",
              "      <td>4</td>\n",
              "      <td>2</td>\n",
              "      <td>NaN</td>\n",
              "      <td>5.8</td>\n",
              "      <td>0.49</td>\n",
              "    </tr>\n",
              "    <tr>\n",
              "      <th>3</th>\n",
              "      <td>fffe32003400380032003900</td>\n",
              "      <td>11/3/2008</td>\n",
              "      <td>Male</td>\n",
              "      <td>Service</td>\n",
              "      <td>Yes</td>\n",
              "      <td>59</td>\n",
              "      <td>20</td>\n",
              "      <td>12</td>\n",
              "      <td>1</td>\n",
              "      <td>1.0</td>\n",
              "      <td>2.6</td>\n",
              "      <td>0.20</td>\n",
              "    </tr>\n",
              "    <tr>\n",
              "      <th>4</th>\n",
              "      <td>fffe31003900340031003600</td>\n",
              "      <td>7/24/2008</td>\n",
              "      <td>Female</td>\n",
              "      <td>Service</td>\n",
              "      <td>No</td>\n",
              "      <td>63</td>\n",
              "      <td>10</td>\n",
              "      <td>9</td>\n",
              "      <td>3</td>\n",
              "      <td>7.0</td>\n",
              "      <td>6.9</td>\n",
              "      <td>0.52</td>\n",
              "    </tr>\n",
              "  </tbody>\n",
              "</table>\n",
              "</div>"
            ],
            "text/plain": [
              "                Employee ID  ... Mental Fatigue Score\n",
              "0  fffe32003000360033003200  ...                 0.16\n",
              "1      fffe3700360033003500  ...                 0.36\n",
              "2  fffe31003300320037003900  ...                 0.49\n",
              "3  fffe32003400380032003900  ...                 0.20\n",
              "4  fffe31003900340031003600  ...                 0.52\n",
              "\n",
              "[5 rows x 12 columns]"
            ]
          },
          "metadata": {
            "tags": []
          },
          "execution_count": 58
        }
      ]
    },
    {
      "cell_type": "code",
      "metadata": {
        "colab": {
          "base_uri": "https://localhost:8080/",
          "height": 231
        },
        "id": "tQmFoI2Ol-ZH",
        "outputId": "eacfc98b-6bc2-44f6-8a52-fcf8669590bc"
      },
      "source": [
        "test_main.head(5)"
      ],
      "execution_count": 59,
      "outputs": [
        {
          "output_type": "execute_result",
          "data": {
            "text/html": [
              "<div>\n",
              "<style scoped>\n",
              "    .dataframe tbody tr th:only-of-type {\n",
              "        vertical-align: middle;\n",
              "    }\n",
              "\n",
              "    .dataframe tbody tr th {\n",
              "        vertical-align: top;\n",
              "    }\n",
              "\n",
              "    .dataframe thead th {\n",
              "        text-align: right;\n",
              "    }\n",
              "</style>\n",
              "<table border=\"1\" class=\"dataframe\">\n",
              "  <thead>\n",
              "    <tr style=\"text-align: right;\">\n",
              "      <th></th>\n",
              "      <th>Employee ID</th>\n",
              "      <th>Date of Joining</th>\n",
              "      <th>Gender</th>\n",
              "      <th>Company Type</th>\n",
              "      <th>WFH Setup Available</th>\n",
              "      <th>Age</th>\n",
              "      <th>Tenure</th>\n",
              "      <th>Vacations taken</th>\n",
              "      <th>Designation</th>\n",
              "      <th>Average Hours worked per day</th>\n",
              "      <th>Employee satisfaction score</th>\n",
              "    </tr>\n",
              "  </thead>\n",
              "  <tbody>\n",
              "    <tr>\n",
              "      <th>0</th>\n",
              "      <td>fffe31003300390039003000</td>\n",
              "      <td>12/10/2008</td>\n",
              "      <td>Female</td>\n",
              "      <td>Service</td>\n",
              "      <td>No</td>\n",
              "      <td>39</td>\n",
              "      <td>14</td>\n",
              "      <td>4</td>\n",
              "      <td>2</td>\n",
              "      <td>5</td>\n",
              "      <td>7.7</td>\n",
              "    </tr>\n",
              "    <tr>\n",
              "      <th>1</th>\n",
              "      <td>fffe31003300310037003800</td>\n",
              "      <td>8/14/2008</td>\n",
              "      <td>Female</td>\n",
              "      <td>Product</td>\n",
              "      <td>Yes</td>\n",
              "      <td>51</td>\n",
              "      <td>9</td>\n",
              "      <td>4</td>\n",
              "      <td>1</td>\n",
              "      <td>2</td>\n",
              "      <td>5.2</td>\n",
              "    </tr>\n",
              "    <tr>\n",
              "      <th>2</th>\n",
              "      <td>fffe33003400380035003900</td>\n",
              "      <td>11/13/2008</td>\n",
              "      <td>Male</td>\n",
              "      <td>Product</td>\n",
              "      <td>Yes</td>\n",
              "      <td>30</td>\n",
              "      <td>5</td>\n",
              "      <td>8</td>\n",
              "      <td>1</td>\n",
              "      <td>3</td>\n",
              "      <td>5.9</td>\n",
              "    </tr>\n",
              "    <tr>\n",
              "      <th>3</th>\n",
              "      <td>fffe3100370039003200</td>\n",
              "      <td>2/7/2008</td>\n",
              "      <td>Female</td>\n",
              "      <td>Service</td>\n",
              "      <td>No</td>\n",
              "      <td>22</td>\n",
              "      <td>5</td>\n",
              "      <td>6</td>\n",
              "      <td>3</td>\n",
              "      <td>6</td>\n",
              "      <td>4.6</td>\n",
              "    </tr>\n",
              "    <tr>\n",
              "      <th>4</th>\n",
              "      <td>fffe32003600390036003700</td>\n",
              "      <td>7/17/2008</td>\n",
              "      <td>Female</td>\n",
              "      <td>Product</td>\n",
              "      <td>No</td>\n",
              "      <td>62</td>\n",
              "      <td>10</td>\n",
              "      <td>3</td>\n",
              "      <td>2</td>\n",
              "      <td>5</td>\n",
              "      <td>6.4</td>\n",
              "    </tr>\n",
              "  </tbody>\n",
              "</table>\n",
              "</div>"
            ],
            "text/plain": [
              "                Employee ID  ... Employee satisfaction score\n",
              "0  fffe31003300390039003000  ...                         7.7\n",
              "1  fffe31003300310037003800  ...                         5.2\n",
              "2  fffe33003400380035003900  ...                         5.9\n",
              "3      fffe3100370039003200  ...                         4.6\n",
              "4  fffe32003600390036003700  ...                         6.4\n",
              "\n",
              "[5 rows x 11 columns]"
            ]
          },
          "metadata": {
            "tags": []
          },
          "execution_count": 59
        }
      ]
    },
    {
      "cell_type": "markdown",
      "metadata": {
        "id": "d5drhSvLH15T"
      },
      "source": [
        "# **Data Preprocessing**\n",
        "\n",
        "#Rename columns"
      ]
    },
    {
      "cell_type": "code",
      "metadata": {
        "id": "kL-YVNAqIDv1",
        "colab": {
          "base_uri": "https://localhost:8080/"
        },
        "outputId": "382e36c0-b906-43aa-98e1-dd7a0ba18e92"
      },
      "source": [
        "train = train_main.rename(columns = {'Employee ID': 'Emp_ID',\t'Date of Joining': 'Join_date',\t'Company Type': 'Comp_type',\t'WFH Setup Available': 'WFH',\t'Vacations taken': 'Vacation',\t'Designation': 'Desig',\t'Average Hours worked per day': 'work_hours','Employee satisfaction score': 'Satisfaction', 'Mental Fatigue Score': 'Fatigue'}, inplace = False )\n",
        "print(train)\n",
        "\n",
        "test = test_main.rename(columns = {'Employee ID': 'Emp_ID',\t'Date of Joining': 'Join_date',\t'Company Type': 'Comp_type',\t'WFH Setup Available': 'WFH',\t'Vacations taken': 'Vacation',\t'Designation': 'Desig',\t'Average Hours worked per day': 'work_hours','Employee satisfaction score': 'Satisfaction'}, inplace = False )\n",
        "print(test)"
      ],
      "execution_count": 60,
      "outputs": [
        {
          "output_type": "stream",
          "text": [
            "                         Emp_ID   Join_date  ... Satisfaction Fatigue\n",
            "0      fffe32003000360033003200   9/30/2008  ...          3.8    0.16\n",
            "1          fffe3700360033003500  11/30/2008  ...          5.0    0.36\n",
            "2      fffe31003300320037003900   3/10/2008  ...          5.8    0.49\n",
            "3      fffe32003400380032003900   11/3/2008  ...          2.6    0.20\n",
            "4      fffe31003900340031003600   7/24/2008  ...          6.9    0.52\n",
            "...                         ...         ...  ...          ...     ...\n",
            "22745  fffe31003500370039003100  12/30/2008  ...          NaN    0.41\n",
            "22746  fffe33003000350031003800   1/19/2008  ...          6.7    0.59\n",
            "22747          fffe390032003000   11/5/2008  ...          NaN    0.72\n",
            "22748  fffe33003300320036003900   1/10/2008  ...          5.9    0.52\n",
            "22749      fffe3400350031003800    1/6/2008  ...          7.8    0.61\n",
            "\n",
            "[22750 rows x 12 columns]\n",
            "                         Emp_ID   Join_date  ... work_hours Satisfaction\n",
            "0      fffe31003300390039003000  12/10/2008  ...          5          7.7\n",
            "1      fffe31003300310037003800   8/14/2008  ...          2          5.2\n",
            "2      fffe33003400380035003900  11/13/2008  ...          3          5.9\n",
            "3          fffe3100370039003200    2/7/2008  ...          6          4.6\n",
            "4      fffe32003600390036003700   7/17/2008  ...          5          6.4\n",
            "...                         ...         ...  ...        ...          ...\n",
            "12245      fffe3900310034003700   10/2/2008  ...          2          6.1\n",
            "12246  fffe32003600330034003000   3/31/2008  ...          4          5.9\n",
            "12247  fffe31003800340039003000   2/12/2008  ...          7          9.6\n",
            "12248  fffe32003600380031003800    2/6/2008  ...          6          6.7\n",
            "12249  fffe32003100390037003800    8/5/2008  ...          2          2.0\n",
            "\n",
            "[12250 rows x 11 columns]\n"
          ],
          "name": "stdout"
        }
      ]
    },
    {
      "cell_type": "markdown",
      "metadata": {
        "id": "q7dapQobaznF"
      },
      "source": [
        "#Feature set reduction"
      ]
    },
    {
      "cell_type": "code",
      "metadata": {
        "colab": {
          "base_uri": "https://localhost:8080/"
        },
        "id": "eLbO9idecDXn",
        "outputId": "e07aa3d8-9cde-4a40-e434-fb5674aed3d7"
      },
      "source": [
        "#train = train.drop(columns='Emp_ID', axis=1)\n",
        "#train = train.drop(columns='Join_date', axis=1)\n",
        "#train = train.drop(columns='Comp_type', axis=1)\n",
        "#train = train.drop(columns='Age', axis=1)\n",
        "#train = train.drop(columns='Tenure', axis=1)\n",
        "#train = train.drop(columns='Vacation', axis=1)\n",
        "####train = train.drop(columns='Gender', axis=1)\n",
        "\n",
        "train = train.drop(columns = ['Emp_ID', 'Join_date', 'Comp_type', 'Age', 'Tenure', 'Vacation'], axis=1)\n",
        "\n",
        "train.isna().sum()"
      ],
      "execution_count": 61,
      "outputs": [
        {
          "output_type": "execute_result",
          "data": {
            "text/plain": [
              "Gender             0\n",
              "WFH                0\n",
              "Desig              0\n",
              "work_hours      1381\n",
              "Satisfaction    2117\n",
              "Fatigue         1011\n",
              "dtype: int64"
            ]
          },
          "metadata": {
            "tags": []
          },
          "execution_count": 61
        }
      ]
    },
    {
      "cell_type": "code",
      "metadata": {
        "colab": {
          "base_uri": "https://localhost:8080/"
        },
        "id": "3G6cQawuDlko",
        "outputId": "ef7772d7-916c-43fc-8c4e-4afff9e62a5e"
      },
      "source": [
        "#test = test.drop(columns='Emp_ID', axis=1)\n",
        "#test = test.drop(columns='Join_date', axis=1)\n",
        "#test = test.drop(columns='Comp_type', axis=1)\n",
        "#test = test.drop(columns='Age', axis=1)\n",
        "#test = test.drop(columns='Tenure', axis=1)\n",
        "#test = test.drop(columns='Vacation', axis=1)\n",
        "####test = test.drop(columns='Gender', axis=1)\n",
        "\n",
        "test = test.drop(columns = ['Emp_ID', 'Join_date', 'Comp_type', 'Age', 'Tenure', 'Vacation'], axis=1)\n",
        "\n",
        "test.isna().sum()"
      ],
      "execution_count": 62,
      "outputs": [
        {
          "output_type": "execute_result",
          "data": {
            "text/plain": [
              "Gender          0\n",
              "WFH             0\n",
              "Desig           0\n",
              "work_hours      0\n",
              "Satisfaction    0\n",
              "dtype: int64"
            ]
          },
          "metadata": {
            "tags": []
          },
          "execution_count": 62
        }
      ]
    },
    {
      "cell_type": "code",
      "metadata": {
        "id": "Lvll__eaZrnQ"
      },
      "source": [
        "#missing values treatment of train dataset\n",
        "\n",
        "#miss_index = train.loc[train['Fatigue'].isna(), :].index\n",
        "#train = train.drop(miss_index, axis=0).reset_index(drop = True)\n",
        "#for column in ['work_hours', 'Satisfaction']:\n",
        "#  train[column] = train[column].fillna(train[column].median())\n",
        "\n",
        "train = train.dropna(axis=0)"
      ],
      "execution_count": 63,
      "outputs": []
    },
    {
      "cell_type": "code",
      "metadata": {
        "id": "zXx5zrFhcsZE"
      },
      "source": [
        "#train['Join_date'] = pd.to_datetime(train['Join_date'])\n",
        "#train['Join_year'] = train['Join_date'].apply(lambda x: x.year)\n",
        "#train['Join_month'] = train['Join_date'].apply(lambda x: x.month)\n",
        "#train['Join_day'] = train['Join_date'].apply(lambda x: x.day)\n",
        "#train = train.drop('Join_date', axis=1)"
      ],
      "execution_count": 64,
      "outputs": []
    },
    {
      "cell_type": "code",
      "metadata": {
        "id": "_407srusD1pY"
      },
      "source": [
        "#test['Join_date'] = pd.to_datetime(test['Join_date'])\n",
        "#test['Join_year'] = test['Join_date'].apply(lambda x: x.year)\n",
        "#test['Join_month'] = test['Join_date'].apply(lambda x: x.month)\n",
        "#test['Join_day'] = test['Join_date'].apply(lambda x: x.day)\n",
        "#test = test.drop('Join_date', axis=1)"
      ],
      "execution_count": 65,
      "outputs": []
    },
    {
      "cell_type": "code",
      "metadata": {
        "id": "UK2FnOBjbvG3"
      },
      "source": [
        "#Normalization and Encoding - train dataset\n",
        "\n",
        "train['Gender'] = train['Gender'].replace({'Female': 0, 'Male': 1})\n",
        "#train['Comp_type'] = train['Comp_type'].replace({'Product': 0, 'Service': 1})\n",
        "train['WFH'] = train['WFH'].replace({'No': 0, 'Yes': 1})"
      ],
      "execution_count": 66,
      "outputs": []
    },
    {
      "cell_type": "code",
      "metadata": {
        "id": "SswRrHqkEErd"
      },
      "source": [
        "#Normalization and Encoding - test dataset\n",
        "\n",
        "test['Gender'] = test['Gender'].replace({'Female': 0, 'Male': 1})\n",
        "#test['Comp_type'] = test['Comp_type'].replace({'Product': 0, 'Service': 1})\n",
        "test['WFH'] = test['WFH'].replace({'No': 0, 'Yes': 1})"
      ],
      "execution_count": 67,
      "outputs": []
    },
    {
      "cell_type": "code",
      "metadata": {
        "colab": {
          "base_uri": "https://localhost:8080/",
          "height": 288
        },
        "id": "YB1szIR0erXl",
        "outputId": "e8124454-cefa-4679-f647-cb199317687f"
      },
      "source": [
        "train.describe(include= 'all')"
      ],
      "execution_count": 68,
      "outputs": [
        {
          "output_type": "execute_result",
          "data": {
            "text/html": [
              "<div>\n",
              "<style scoped>\n",
              "    .dataframe tbody tr th:only-of-type {\n",
              "        vertical-align: middle;\n",
              "    }\n",
              "\n",
              "    .dataframe tbody tr th {\n",
              "        vertical-align: top;\n",
              "    }\n",
              "\n",
              "    .dataframe thead th {\n",
              "        text-align: right;\n",
              "    }\n",
              "</style>\n",
              "<table border=\"1\" class=\"dataframe\">\n",
              "  <thead>\n",
              "    <tr style=\"text-align: right;\">\n",
              "      <th></th>\n",
              "      <th>Gender</th>\n",
              "      <th>WFH</th>\n",
              "      <th>Desig</th>\n",
              "      <th>work_hours</th>\n",
              "      <th>Satisfaction</th>\n",
              "      <th>Fatigue</th>\n",
              "    </tr>\n",
              "  </thead>\n",
              "  <tbody>\n",
              "    <tr>\n",
              "      <th>count</th>\n",
              "      <td>18670.000000</td>\n",
              "      <td>18670.000000</td>\n",
              "      <td>18670.000000</td>\n",
              "      <td>18670.000000</td>\n",
              "      <td>18670.000000</td>\n",
              "      <td>18670.000000</td>\n",
              "    </tr>\n",
              "    <tr>\n",
              "      <th>mean</th>\n",
              "      <td>0.475683</td>\n",
              "      <td>0.539314</td>\n",
              "      <td>2.179272</td>\n",
              "      <td>4.486127</td>\n",
              "      <td>5.731901</td>\n",
              "      <td>0.450506</td>\n",
              "    </tr>\n",
              "    <tr>\n",
              "      <th>std</th>\n",
              "      <td>0.499422</td>\n",
              "      <td>0.498465</td>\n",
              "      <td>1.133137</td>\n",
              "      <td>2.044760</td>\n",
              "      <td>1.920240</td>\n",
              "      <td>0.199623</td>\n",
              "    </tr>\n",
              "    <tr>\n",
              "      <th>min</th>\n",
              "      <td>0.000000</td>\n",
              "      <td>0.000000</td>\n",
              "      <td>0.000000</td>\n",
              "      <td>1.000000</td>\n",
              "      <td>0.000000</td>\n",
              "      <td>0.000000</td>\n",
              "    </tr>\n",
              "    <tr>\n",
              "      <th>25%</th>\n",
              "      <td>0.000000</td>\n",
              "      <td>0.000000</td>\n",
              "      <td>1.000000</td>\n",
              "      <td>3.000000</td>\n",
              "      <td>4.600000</td>\n",
              "      <td>0.310000</td>\n",
              "    </tr>\n",
              "    <tr>\n",
              "      <th>50%</th>\n",
              "      <td>0.000000</td>\n",
              "      <td>1.000000</td>\n",
              "      <td>2.000000</td>\n",
              "      <td>4.000000</td>\n",
              "      <td>5.900000</td>\n",
              "      <td>0.450000</td>\n",
              "    </tr>\n",
              "    <tr>\n",
              "      <th>75%</th>\n",
              "      <td>1.000000</td>\n",
              "      <td>1.000000</td>\n",
              "      <td>3.000000</td>\n",
              "      <td>6.000000</td>\n",
              "      <td>7.100000</td>\n",
              "      <td>0.590000</td>\n",
              "    </tr>\n",
              "    <tr>\n",
              "      <th>max</th>\n",
              "      <td>1.000000</td>\n",
              "      <td>1.000000</td>\n",
              "      <td>5.000000</td>\n",
              "      <td>10.000000</td>\n",
              "      <td>10.000000</td>\n",
              "      <td>1.000000</td>\n",
              "    </tr>\n",
              "  </tbody>\n",
              "</table>\n",
              "</div>"
            ],
            "text/plain": [
              "             Gender           WFH  ...  Satisfaction       Fatigue\n",
              "count  18670.000000  18670.000000  ...  18670.000000  18670.000000\n",
              "mean       0.475683      0.539314  ...      5.731901      0.450506\n",
              "std        0.499422      0.498465  ...      1.920240      0.199623\n",
              "min        0.000000      0.000000  ...      0.000000      0.000000\n",
              "25%        0.000000      0.000000  ...      4.600000      0.310000\n",
              "50%        0.000000      1.000000  ...      5.900000      0.450000\n",
              "75%        1.000000      1.000000  ...      7.100000      0.590000\n",
              "max        1.000000      1.000000  ...     10.000000      1.000000\n",
              "\n",
              "[8 rows x 6 columns]"
            ]
          },
          "metadata": {
            "tags": []
          },
          "execution_count": 68
        }
      ]
    },
    {
      "cell_type": "markdown",
      "metadata": {
        "id": "tfY6vfviZBZc"
      },
      "source": [
        "##Data Visualization"
      ]
    },
    {
      "cell_type": "code",
      "metadata": {
        "colab": {
          "base_uri": "https://localhost:8080/",
          "height": 282
        },
        "id": "Oq0yF4q8KWzA",
        "outputId": "5c0c8142-2d42-41c7-cd70-fa9981fdee8f"
      },
      "source": [
        "# plot scatter graph\n",
        "#print(plt.scatter(train.work_hours, train.Fatigue))\n",
        "print(plt.scatter(train.Satisfaction, train.Fatigue))"
      ],
      "execution_count": 69,
      "outputs": [
        {
          "output_type": "stream",
          "text": [
            "<matplotlib.collections.PathCollection object at 0x7f594509aad0>\n"
          ],
          "name": "stdout"
        },
        {
          "output_type": "display_data",
          "data": {
            "image/png": "[encoded data removed]",
            "text/plain": [
              "<Figure size 432x288 with 1 Axes>"
            ]
          },
          "metadata": {
            "tags": [],
            "needs_background": "light"
          }
        }
      ]
    },
    {
      "cell_type": "code",
      "metadata": {
        "colab": {
          "base_uri": "https://localhost:8080/",
          "height": 287
        },
        "id": "tgrsLBeYL-48",
        "outputId": "374f0442-98eb-44a6-b016-4fab61d6657b"
      },
      "source": [
        "# check correlation by using matplotlib\n",
        "\n",
        "#data_corr = train.corr()\n",
        "##train_numeric = train[[ 'Age', 'Desig', 'Tenure', 'Vacation', 'work_hours', 'Satisfaction', 'Fatigue']] \n",
        "train_numeric = train[[ 'Desig', 'work_hours', 'Satisfaction', 'Fatigue']]\n",
        "data_corr = train_numeric.corr()\n",
        "\n",
        "sns.heatmap(data_corr, xticklabels= data_corr.columns, yticklabels= data_corr.columns,annot=True)"
      ],
      "execution_count": 70,
      "outputs": [
        {
          "output_type": "execute_result",
          "data": {
            "text/plain": [
              "<matplotlib.axes._subplots.AxesSubplot at 0x7f5945873a50>"
            ]
          },
          "metadata": {
            "tags": []
          },
          "execution_count": 70
        },
        {
          "output_type": "display_data",
          "data": {
            "image/png": "[encoded data removed]",
            "text/plain": [
              "<Figure size 432x288 with 2 Axes>"
            ]
          },
          "metadata": {
            "tags": [],
            "needs_background": "light"
          }
        }
      ]
    },
    {
      "cell_type": "markdown",
      "metadata": {
        "id": "jUXJcg8rkMP0"
      },
      "source": [
        "# **Train the Model**"
      ]
    },
    {
      "cell_type": "code",
      "metadata": {
        "id": "Tvk7_J3mkuoq",
        "colab": {
          "base_uri": "https://localhost:8080/"
        },
        "outputId": "801dcc7b-b45a-4d12-c4fc-d6b2af19d405"
      },
      "source": [
        "# split the train dataset into train and test to train the model\n",
        "y=train['Fatigue']\n",
        "X=train.drop('Fatigue', axis=1)\n",
        "\n",
        "X_train, X_test, y_train, y_test = train_test_split(X, y, train_size = 0.75, shuffle=True, random_state=1)\n",
        "\n",
        "# scale the train data\n",
        "trainsc = StandardScaler()\n",
        "trainsc.fit(X_train)\n",
        "X_train = pd.DataFrame(trainsc.transform(X_train), index=X_train.index, columns=X_train.columns)\n",
        "X_test = pd.DataFrame(trainsc.transform(X_test), index=X_test.index, columns=X_test.columns)\n",
        "\n",
        "# use Linear Regression\n",
        "#mod = LinearRegression()\n",
        "\n",
        "# use LightGBM regressor model\n",
        "mod = LGBMRegressor()\n",
        "mod.fit(X_train, y_train)"
      ],
      "execution_count": 71,
      "outputs": [
        {
          "output_type": "execute_result",
          "data": {
            "text/plain": [
              "LGBMRegressor(boosting_type='gbdt', class_weight=None, colsample_bytree=1.0,\n",
              "              importance_type='split', learning_rate=0.1, max_depth=-1,\n",
              "              min_child_samples=20, min_child_weight=0.001, min_split_gain=0.0,\n",
              "              n_estimators=100, n_jobs=-1, num_leaves=31, objective=None,\n",
              "              random_state=None, reg_alpha=0.0, reg_lambda=0.0, silent=True,\n",
              "              subsample=1.0, subsample_for_bin=200000, subsample_freq=0)"
            ]
          },
          "metadata": {
            "tags": []
          },
          "execution_count": 71
        }
      ]
    },
    {
      "cell_type": "code",
      "metadata": {
        "colab": {
          "base_uri": "https://localhost:8080/"
        },
        "id": "deBiG7H4lLU7",
        "outputId": "fdfd13b7-e2bf-453e-f0d9-bd6c53340e0d"
      },
      "source": [
        "print(mod.score(X_test, y_test))"
      ],
      "execution_count": 72,
      "outputs": [
        {
          "output_type": "stream",
          "text": [
            "0.9022791446897924\n"
          ],
          "name": "stdout"
        }
      ]
    },
    {
      "cell_type": "markdown",
      "metadata": {
        "id": "0S4MOB2QEcz4"
      },
      "source": [
        "# **Predict using the Model**"
      ]
    },
    {
      "cell_type": "code",
      "metadata": {
        "id": "Tgy7AkUGlTDK",
        "colab": {
          "base_uri": "https://localhost:8080/"
        },
        "outputId": "753d7c21-bc21-4240-e750-526910d2ab51"
      },
      "source": [
        "# scale the test data\n",
        "testsc = StandardScaler()\n",
        "testsc.fit(test)\n",
        "testop = pd.DataFrame(testsc.transform(test), index=test.index, columns=test.columns)\n",
        "\n",
        "# predict the fatigue score\n",
        "output = mod.predict(testop)\n",
        "\n",
        "# add Employee ID column\n",
        "eid = test_main.pop('Employee ID')\n",
        "output = pd.DataFrame(output)\n",
        "output.insert(0, 'Employee ID', eid)\n",
        "\n",
        "# rename column 2 as \"Mental Fatigue Score\"\n",
        "output = output.rename(columns={output.columns[1]: 'Mental Fatigue Score'})\n",
        "output = output.round({\"Mental Fatigue Score\":2})\n",
        "print(output)\n",
        "\n",
        "# write output file to Google drive\n",
        "output_path = '/content/drive/MyDrive/VaishamyaHarini_Case4_Final.csv'\n",
        "output.to_csv(output_path, index=False)"
      ],
      "execution_count": 73,
      "outputs": [
        {
          "output_type": "stream",
          "text": [
            "                    Employee ID  Mental Fatigue Score\n",
            "0      fffe31003300390039003000                  0.61\n",
            "1      fffe31003300310037003800                  0.35\n",
            "2      fffe33003400380035003900                  0.43\n",
            "3          fffe3100370039003200                  0.38\n",
            "4      fffe32003600390036003700                  0.53\n",
            "...                         ...                   ...\n",
            "12245      fffe3900310034003700                  0.42\n",
            "12246  fffe32003600330034003000                  0.43\n",
            "12247  fffe31003800340039003000                  0.83\n",
            "12248  fffe32003600380031003800                  0.58\n",
            "12249  fffe32003100390037003800                  0.12\n",
            "\n",
            "[12250 rows x 2 columns]\n"
          ],
          "name": "stdout"
        }
      ]
    }
  ]
}