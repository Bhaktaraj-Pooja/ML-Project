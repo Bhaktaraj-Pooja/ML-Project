{
  "nbformat": 4,
  "nbformat_minor": 0,
  "metadata": {
    "colab": {
      "name": "Case4.ipynb",
      "provenance": [],
      "include_colab_link": true
    },
    "kernelspec": {
      "name": "python3",
      "display_name": "Python 3"
    },
    "language_info": {
      "name": "python"
    }
  },
  "cells": [
    {
      "cell_type": "markdown",
      "metadata": {
        "id": "view-in-github",
        "colab_type": "text"
      },
      "source": [
        "<a href=\"https://colab.research.google.com/github/Bhaktaraj-Pooja/ML-Project/blob/main/Case4_Work_Life_Balance_Final.ipynb\" target=\"_parent\"><img src=\"https://colab.research.google.com/assets/colab-badge.svg\" alt=\"Open In Colab\"/></a>"
      ]
    },
    {
      "cell_type": "markdown",
      "metadata": {
        "id": "02EoeRjuub1z"
      },
      "source": [
        "#**Case 4 - Work life balance**\n",
        "\n",
        "#**Import dataset into Python**\n",
        "#Import necessary Libraries"
      ]
    },
    {
      "cell_type": "code",
      "metadata": {
        "id": "hwKlpknxua6F"
      },
      "source": [
        "import pandas as pd\n",
        "import matplotlib as mpl\n",
        "import matplotlib.pyplot as plt\n",
        "import numpy as np\n",
        "\n",
        "from sklearn import preprocessing\n",
        "#from sklearn.preprocessing import StandardScaler\n",
        "from sklearn.model_selection import train_test_split\n",
        "from sklearn.linear_model import LinearRegression, Ridge, Lasso\n",
        "from sklearn.neural_network import MLPRegressor\n",
        "from xgboost import XGBRegressor\n",
        "from lightgbm import LGBMRegressor\n",
        "\n",
        "import warnings\n",
        "warnings.filterwarnings(action='ignore')"
      ],
      "execution_count": null,
      "outputs": []
    },
    {
      "cell_type": "markdown",
      "metadata": {
        "id": "6baczS8djYqH"
      },
      "source": [
        "#Mount Google Drive to read dataset"
      ]
    },
    {
      "cell_type": "code",
      "metadata": {
        "colab": {
          "base_uri": "https://localhost:8080/"
        },
        "id": "rWk1BrtUVJGp",
        "outputId": "b5705032-f95e-400a-b7d5-7dd7d85cbeae"
      },
      "source": [
        "from google.colab import drive\n",
        "drive.mount('/content/drive')"
      ],
      "execution_count": null,
      "outputs": [
        {
          "output_type": "stream",
          "text": [
            "Drive already mounted at /content/drive; to attempt to forcibly remount, call drive.mount(\"/content/drive\", force_remount=True).\n"
          ],
          "name": "stdout"
        }
      ]
    },
    {
      "cell_type": "markdown",
      "metadata": {
        "id": "c8mW_rjLjgvg"
      },
      "source": [
        "#Import Train and Test dataset"
      ]
    },
    {
      "cell_type": "code",
      "metadata": {
        "id": "61-rc5LI-p9s"
      },
      "source": [
        "train_path = '/content/drive/MyDrive/train.csv'\n",
        "test_path = '/content/drive/MyDrive/test.csv'\n",
        "\n",
        "train_main = pd.read_csv(train_path)\n",
        "test_main = pd.read_csv(test_path)"
      ],
      "execution_count": null,
      "outputs": []
    },
    {
      "cell_type": "markdown",
      "metadata": {
        "id": "SDdFILYJkd0b"
      },
      "source": [
        "#Basic functions to check the Dataset"
      ]
    },
    {
      "cell_type": "code",
      "metadata": {
        "colab": {
          "base_uri": "https://localhost:8080/"
        },
        "id": "Z8lh5nisAa2m",
        "outputId": "bc8a4513-7c69-4e5b-b90d-958d28ae3b0c"
      },
      "source": [
        "print(train_main.shape)\n",
        "print(test_main.shape)"
      ],
      "execution_count": null,
      "outputs": [
        {
          "output_type": "execute_result",
          "data": {
            "text/plain": [
              "(22750, 12)"
            ]
          },
          "metadata": {
            "tags": []
          },
          "execution_count": 542
        }
      ]
    },
    {
      "cell_type": "code",
      "metadata": {
        "colab": {
          "base_uri": "https://localhost:8080/"
        },
        "id": "iL9r2B0LAiy7",
        "outputId": "59f3dd20-c271-4ed5-b286-e4c3ae577121"
      },
      "source": [
        "print(train_main.columns)\n",
        "print(test_main.columns)"
      ],
      "execution_count": null,
      "outputs": [
        {
          "output_type": "execute_result",
          "data": {
            "text/plain": [
              "Index(['Employee ID', 'Date of Joining', 'Gender', 'Company Type',\n",
              "       'WFH Setup Available', 'Age', 'Tenure', 'Vacations taken',\n",
              "       'Designation', 'Average Hours worked per day',\n",
              "       'Employee satisfaction score', 'Mental Fatigue Score'],\n",
              "      dtype='object')"
            ]
          },
          "metadata": {
            "tags": []
          },
          "execution_count": 543
        }
      ]
    },
    {
      "cell_type": "code",
      "metadata": {
        "colab": {
          "base_uri": "https://localhost:8080/"
        },
        "id": "FlCyAIVaAwK_",
        "outputId": "53f680b2-3ab9-4794-8713-2659a59dd96e"
      },
      "source": [
        "print(train_main.dtypes)\n",
        "print(test_main.dtypes)"
      ],
      "execution_count": null,
      "outputs": [
        {
          "output_type": "execute_result",
          "data": {
            "text/plain": [
              "Employee ID                      object\n",
              "Date of Joining                  object\n",
              "Gender                           object\n",
              "Company Type                     object\n",
              "WFH Setup Available              object\n",
              "Age                               int64\n",
              "Tenure                            int64\n",
              "Vacations taken                   int64\n",
              "Designation                       int64\n",
              "Average Hours worked per day    float64\n",
              "Employee satisfaction score     float64\n",
              "Mental Fatigue Score            float64\n",
              "dtype: object"
            ]
          },
          "metadata": {
            "tags": []
          },
          "execution_count": 544
        }
      ]
    },
    {
      "cell_type": "markdown",
      "metadata": {
        "id": "ysrz48U5_Ai3"
      },
      "source": [
        "# Displaying some rows from the begining of dataset"
      ]
    },
    {
      "cell_type": "code",
      "metadata": {
        "colab": {
          "base_uri": "https://localhost:8080/",
          "height": 832
        },
        "id": "3VrF3qpOFj-f",
        "outputId": "48e255c7-0b34-4c09-88a4-fda5f68f7251"
      },
      "source": [
        "train_main.head(5)"
      ],
      "execution_count": null,
      "outputs": [
        {
          "output_type": "execute_result",
          "data": {
            "text/html": [
              "<div>\n",
              "<style scoped>\n",
              "    .dataframe tbody tr th:only-of-type {\n",
              "        vertical-align: middle;\n",
              "    }\n",
              "\n",
              "    .dataframe tbody tr th {\n",
              "        vertical-align: top;\n",
              "    }\n",
              "\n",
              "    .dataframe thead th {\n",
              "        text-align: right;\n",
              "    }\n",
              "</style>\n",
              "<table border=\"1\" class=\"dataframe\">\n",
              "  <thead>\n",
              "    <tr style=\"text-align: right;\">\n",
              "      <th></th>\n",
              "      <th>Employee ID</th>\n",
              "      <th>Date of Joining</th>\n",
              "      <th>Gender</th>\n",
              "      <th>Company Type</th>\n",
              "      <th>WFH Setup Available</th>\n",
              "      <th>Age</th>\n",
              "      <th>Tenure</th>\n",
              "      <th>Vacations taken</th>\n",
              "      <th>Designation</th>\n",
              "      <th>Average Hours worked per day</th>\n",
              "      <th>Employee satisfaction score</th>\n",
              "      <th>Mental Fatigue Score</th>\n",
              "    </tr>\n",
              "  </thead>\n",
              "  <tbody>\n",
              "    <tr>\n",
              "      <th>0</th>\n",
              "      <td>fffe32003000360033003200</td>\n",
              "      <td>9/30/2008</td>\n",
              "      <td>Female</td>\n",
              "      <td>Service</td>\n",
              "      <td>No</td>\n",
              "      <td>52</td>\n",
              "      <td>18</td>\n",
              "      <td>8</td>\n",
              "      <td>2</td>\n",
              "      <td>3.0</td>\n",
              "      <td>3.8</td>\n",
              "      <td>0.16</td>\n",
              "    </tr>\n",
              "    <tr>\n",
              "      <th>1</th>\n",
              "      <td>fffe3700360033003500</td>\n",
              "      <td>11/30/2008</td>\n",
              "      <td>Male</td>\n",
              "      <td>Service</td>\n",
              "      <td>Yes</td>\n",
              "      <td>26</td>\n",
              "      <td>12</td>\n",
              "      <td>4</td>\n",
              "      <td>1</td>\n",
              "      <td>2.0</td>\n",
              "      <td>5.0</td>\n",
              "      <td>0.36</td>\n",
              "    </tr>\n",
              "    <tr>\n",
              "      <th>2</th>\n",
              "      <td>fffe31003300320037003900</td>\n",
              "      <td>3/10/2008</td>\n",
              "      <td>Female</td>\n",
              "      <td>Product</td>\n",
              "      <td>Yes</td>\n",
              "      <td>63</td>\n",
              "      <td>20</td>\n",
              "      <td>4</td>\n",
              "      <td>2</td>\n",
              "      <td>NaN</td>\n",
              "      <td>5.8</td>\n",
              "      <td>0.49</td>\n",
              "    </tr>\n",
              "    <tr>\n",
              "      <th>3</th>\n",
              "      <td>fffe32003400380032003900</td>\n",
              "      <td>11/3/2008</td>\n",
              "      <td>Male</td>\n",
              "      <td>Service</td>\n",
              "      <td>Yes</td>\n",
              "      <td>59</td>\n",
              "      <td>20</td>\n",
              "      <td>12</td>\n",
              "      <td>1</td>\n",
              "      <td>1.0</td>\n",
              "      <td>2.6</td>\n",
              "      <td>0.20</td>\n",
              "    </tr>\n",
              "    <tr>\n",
              "      <th>4</th>\n",
              "      <td>fffe31003900340031003600</td>\n",
              "      <td>7/24/2008</td>\n",
              "      <td>Female</td>\n",
              "      <td>Service</td>\n",
              "      <td>No</td>\n",
              "      <td>63</td>\n",
              "      <td>10</td>\n",
              "      <td>9</td>\n",
              "      <td>3</td>\n",
              "      <td>7.0</td>\n",
              "      <td>6.9</td>\n",
              "      <td>0.52</td>\n",
              "    </tr>\n",
              "    <tr>\n",
              "      <th>5</th>\n",
              "      <td>fffe3300350037003500</td>\n",
              "      <td>11/26/2008</td>\n",
              "      <td>Male</td>\n",
              "      <td>Product</td>\n",
              "      <td>Yes</td>\n",
              "      <td>44</td>\n",
              "      <td>8</td>\n",
              "      <td>10</td>\n",
              "      <td>2</td>\n",
              "      <td>4.0</td>\n",
              "      <td>3.6</td>\n",
              "      <td>0.29</td>\n",
              "    </tr>\n",
              "    <tr>\n",
              "      <th>6</th>\n",
              "      <td>fffe33003300340039003100</td>\n",
              "      <td>1/2/2008</td>\n",
              "      <td>Female</td>\n",
              "      <td>Service</td>\n",
              "      <td>No</td>\n",
              "      <td>62</td>\n",
              "      <td>16</td>\n",
              "      <td>11</td>\n",
              "      <td>3</td>\n",
              "      <td>6.0</td>\n",
              "      <td>7.9</td>\n",
              "      <td>0.62</td>\n",
              "    </tr>\n",
              "    <tr>\n",
              "      <th>7</th>\n",
              "      <td>fffe32003600320037003400</td>\n",
              "      <td>10/31/2008</td>\n",
              "      <td>Female</td>\n",
              "      <td>Service</td>\n",
              "      <td>Yes</td>\n",
              "      <td>31</td>\n",
              "      <td>16</td>\n",
              "      <td>6</td>\n",
              "      <td>2</td>\n",
              "      <td>4.0</td>\n",
              "      <td>4.4</td>\n",
              "      <td>0.33</td>\n",
              "    </tr>\n",
              "    <tr>\n",
              "      <th>8</th>\n",
              "      <td>fffe32003200300034003700</td>\n",
              "      <td>12/27/2008</td>\n",
              "      <td>Female</td>\n",
              "      <td>Service</td>\n",
              "      <td>No</td>\n",
              "      <td>23</td>\n",
              "      <td>15</td>\n",
              "      <td>9</td>\n",
              "      <td>3</td>\n",
              "      <td>6.0</td>\n",
              "      <td>NaN</td>\n",
              "      <td>0.56</td>\n",
              "    </tr>\n",
              "    <tr>\n",
              "      <th>9</th>\n",
              "      <td>fffe31003600320030003200</td>\n",
              "      <td>3/9/2008</td>\n",
              "      <td>Female</td>\n",
              "      <td>Product</td>\n",
              "      <td>No</td>\n",
              "      <td>27</td>\n",
              "      <td>1</td>\n",
              "      <td>2</td>\n",
              "      <td>3</td>\n",
              "      <td>6.0</td>\n",
              "      <td>NaN</td>\n",
              "      <td>0.67</td>\n",
              "    </tr>\n",
              "    <tr>\n",
              "      <th>10</th>\n",
              "      <td>fffe33003100330032003700</td>\n",
              "      <td>3/16/2008</td>\n",
              "      <td>Male</td>\n",
              "      <td>Product</td>\n",
              "      <td>Yes</td>\n",
              "      <td>56</td>\n",
              "      <td>2</td>\n",
              "      <td>1</td>\n",
              "      <td>2</td>\n",
              "      <td>3.0</td>\n",
              "      <td>5.3</td>\n",
              "      <td>0.50</td>\n",
              "    </tr>\n",
              "    <tr>\n",
              "      <th>11</th>\n",
              "      <td>fffe3400310035003800</td>\n",
              "      <td>5/12/2008</td>\n",
              "      <td>Male</td>\n",
              "      <td>Service</td>\n",
              "      <td>Yes</td>\n",
              "      <td>27</td>\n",
              "      <td>20</td>\n",
              "      <td>12</td>\n",
              "      <td>0</td>\n",
              "      <td>1.0</td>\n",
              "      <td>1.8</td>\n",
              "      <td>0.12</td>\n",
              "    </tr>\n",
              "    <tr>\n",
              "      <th>12</th>\n",
              "      <td>fffe32003100300030003700</td>\n",
              "      <td>1/20/2008</td>\n",
              "      <td>Male</td>\n",
              "      <td>Service</td>\n",
              "      <td>Yes</td>\n",
              "      <td>47</td>\n",
              "      <td>13</td>\n",
              "      <td>10</td>\n",
              "      <td>2</td>\n",
              "      <td>5.0</td>\n",
              "      <td>NaN</td>\n",
              "      <td>0.40</td>\n",
              "    </tr>\n",
              "    <tr>\n",
              "      <th>13</th>\n",
              "      <td>fffe31003800330032003500</td>\n",
              "      <td>2/23/2008</td>\n",
              "      <td>Female</td>\n",
              "      <td>Product</td>\n",
              "      <td>No</td>\n",
              "      <td>34</td>\n",
              "      <td>12</td>\n",
              "      <td>0</td>\n",
              "      <td>1</td>\n",
              "      <td>3.0</td>\n",
              "      <td>NaN</td>\n",
              "      <td>0.33</td>\n",
              "    </tr>\n",
              "    <tr>\n",
              "      <th>14</th>\n",
              "      <td>fffe33003100330036003300</td>\n",
              "      <td>5/14/2008</td>\n",
              "      <td>Male</td>\n",
              "      <td>Product</td>\n",
              "      <td>Yes</td>\n",
              "      <td>30</td>\n",
              "      <td>19</td>\n",
              "      <td>3</td>\n",
              "      <td>1</td>\n",
              "      <td>3.0</td>\n",
              "      <td>5.8</td>\n",
              "      <td>0.51</td>\n",
              "    </tr>\n",
              "    <tr>\n",
              "      <th>15</th>\n",
              "      <td>fffe31003700350033003100</td>\n",
              "      <td>2/3/2008</td>\n",
              "      <td>Female</td>\n",
              "      <td>Service</td>\n",
              "      <td>Yes</td>\n",
              "      <td>35</td>\n",
              "      <td>20</td>\n",
              "      <td>10</td>\n",
              "      <td>3</td>\n",
              "      <td>5.0</td>\n",
              "      <td>4.7</td>\n",
              "      <td>0.32</td>\n",
              "    </tr>\n",
              "    <tr>\n",
              "      <th>16</th>\n",
              "      <td>fffe33003200360037003000</td>\n",
              "      <td>3/17/2008</td>\n",
              "      <td>Male</td>\n",
              "      <td>Service</td>\n",
              "      <td>Yes</td>\n",
              "      <td>59</td>\n",
              "      <td>4</td>\n",
              "      <td>11</td>\n",
              "      <td>1</td>\n",
              "      <td>2.0</td>\n",
              "      <td>5.9</td>\n",
              "      <td>0.39</td>\n",
              "    </tr>\n",
              "    <tr>\n",
              "      <th>17</th>\n",
              "      <td>fffe31003500350030003400</td>\n",
              "      <td>3/28/2008</td>\n",
              "      <td>Male</td>\n",
              "      <td>Service</td>\n",
              "      <td>No</td>\n",
              "      <td>35</td>\n",
              "      <td>11</td>\n",
              "      <td>7</td>\n",
              "      <td>3</td>\n",
              "      <td>6.0</td>\n",
              "      <td>6.7</td>\n",
              "      <td>0.59</td>\n",
              "    </tr>\n",
              "    <tr>\n",
              "      <th>18</th>\n",
              "      <td>fffe31003000380035003800</td>\n",
              "      <td>5/29/2008</td>\n",
              "      <td>Female</td>\n",
              "      <td>Product</td>\n",
              "      <td>Yes</td>\n",
              "      <td>60</td>\n",
              "      <td>20</td>\n",
              "      <td>12</td>\n",
              "      <td>2</td>\n",
              "      <td>4.0</td>\n",
              "      <td>4.0</td>\n",
              "      <td>0.22</td>\n",
              "    </tr>\n",
              "    <tr>\n",
              "      <th>19</th>\n",
              "      <td>fffe3300350037003200</td>\n",
              "      <td>6/27/2008</td>\n",
              "      <td>Female</td>\n",
              "      <td>Service</td>\n",
              "      <td>No</td>\n",
              "      <td>58</td>\n",
              "      <td>9</td>\n",
              "      <td>6</td>\n",
              "      <td>3</td>\n",
              "      <td>5.0</td>\n",
              "      <td>NaN</td>\n",
              "      <td>0.68</td>\n",
              "    </tr>\n",
              "    <tr>\n",
              "      <th>20</th>\n",
              "      <td>fffe31003300360039003000</td>\n",
              "      <td>8/31/2008</td>\n",
              "      <td>Male</td>\n",
              "      <td>Product</td>\n",
              "      <td>No</td>\n",
              "      <td>63</td>\n",
              "      <td>6</td>\n",
              "      <td>0</td>\n",
              "      <td>2</td>\n",
              "      <td>4.0</td>\n",
              "      <td>7.6</td>\n",
              "      <td>0.57</td>\n",
              "    </tr>\n",
              "    <tr>\n",
              "      <th>21</th>\n",
              "      <td>fffe32003700370038003300</td>\n",
              "      <td>1/15/2008</td>\n",
              "      <td>Male</td>\n",
              "      <td>Service</td>\n",
              "      <td>Yes</td>\n",
              "      <td>27</td>\n",
              "      <td>3</td>\n",
              "      <td>5</td>\n",
              "      <td>1</td>\n",
              "      <td>3.0</td>\n",
              "      <td>6.3</td>\n",
              "      <td>0.47</td>\n",
              "    </tr>\n",
              "    <tr>\n",
              "      <th>22</th>\n",
              "      <td>fffe31003800390035003300</td>\n",
              "      <td>5/4/2008</td>\n",
              "      <td>Male</td>\n",
              "      <td>Service</td>\n",
              "      <td>Yes</td>\n",
              "      <td>25</td>\n",
              "      <td>17</td>\n",
              "      <td>0</td>\n",
              "      <td>1</td>\n",
              "      <td>3.0</td>\n",
              "      <td>6.7</td>\n",
              "      <td>0.46</td>\n",
              "    </tr>\n",
              "    <tr>\n",
              "      <th>23</th>\n",
              "      <td>fffe3700370035003600</td>\n",
              "      <td>11/17/2008</td>\n",
              "      <td>Female</td>\n",
              "      <td>Product</td>\n",
              "      <td>Yes</td>\n",
              "      <td>62</td>\n",
              "      <td>13</td>\n",
              "      <td>10</td>\n",
              "      <td>3</td>\n",
              "      <td>NaN</td>\n",
              "      <td>7.7</td>\n",
              "      <td>0.61</td>\n",
              "    </tr>\n",
              "    <tr>\n",
              "      <th>24</th>\n",
              "      <td>fffe3700300033003500</td>\n",
              "      <td>9/14/2008</td>\n",
              "      <td>Female</td>\n",
              "      <td>Service</td>\n",
              "      <td>No</td>\n",
              "      <td>22</td>\n",
              "      <td>5</td>\n",
              "      <td>2</td>\n",
              "      <td>3</td>\n",
              "      <td>8.0</td>\n",
              "      <td>NaN</td>\n",
              "      <td>0.91</td>\n",
              "    </tr>\n",
              "  </tbody>\n",
              "</table>\n",
              "</div>"
            ],
            "text/plain": [
              "                 Employee ID  ... Mental Fatigue Score\n",
              "0   fffe32003000360033003200  ...                 0.16\n",
              "1       fffe3700360033003500  ...                 0.36\n",
              "2   fffe31003300320037003900  ...                 0.49\n",
              "3   fffe32003400380032003900  ...                 0.20\n",
              "4   fffe31003900340031003600  ...                 0.52\n",
              "5       fffe3300350037003500  ...                 0.29\n",
              "6   fffe33003300340039003100  ...                 0.62\n",
              "7   fffe32003600320037003400  ...                 0.33\n",
              "8   fffe32003200300034003700  ...                 0.56\n",
              "9   fffe31003600320030003200  ...                 0.67\n",
              "10  fffe33003100330032003700  ...                 0.50\n",
              "11      fffe3400310035003800  ...                 0.12\n",
              "12  fffe32003100300030003700  ...                 0.40\n",
              "13  fffe31003800330032003500  ...                 0.33\n",
              "14  fffe33003100330036003300  ...                 0.51\n",
              "15  fffe31003700350033003100  ...                 0.32\n",
              "16  fffe33003200360037003000  ...                 0.39\n",
              "17  fffe31003500350030003400  ...                 0.59\n",
              "18  fffe31003000380035003800  ...                 0.22\n",
              "19      fffe3300350037003200  ...                 0.68\n",
              "20  fffe31003300360039003000  ...                 0.57\n",
              "21  fffe32003700370038003300  ...                 0.47\n",
              "22  fffe31003800390035003300  ...                 0.46\n",
              "23      fffe3700370035003600  ...                 0.61\n",
              "24      fffe3700300033003500  ...                 0.91\n",
              "\n",
              "[25 rows x 12 columns]"
            ]
          },
          "metadata": {
            "tags": []
          },
          "execution_count": 545
        }
      ]
    },
    {
      "cell_type": "code",
      "metadata": {
        "id": "tQmFoI2Ol-ZH"
      },
      "source": [
        "test_main.head(5)"
      ],
      "execution_count": null,
      "outputs": []
    },
    {
      "cell_type": "markdown",
      "metadata": {
        "id": "d5drhSvLH15T"
      },
      "source": [
        "# **Data Preprocessing**\n",
        "\n",
        "#Rename columns"
      ]
    },
    {
      "cell_type": "code",
      "metadata": {
        "id": "kL-YVNAqIDv1",
        "colab": {
          "base_uri": "https://localhost:8080/"
        },
        "outputId": "894156e7-0336-4eab-cd19-b88b452c3278"
      },
      "source": [
        "train = train_main.rename(columns = {'Employee ID': 'Emp_ID',\t'Date of Joining': 'Join_date',\t'Company Type': 'Comp_type',\t'WFH Setup Available': 'WFH',\t'Vacations taken': 'Vacation',\t'Designation': 'Desig',\t'Average Hours worked per day': 'work_hours','Employee satisfaction score': 'Satisfaction', 'Mental Fatigue Score': 'Fatigue'}, inplace = False )\n",
        "print(train)\n",
        "\n",
        "test = test_main.rename(columns = {'Employee ID': 'Emp_ID',\t'Date of Joining': 'Join_date',\t'Company Type': 'Comp_type',\t'WFH Setup Available': 'WFH',\t'Vacations taken': 'Vacation',\t'Designation': 'Desig',\t'Average Hours worked per day': 'work_hours','Employee satisfaction score': 'Satisfaction'}, inplace = False )\n",
        "print(test)"
      ],
      "execution_count": null,
      "outputs": [
        {
          "output_type": "stream",
          "text": [
            "                         Emp_ID   Join_date  ... Satisfaction Fatigue\n",
            "0      fffe32003000360033003200   9/30/2008  ...          3.8    0.16\n",
            "1          fffe3700360033003500  11/30/2008  ...          5.0    0.36\n",
            "2      fffe31003300320037003900   3/10/2008  ...          5.8    0.49\n",
            "3      fffe32003400380032003900   11/3/2008  ...          2.6    0.20\n",
            "4      fffe31003900340031003600   7/24/2008  ...          6.9    0.52\n",
            "...                         ...         ...  ...          ...     ...\n",
            "22745  fffe31003500370039003100  12/30/2008  ...          NaN    0.41\n",
            "22746  fffe33003000350031003800   1/19/2008  ...          6.7    0.59\n",
            "22747          fffe390032003000   11/5/2008  ...          NaN    0.72\n",
            "22748  fffe33003300320036003900   1/10/2008  ...          5.9    0.52\n",
            "22749      fffe3400350031003800    1/6/2008  ...          7.8    0.61\n",
            "\n",
            "[22750 rows x 12 columns]\n",
            "                         Emp_ID   Join_date  ... work_hours Satisfaction\n",
            "0      fffe31003300390039003000  12/10/2008  ...          5          7.7\n",
            "1      fffe31003300310037003800   8/14/2008  ...          2          5.2\n",
            "2      fffe33003400380035003900  11/13/2008  ...          3          5.9\n",
            "3          fffe3100370039003200    2/7/2008  ...          6          4.6\n",
            "4      fffe32003600390036003700   7/17/2008  ...          5          6.4\n",
            "...                         ...         ...  ...        ...          ...\n",
            "12245      fffe3900310034003700   10/2/2008  ...          2          6.1\n",
            "12246  fffe32003600330034003000   3/31/2008  ...          4          5.9\n",
            "12247  fffe31003800340039003000   2/12/2008  ...          7          9.6\n",
            "12248  fffe32003600380031003800    2/6/2008  ...          6          6.7\n",
            "12249  fffe32003100390037003800    8/5/2008  ...          2          2.0\n",
            "\n",
            "[12250 rows x 11 columns]\n"
          ],
          "name": "stdout"
        }
      ]
    },
    {
      "cell_type": "markdown",
      "metadata": {
        "id": "q7dapQobaznF"
      },
      "source": [
        "#Feature set reduction"
      ]
    },
    {
      "cell_type": "code",
      "metadata": {
        "colab": {
          "base_uri": "https://localhost:8080/"
        },
        "id": "eLbO9idecDXn",
        "outputId": "9776b873-7128-4413-b4e9-e1a571e21e73"
      },
      "source": [
        "#train = train.drop(columns='Emp_ID', axis=1)\n",
        "#train = train.drop(columns='Join_date', axis=1)\n",
        "#train = train.drop(columns='Comp_type', axis=1)\n",
        "#train = train.drop(columns='Age', axis=1)\n",
        "#train = train.drop(columns='Tenure', axis=1)\n",
        "#train = train.drop(columns='Vacation', axis=1)\n",
        "####train = train.drop(columns='Gender', axis=1)\n",
        "\n",
        "train = train.drop(columns = ['Emp_ID', 'Join_date', 'Comp_type', 'Age', 'Tenure', 'Vacation'], axis=1)\n",
        "\n",
        "train.isna().sum()"
      ],
      "execution_count": null,
      "outputs": [
        {
          "output_type": "execute_result",
          "data": {
            "text/plain": [
              "Gender             0\n",
              "WFH                0\n",
              "Desig              0\n",
              "work_hours      1381\n",
              "Satisfaction    2117\n",
              "Fatigue         1011\n",
              "dtype: int64"
            ]
          },
          "metadata": {
            "tags": []
          },
          "execution_count": 548
        }
      ]
    },
    {
      "cell_type": "code",
      "metadata": {
        "colab": {
          "base_uri": "https://localhost:8080/"
        },
        "id": "3G6cQawuDlko",
        "outputId": "cbc3fd81-886d-4a2f-fa87-33212bcb35b8"
      },
      "source": [
        "#test = test.drop(columns='Emp_ID', axis=1)\n",
        "#test = test.drop(columns='Join_date', axis=1)\n",
        "#test = test.drop(columns='Comp_type', axis=1)\n",
        "#test = test.drop(columns='Age', axis=1)\n",
        "#test = test.drop(columns='Tenure', axis=1)\n",
        "#test = test.drop(columns='Vacation', axis=1)\n",
        "####test = test.drop(columns='Gender', axis=1)\n",
        "\n",
        "test = test.drop(columns = ['Emp_ID', 'Join_date', 'Comp_type', 'Age', 'Tenure', 'Vacation'], axis=1)\n",
        "\n",
        "test.isna().sum()"
      ],
      "execution_count": null,
      "outputs": [
        {
          "output_type": "execute_result",
          "data": {
            "text/plain": [
              "Gender          0\n",
              "WFH             0\n",
              "Desig           0\n",
              "work_hours      0\n",
              "Satisfaction    0\n",
              "dtype: int64"
            ]
          },
          "metadata": {
            "tags": []
          },
          "execution_count": 549
        }
      ]
    },
    {
      "cell_type": "code",
      "metadata": {
        "id": "Lvll__eaZrnQ"
      },
      "source": [
        "#missing values treatment of train dataset\n",
        "\n",
        "#miss_index = train.loc[train['Fatigue'].isna(), :].index\n",
        "#train = train.drop(miss_index, axis=0).reset_index(drop = True)\n",
        "#for column in ['work_hours', 'Satisfaction']:\n",
        "#  train[column] = train[column].fillna(train[column].median())\n",
        "\n",
        "train = train.dropna(axis=0)"
      ],
      "execution_count": null,
      "outputs": []
    },
    {
      "cell_type": "code",
      "metadata": {
        "id": "zXx5zrFhcsZE"
      },
      "source": [
        "#train['Join_date'] = pd.to_datetime(train['Join_date'])\n",
        "#train['Join_year'] = train['Join_date'].apply(lambda x: x.year)\n",
        "#train['Join_month'] = train['Join_date'].apply(lambda x: x.month)\n",
        "#train['Join_day'] = train['Join_date'].apply(lambda x: x.day)\n",
        "#train = train.drop('Join_date', axis=1)"
      ],
      "execution_count": null,
      "outputs": []
    },
    {
      "cell_type": "code",
      "metadata": {
        "id": "_407srusD1pY"
      },
      "source": [
        "#test['Join_date'] = pd.to_datetime(test['Join_date'])\n",
        "#test['Join_year'] = test['Join_date'].apply(lambda x: x.year)\n",
        "#test['Join_month'] = test['Join_date'].apply(lambda x: x.month)\n",
        "#test['Join_day'] = test['Join_date'].apply(lambda x: x.day)\n",
        "#test = test.drop('Join_date', axis=1)"
      ],
      "execution_count": null,
      "outputs": []
    },
    {
      "cell_type": "code",
      "metadata": {
        "id": "UK2FnOBjbvG3"
      },
      "source": [
        "#Normalization and Encoding - train dataset\n",
        "\n",
        "newframe['Gender'] = newframe['Gender'].replace({'Female': 0, 'Male': 1})\n",
        "#newframe['Comp_type'] = newframe['Comp_type'].replace({'Product': 0, 'Service': 1})\n",
        "newframe['WFH'] = newframe['WFH'].replace({'No': 0, 'Yes': 1})"
      ],
      "execution_count": null,
      "outputs": []
    },
    {
      "cell_type": "code",
      "metadata": {
        "id": "SswRrHqkEErd"
      },
      "source": [
        "#Normalization and Encoding - test dataset\n",
        "\n",
        "testframe['Gender'] = testframe['Gender'].replace({'Female': 0, 'Male': 1})\n",
        "#testframe['Comp_type'] = testframe['Comp_type'].replace({'Product': 0, 'Service': 1})\n",
        "testframe['WFH'] = testframe['WFH'].replace({'No': 0, 'Yes': 1})"
      ],
      "execution_count": null,
      "outputs": []
    },
    {
      "cell_type": "code",
      "metadata": {
        "colab": {
          "base_uri": "https://localhost:8080/",
          "height": 288
        },
        "id": "YB1szIR0erXl",
        "outputId": "c4c4f41c-d2b2-4db9-8333-1b017695998a"
      },
      "source": [
        "newframe.describe(include= 'all')"
      ],
      "execution_count": null,
      "outputs": [
        {
          "output_type": "execute_result",
          "data": {
            "text/html": [
              "<div>\n",
              "<style scoped>\n",
              "    .dataframe tbody tr th:only-of-type {\n",
              "        vertical-align: middle;\n",
              "    }\n",
              "\n",
              "    .dataframe tbody tr th {\n",
              "        vertical-align: top;\n",
              "    }\n",
              "\n",
              "    .dataframe thead th {\n",
              "        text-align: right;\n",
              "    }\n",
              "</style>\n",
              "<table border=\"1\" class=\"dataframe\">\n",
              "  <thead>\n",
              "    <tr style=\"text-align: right;\">\n",
              "      <th></th>\n",
              "      <th>Gender</th>\n",
              "      <th>WFH</th>\n",
              "      <th>Desig</th>\n",
              "      <th>work_hours</th>\n",
              "      <th>Satisfaction</th>\n",
              "      <th>Fatigue</th>\n",
              "    </tr>\n",
              "  </thead>\n",
              "  <tbody>\n",
              "    <tr>\n",
              "      <th>count</th>\n",
              "      <td>18670.000000</td>\n",
              "      <td>18670.000000</td>\n",
              "      <td>18670.000000</td>\n",
              "      <td>18670.000000</td>\n",
              "      <td>18670.000000</td>\n",
              "      <td>18670.000000</td>\n",
              "    </tr>\n",
              "    <tr>\n",
              "      <th>mean</th>\n",
              "      <td>0.475683</td>\n",
              "      <td>0.539314</td>\n",
              "      <td>2.179272</td>\n",
              "      <td>4.486127</td>\n",
              "      <td>5.731901</td>\n",
              "      <td>0.450506</td>\n",
              "    </tr>\n",
              "    <tr>\n",
              "      <th>std</th>\n",
              "      <td>0.499422</td>\n",
              "      <td>0.498465</td>\n",
              "      <td>1.133137</td>\n",
              "      <td>2.044760</td>\n",
              "      <td>1.920240</td>\n",
              "      <td>0.199623</td>\n",
              "    </tr>\n",
              "    <tr>\n",
              "      <th>min</th>\n",
              "      <td>0.000000</td>\n",
              "      <td>0.000000</td>\n",
              "      <td>0.000000</td>\n",
              "      <td>1.000000</td>\n",
              "      <td>0.000000</td>\n",
              "      <td>0.000000</td>\n",
              "    </tr>\n",
              "    <tr>\n",
              "      <th>25%</th>\n",
              "      <td>0.000000</td>\n",
              "      <td>0.000000</td>\n",
              "      <td>1.000000</td>\n",
              "      <td>3.000000</td>\n",
              "      <td>4.600000</td>\n",
              "      <td>0.310000</td>\n",
              "    </tr>\n",
              "    <tr>\n",
              "      <th>50%</th>\n",
              "      <td>0.000000</td>\n",
              "      <td>1.000000</td>\n",
              "      <td>2.000000</td>\n",
              "      <td>4.000000</td>\n",
              "      <td>5.900000</td>\n",
              "      <td>0.450000</td>\n",
              "    </tr>\n",
              "    <tr>\n",
              "      <th>75%</th>\n",
              "      <td>1.000000</td>\n",
              "      <td>1.000000</td>\n",
              "      <td>3.000000</td>\n",
              "      <td>6.000000</td>\n",
              "      <td>7.100000</td>\n",
              "      <td>0.590000</td>\n",
              "    </tr>\n",
              "    <tr>\n",
              "      <th>max</th>\n",
              "      <td>1.000000</td>\n",
              "      <td>1.000000</td>\n",
              "      <td>5.000000</td>\n",
              "      <td>10.000000</td>\n",
              "      <td>10.000000</td>\n",
              "      <td>1.000000</td>\n",
              "    </tr>\n",
              "  </tbody>\n",
              "</table>\n",
              "</div>"
            ],
            "text/plain": [
              "             Gender           WFH  ...  Satisfaction       Fatigue\n",
              "count  18670.000000  18670.000000  ...  18670.000000  18670.000000\n",
              "mean       0.475683      0.539314  ...      5.731901      0.450506\n",
              "std        0.499422      0.498465  ...      1.920240      0.199623\n",
              "min        0.000000      0.000000  ...      0.000000      0.000000\n",
              "25%        0.000000      0.000000  ...      4.600000      0.310000\n",
              "50%        0.000000      1.000000  ...      5.900000      0.450000\n",
              "75%        1.000000      1.000000  ...      7.100000      0.590000\n",
              "max        1.000000      1.000000  ...     10.000000      1.000000\n",
              "\n",
              "[8 rows x 6 columns]"
            ]
          },
          "metadata": {
            "tags": []
          },
          "execution_count": 555
        }
      ]
    },
    {
      "cell_type": "markdown",
      "metadata": {
        "id": "tfY6vfviZBZc"
      },
      "source": [
        "##Data Visualization"
      ]
    },
    {
      "cell_type": "code",
      "metadata": {
        "colab": {
          "base_uri": "https://localhost:8080/",
          "height": 282
        },
        "id": "Oq0yF4q8KWzA",
        "outputId": "9f60c779-3879-4425-a88a-1ee343dcd24f"
      },
      "source": [
        "#plt.scatter(newframe.work_hours, newframe.Fatigue)\n",
        "plt.scatter(newframe.Satisfaction, newframe.Fatigue)"
      ],
      "execution_count": null,
      "outputs": [
        {
          "output_type": "execute_result",
          "data": {
            "text/plain": [
              "<matplotlib.collections.PathCollection at 0x7f3e70170bd0>"
            ]
          },
          "metadata": {
            "tags": []
          },
          "execution_count": 556
        },
        {
          "output_type": "display_data",
          "data": {
            "image/png": "[encoded data removed]",
            "text/plain": [
              "<Figure size 432x288 with 1 Axes>"
            ]
          },
          "metadata": {
            "tags": [],
            "needs_background": "light"
          }
        }
      ]
    },
    {
      "cell_type": "code",
      "metadata": {
        "colab": {
          "base_uri": "https://localhost:8080/",
          "height": 287
        },
        "id": "tgrsLBeYL-48",
        "outputId": "dc8e8ed9-88a1-41ae-8b9c-860fedb85792"
      },
      "source": [
        "import seaborn as sns\n",
        "\n",
        "#newframe_numeric = newframe[[ 'Age', 'Desig', 'Tenure', 'Vacation', 'work_hours', 'Satisfaction', 'Fatigue']] \n",
        "newframe_numeric = newframe[[ 'Desig', 'work_hours', 'Satisfaction', 'Fatigue']]\n",
        "data_corr = newframe_numeric.corr()\n",
        "sns.heatmap(data_corr, xticklabels= data_corr.columns, yticklabels= data_corr.columns)"
      ],
      "execution_count": null,
      "outputs": [
        {
          "output_type": "execute_result",
          "data": {
            "text/plain": [
              "<matplotlib.axes._subplots.AxesSubplot at 0x7f3e700fb050>"
            ]
          },
          "metadata": {
            "tags": []
          },
          "execution_count": 557
        },
        {
          "output_type": "display_data",
          "data": {
            "image/png": "[encoded data removed]",
            "text/plain": [
              "<Figure size 432x288 with 2 Axes>"
            ]
          },
          "metadata": {
            "tags": [],
            "needs_background": "light"
          }
        }
      ]
    },
    {
      "cell_type": "markdown",
      "metadata": {
        "id": "jUXJcg8rkMP0"
      },
      "source": [
        "# **Train the Model**"
      ]
    },
    {
      "cell_type": "code",
      "metadata": {
        "id": "Tvk7_J3mkuoq",
        "colab": {
          "base_uri": "https://localhost:8080/"
        },
        "outputId": "dd8dfa8c-e8b6-45d7-e1d4-0fd9018f03ef"
      },
      "source": [
        "y=newframe['Fatigue']\n",
        "X=newframe.drop('Fatigue', axis=1)\n",
        "\n",
        "X_train, X_test, y_train, y_test = train_test_split(X, y, train_size = 0.75, shuffle=True, random_state=1)\n",
        "\n",
        "scaler = StandardScaler()\n",
        "scaler.fit(X_train)\n",
        "X_train = pd.DataFrame(scaler.transform(X_train), index=X_train.index, columns=X_train.columns)\n",
        "X_test = pd.DataFrame(scaler.transform(X_test), index=X_test.index, columns=X_test.columns)\n",
        "\n",
        "mod = LGBMRegressor()\n",
        "mod.fit(X_train, y_train)"
      ],
      "execution_count": null,
      "outputs": [
        {
          "output_type": "execute_result",
          "data": {
            "text/plain": [
              "LGBMRegressor(boosting_type='gbdt', class_weight=None, colsample_bytree=1.0,\n",
              "              importance_type='split', learning_rate=0.1, max_depth=-1,\n",
              "              min_child_samples=20, min_child_weight=0.001, min_split_gain=0.0,\n",
              "              n_estimators=100, n_jobs=-1, num_leaves=31, objective=None,\n",
              "              random_state=None, reg_alpha=0.0, reg_lambda=0.0, silent=True,\n",
              "              subsample=1.0, subsample_for_bin=200000, subsample_freq=0)"
            ]
          },
          "metadata": {
            "tags": []
          },
          "execution_count": 558
        }
      ]
    },
    {
      "cell_type": "code",
      "metadata": {
        "colab": {
          "base_uri": "https://localhost:8080/"
        },
        "id": "deBiG7H4lLU7",
        "outputId": "09869fc8-39ac-4886-cdba-86686a154ab0"
      },
      "source": [
        "print(mod.score(X_test, y_test))"
      ],
      "execution_count": null,
      "outputs": [
        {
          "output_type": "stream",
          "text": [
            "0.9022791446897924\n"
          ],
          "name": "stdout"
        }
      ]
    },
    {
      "cell_type": "markdown",
      "metadata": {
        "id": "0S4MOB2QEcz4"
      },
      "source": [
        "# Predict The Model"
      ]
    },
    {
      "cell_type": "code",
      "metadata": {
        "id": "Tgy7AkUGlTDK",
        "colab": {
          "base_uri": "https://localhost:8080/"
        },
        "outputId": "2d03b9cc-d339-4925-f482-da7bd27c3aec"
      },
      "source": [
        "testsc = StandardScaler()\n",
        "testsc.fit(testframe)\n",
        "testop = pd.DataFrame(testsc.transform(testframe), index=testframe.index, columns=testframe.columns)\n",
        "\n",
        "output = mod.predict(testop)\n",
        "eid = test.pop('Employee ID')\n",
        "output = pd.DataFrame(output)\n",
        "output.insert(0, 'Employee ID', eid)\n",
        "output = output.rename(columns={output.columns[1]: 'Mental Fatigue Score'})\n",
        "output = output.round({\"Mental Fatigue Score\":2})\n",
        "print(output)\n",
        "output.to_csv('/content/drive/MyDrive/tan_WO_compty_tenure_date_vacation_age_round.csv')"
      ],
      "execution_count": null,
      "outputs": [
        {
          "output_type": "stream",
          "text": [
            "                    Employee ID  Mental Fatigue Score\n",
            "0      fffe31003300390039003000                  0.61\n",
            "1      fffe31003300310037003800                  0.35\n",
            "2      fffe33003400380035003900                  0.43\n",
            "3          fffe3100370039003200                  0.38\n",
            "4      fffe32003600390036003700                  0.53\n",
            "...                         ...                   ...\n",
            "12245      fffe3900310034003700                  0.42\n",
            "12246  fffe32003600330034003000                  0.43\n",
            "12247  fffe31003800340039003000                  0.83\n",
            "12248  fffe32003600380031003800                  0.58\n",
            "12249  fffe32003100390037003800                  0.12\n",
            "\n",
            "[12250 rows x 2 columns]\n"
          ],
          "name": "stdout"
        }
      ]
    }
  ]
}