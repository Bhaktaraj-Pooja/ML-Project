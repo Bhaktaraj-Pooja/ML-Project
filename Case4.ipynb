{
  "nbformat": 4,
  "nbformat_minor": 0,
  "metadata": {
    "colab": {
      "name": "Case4.ipynb",
      "provenance": [],
      "toc_visible": true,
      "authorship_tag": "ABX9TyNF9bd9vCVKl2ggkjCoiFcC",
      "include_colab_link": true
    },
    "kernelspec": {
      "name": "python3",
      "display_name": "Python 3"
    },
    "language_info": {
      "name": "python"
    }
  },
  "cells": [
    {
      "cell_type": "markdown",
      "metadata": {
        "id": "view-in-github",
        "colab_type": "text"
      },
      "source": [
        "<a href=\"https://colab.research.google.com/github/Bhaktaraj-Pooja/ML-Project/blob/main/Case4.ipynb\" target=\"_parent\"><img src=\"https://colab.research.google.com/assets/colab-badge.svg\" alt=\"Open In Colab\"/></a>"
      ]
    },
    {
      "cell_type": "markdown",
      "metadata": {
        "id": "02EoeRjuub1z"
      },
      "source": [
        "# **Importing dataset into python**"
      ]
    },
    {
      "cell_type": "code",
      "metadata": {
        "id": "hwKlpknxua6F"
      },
      "source": [
        "## First Step - Import train.csv (Case 4 - Work life balance)\n",
        "\n",
        "## inporting necessary libraries:\n",
        "\n",
        "import pandas as pd\n",
        "import matplotlib as mpl\n",
        "import matplotlib.pyplot as plt"
      ],
      "execution_count": 1,
      "outputs": []
    },
    {
      "cell_type": "code",
      "metadata": {
        "id": "61-rc5LI-p9s"
      },
      "source": [
        "csvdata = pd.read_csv(\"/content/train.csv\")"
      ],
      "execution_count": 5,
      "outputs": []
    },
    {
      "cell_type": "code",
      "metadata": {
        "colab": {
          "base_uri": "https://localhost:8080/"
        },
        "id": "Z8lh5nisAa2m",
        "outputId": "3104cdf4-d91b-482e-84da-0620af840517"
      },
      "source": [
        "csvdata.shape"
      ],
      "execution_count": null,
      "outputs": [
        {
          "output_type": "execute_result",
          "data": {
            "text/plain": [
              "(22750, 12)"
            ]
          },
          "metadata": {
            "tags": []
          },
          "execution_count": 6
        }
      ]
    },
    {
      "cell_type": "code",
      "metadata": {
        "colab": {
          "base_uri": "https://localhost:8080/"
        },
        "id": "iL9r2B0LAiy7",
        "outputId": "1cf37748-5929-4079-ce21-4082a3469225"
      },
      "source": [
        "csvdata.columns"
      ],
      "execution_count": null,
      "outputs": [
        {
          "output_type": "execute_result",
          "data": {
            "text/plain": [
              "Index(['Employee ID', 'Date of Joining', 'Gender', 'Company Type',\n",
              "       'WFH Setup Available', 'Age', 'Tenure', 'Vacations taken',\n",
              "       'Designation', 'Average Hours worked per day',\n",
              "       'Employee satisfaction score', 'Mental Fatigue Score'],\n",
              "      dtype='object')"
            ]
          },
          "metadata": {
            "tags": []
          },
          "execution_count": 7
        }
      ]
    },
    {
      "cell_type": "code",
      "metadata": {
        "colab": {
          "base_uri": "https://localhost:8080/"
        },
        "id": "FlCyAIVaAwK_",
        "outputId": "21abc946-b97c-4bc3-809b-24f2023731e2"
      },
      "source": [
        "csvdata.dtypes"
      ],
      "execution_count": 42,
      "outputs": [
        {
          "output_type": "execute_result",
          "data": {
            "text/plain": [
              "Employee ID                      object\n",
              "Date of Joining                  object\n",
              "Gender                           object\n",
              "Company Type                     object\n",
              "WFH Setup Available              object\n",
              "Age                               int64\n",
              "Tenure                            int64\n",
              "Vacations taken                   int64\n",
              "Designation                       int64\n",
              "Average Hours worked per day    float64\n",
              "Employee satisfaction score     float64\n",
              "Mental Fatigue Score            float64\n",
              "dtype: object"
            ]
          },
          "metadata": {
            "tags": []
          },
          "execution_count": 42
        }
      ]
    },
    {
      "cell_type": "markdown",
      "metadata": {
        "id": "ysrz48U5_Ai3"
      },
      "source": [
        "# Displaying some rows from the begining of dataset"
      ]
    },
    {
      "cell_type": "code",
      "metadata": {
        "colab": {
          "base_uri": "https://localhost:8080/",
          "height": 1000
        },
        "id": "3VrF3qpOFj-f",
        "outputId": "faee6cb8-5ea2-45a2-9c76-dc319eae0528"
      },
      "source": [
        "csvdata.head(25)"
      ],
      "execution_count": 6,
      "outputs": [
        {
          "output_type": "execute_result",
          "data": {
            "text/html": [
              "<div>\n",
              "<style scoped>\n",
              "    .dataframe tbody tr th:only-of-type {\n",
              "        vertical-align: middle;\n",
              "    }\n",
              "\n",
              "    .dataframe tbody tr th {\n",
              "        vertical-align: top;\n",
              "    }\n",
              "\n",
              "    .dataframe thead th {\n",
              "        text-align: right;\n",
              "    }\n",
              "</style>\n",
              "<table border=\"1\" class=\"dataframe\">\n",
              "  <thead>\n",
              "    <tr style=\"text-align: right;\">\n",
              "      <th></th>\n",
              "      <th>Employee ID</th>\n",
              "      <th>Date of Joining</th>\n",
              "      <th>Gender</th>\n",
              "      <th>Company Type</th>\n",
              "      <th>WFH Setup Available</th>\n",
              "      <th>Age</th>\n",
              "      <th>Tenure</th>\n",
              "      <th>Vacations taken</th>\n",
              "      <th>Designation</th>\n",
              "      <th>Average Hours worked per day</th>\n",
              "      <th>Employee satisfaction score</th>\n",
              "      <th>Mental Fatigue Score</th>\n",
              "    </tr>\n",
              "  </thead>\n",
              "  <tbody>\n",
              "    <tr>\n",
              "      <th>0</th>\n",
              "      <td>fffe32003000360033003200</td>\n",
              "      <td>2008-09-30</td>\n",
              "      <td>Female</td>\n",
              "      <td>Service</td>\n",
              "      <td>No</td>\n",
              "      <td>52</td>\n",
              "      <td>18</td>\n",
              "      <td>8</td>\n",
              "      <td>2</td>\n",
              "      <td>3.0</td>\n",
              "      <td>3.8</td>\n",
              "      <td>0.16</td>\n",
              "    </tr>\n",
              "    <tr>\n",
              "      <th>1</th>\n",
              "      <td>fffe3700360033003500</td>\n",
              "      <td>2008-11-30</td>\n",
              "      <td>Male</td>\n",
              "      <td>Service</td>\n",
              "      <td>Yes</td>\n",
              "      <td>26</td>\n",
              "      <td>12</td>\n",
              "      <td>4</td>\n",
              "      <td>1</td>\n",
              "      <td>2.0</td>\n",
              "      <td>5.0</td>\n",
              "      <td>0.36</td>\n",
              "    </tr>\n",
              "    <tr>\n",
              "      <th>2</th>\n",
              "      <td>fffe31003300320037003900</td>\n",
              "      <td>2008-03-10</td>\n",
              "      <td>Female</td>\n",
              "      <td>Product</td>\n",
              "      <td>Yes</td>\n",
              "      <td>63</td>\n",
              "      <td>20</td>\n",
              "      <td>4</td>\n",
              "      <td>2</td>\n",
              "      <td>NaN</td>\n",
              "      <td>5.8</td>\n",
              "      <td>0.49</td>\n",
              "    </tr>\n",
              "    <tr>\n",
              "      <th>3</th>\n",
              "      <td>fffe32003400380032003900</td>\n",
              "      <td>2008-11-03</td>\n",
              "      <td>Male</td>\n",
              "      <td>Service</td>\n",
              "      <td>Yes</td>\n",
              "      <td>59</td>\n",
              "      <td>20</td>\n",
              "      <td>12</td>\n",
              "      <td>1</td>\n",
              "      <td>1.0</td>\n",
              "      <td>2.6</td>\n",
              "      <td>0.20</td>\n",
              "    </tr>\n",
              "    <tr>\n",
              "      <th>4</th>\n",
              "      <td>fffe31003900340031003600</td>\n",
              "      <td>2008-07-24</td>\n",
              "      <td>Female</td>\n",
              "      <td>Service</td>\n",
              "      <td>No</td>\n",
              "      <td>63</td>\n",
              "      <td>10</td>\n",
              "      <td>9</td>\n",
              "      <td>3</td>\n",
              "      <td>7.0</td>\n",
              "      <td>6.9</td>\n",
              "      <td>0.52</td>\n",
              "    </tr>\n",
              "    <tr>\n",
              "      <th>5</th>\n",
              "      <td>fffe3300350037003500</td>\n",
              "      <td>2008-11-26</td>\n",
              "      <td>Male</td>\n",
              "      <td>Product</td>\n",
              "      <td>Yes</td>\n",
              "      <td>44</td>\n",
              "      <td>8</td>\n",
              "      <td>10</td>\n",
              "      <td>2</td>\n",
              "      <td>4.0</td>\n",
              "      <td>3.6</td>\n",
              "      <td>0.29</td>\n",
              "    </tr>\n",
              "    <tr>\n",
              "      <th>6</th>\n",
              "      <td>fffe33003300340039003100</td>\n",
              "      <td>2008-01-02</td>\n",
              "      <td>Female</td>\n",
              "      <td>Service</td>\n",
              "      <td>No</td>\n",
              "      <td>62</td>\n",
              "      <td>16</td>\n",
              "      <td>11</td>\n",
              "      <td>3</td>\n",
              "      <td>6.0</td>\n",
              "      <td>7.9</td>\n",
              "      <td>0.62</td>\n",
              "    </tr>\n",
              "    <tr>\n",
              "      <th>7</th>\n",
              "      <td>fffe32003600320037003400</td>\n",
              "      <td>2008-10-31</td>\n",
              "      <td>Female</td>\n",
              "      <td>Service</td>\n",
              "      <td>Yes</td>\n",
              "      <td>31</td>\n",
              "      <td>16</td>\n",
              "      <td>6</td>\n",
              "      <td>2</td>\n",
              "      <td>4.0</td>\n",
              "      <td>4.4</td>\n",
              "      <td>0.33</td>\n",
              "    </tr>\n",
              "    <tr>\n",
              "      <th>8</th>\n",
              "      <td>fffe32003200300034003700</td>\n",
              "      <td>2008-12-27</td>\n",
              "      <td>Female</td>\n",
              "      <td>Service</td>\n",
              "      <td>No</td>\n",
              "      <td>23</td>\n",
              "      <td>15</td>\n",
              "      <td>9</td>\n",
              "      <td>3</td>\n",
              "      <td>6.0</td>\n",
              "      <td>NaN</td>\n",
              "      <td>0.56</td>\n",
              "    </tr>\n",
              "    <tr>\n",
              "      <th>9</th>\n",
              "      <td>fffe31003600320030003200</td>\n",
              "      <td>2008-03-09</td>\n",
              "      <td>Female</td>\n",
              "      <td>Product</td>\n",
              "      <td>No</td>\n",
              "      <td>27</td>\n",
              "      <td>1</td>\n",
              "      <td>2</td>\n",
              "      <td>3</td>\n",
              "      <td>6.0</td>\n",
              "      <td>NaN</td>\n",
              "      <td>0.67</td>\n",
              "    </tr>\n",
              "    <tr>\n",
              "      <th>10</th>\n",
              "      <td>fffe33003100330032003700</td>\n",
              "      <td>2008-03-16</td>\n",
              "      <td>Male</td>\n",
              "      <td>Product</td>\n",
              "      <td>Yes</td>\n",
              "      <td>56</td>\n",
              "      <td>2</td>\n",
              "      <td>1</td>\n",
              "      <td>2</td>\n",
              "      <td>3.0</td>\n",
              "      <td>5.3</td>\n",
              "      <td>0.50</td>\n",
              "    </tr>\n",
              "    <tr>\n",
              "      <th>11</th>\n",
              "      <td>fffe3400310035003800</td>\n",
              "      <td>2008-05-12</td>\n",
              "      <td>Male</td>\n",
              "      <td>Service</td>\n",
              "      <td>Yes</td>\n",
              "      <td>27</td>\n",
              "      <td>20</td>\n",
              "      <td>12</td>\n",
              "      <td>0</td>\n",
              "      <td>1.0</td>\n",
              "      <td>1.8</td>\n",
              "      <td>0.12</td>\n",
              "    </tr>\n",
              "    <tr>\n",
              "      <th>12</th>\n",
              "      <td>fffe32003100300030003700</td>\n",
              "      <td>2008-01-20</td>\n",
              "      <td>Male</td>\n",
              "      <td>Service</td>\n",
              "      <td>Yes</td>\n",
              "      <td>47</td>\n",
              "      <td>13</td>\n",
              "      <td>10</td>\n",
              "      <td>2</td>\n",
              "      <td>5.0</td>\n",
              "      <td>NaN</td>\n",
              "      <td>0.40</td>\n",
              "    </tr>\n",
              "    <tr>\n",
              "      <th>13</th>\n",
              "      <td>fffe31003800330032003500</td>\n",
              "      <td>2008-02-23</td>\n",
              "      <td>Female</td>\n",
              "      <td>Product</td>\n",
              "      <td>No</td>\n",
              "      <td>34</td>\n",
              "      <td>12</td>\n",
              "      <td>0</td>\n",
              "      <td>1</td>\n",
              "      <td>3.0</td>\n",
              "      <td>NaN</td>\n",
              "      <td>0.33</td>\n",
              "    </tr>\n",
              "    <tr>\n",
              "      <th>14</th>\n",
              "      <td>fffe33003100330036003300</td>\n",
              "      <td>2008-05-14</td>\n",
              "      <td>Male</td>\n",
              "      <td>Product</td>\n",
              "      <td>Yes</td>\n",
              "      <td>30</td>\n",
              "      <td>19</td>\n",
              "      <td>3</td>\n",
              "      <td>1</td>\n",
              "      <td>3.0</td>\n",
              "      <td>5.8</td>\n",
              "      <td>0.51</td>\n",
              "    </tr>\n",
              "    <tr>\n",
              "      <th>15</th>\n",
              "      <td>fffe31003700350033003100</td>\n",
              "      <td>2008-02-03</td>\n",
              "      <td>Female</td>\n",
              "      <td>Service</td>\n",
              "      <td>Yes</td>\n",
              "      <td>35</td>\n",
              "      <td>20</td>\n",
              "      <td>10</td>\n",
              "      <td>3</td>\n",
              "      <td>5.0</td>\n",
              "      <td>4.7</td>\n",
              "      <td>0.32</td>\n",
              "    </tr>\n",
              "    <tr>\n",
              "      <th>16</th>\n",
              "      <td>fffe33003200360037003000</td>\n",
              "      <td>2008-03-17</td>\n",
              "      <td>Male</td>\n",
              "      <td>Service</td>\n",
              "      <td>Yes</td>\n",
              "      <td>59</td>\n",
              "      <td>4</td>\n",
              "      <td>11</td>\n",
              "      <td>1</td>\n",
              "      <td>2.0</td>\n",
              "      <td>5.9</td>\n",
              "      <td>0.39</td>\n",
              "    </tr>\n",
              "    <tr>\n",
              "      <th>17</th>\n",
              "      <td>fffe31003500350030003400</td>\n",
              "      <td>2008-03-28</td>\n",
              "      <td>Male</td>\n",
              "      <td>Service</td>\n",
              "      <td>No</td>\n",
              "      <td>35</td>\n",
              "      <td>11</td>\n",
              "      <td>7</td>\n",
              "      <td>3</td>\n",
              "      <td>6.0</td>\n",
              "      <td>6.7</td>\n",
              "      <td>0.59</td>\n",
              "    </tr>\n",
              "    <tr>\n",
              "      <th>18</th>\n",
              "      <td>fffe31003000380035003800</td>\n",
              "      <td>2008-05-29</td>\n",
              "      <td>Female</td>\n",
              "      <td>Product</td>\n",
              "      <td>Yes</td>\n",
              "      <td>60</td>\n",
              "      <td>20</td>\n",
              "      <td>12</td>\n",
              "      <td>2</td>\n",
              "      <td>4.0</td>\n",
              "      <td>4.0</td>\n",
              "      <td>0.22</td>\n",
              "    </tr>\n",
              "    <tr>\n",
              "      <th>19</th>\n",
              "      <td>fffe3300350037003200</td>\n",
              "      <td>2008-06-27</td>\n",
              "      <td>Female</td>\n",
              "      <td>Service</td>\n",
              "      <td>No</td>\n",
              "      <td>58</td>\n",
              "      <td>9</td>\n",
              "      <td>6</td>\n",
              "      <td>3</td>\n",
              "      <td>5.0</td>\n",
              "      <td>NaN</td>\n",
              "      <td>0.68</td>\n",
              "    </tr>\n",
              "    <tr>\n",
              "      <th>20</th>\n",
              "      <td>fffe31003300360039003000</td>\n",
              "      <td>2008-08-31</td>\n",
              "      <td>Male</td>\n",
              "      <td>Product</td>\n",
              "      <td>No</td>\n",
              "      <td>63</td>\n",
              "      <td>6</td>\n",
              "      <td>0</td>\n",
              "      <td>2</td>\n",
              "      <td>4.0</td>\n",
              "      <td>7.6</td>\n",
              "      <td>0.57</td>\n",
              "    </tr>\n",
              "    <tr>\n",
              "      <th>21</th>\n",
              "      <td>fffe32003700370038003300</td>\n",
              "      <td>2008-01-15</td>\n",
              "      <td>Male</td>\n",
              "      <td>Service</td>\n",
              "      <td>Yes</td>\n",
              "      <td>27</td>\n",
              "      <td>3</td>\n",
              "      <td>5</td>\n",
              "      <td>1</td>\n",
              "      <td>3.0</td>\n",
              "      <td>6.3</td>\n",
              "      <td>0.47</td>\n",
              "    </tr>\n",
              "    <tr>\n",
              "      <th>22</th>\n",
              "      <td>fffe31003800390035003300</td>\n",
              "      <td>2008-05-04</td>\n",
              "      <td>Male</td>\n",
              "      <td>Service</td>\n",
              "      <td>Yes</td>\n",
              "      <td>25</td>\n",
              "      <td>17</td>\n",
              "      <td>0</td>\n",
              "      <td>1</td>\n",
              "      <td>3.0</td>\n",
              "      <td>6.7</td>\n",
              "      <td>0.46</td>\n",
              "    </tr>\n",
              "    <tr>\n",
              "      <th>23</th>\n",
              "      <td>fffe3700370035003600</td>\n",
              "      <td>2008-11-17</td>\n",
              "      <td>Female</td>\n",
              "      <td>Product</td>\n",
              "      <td>Yes</td>\n",
              "      <td>62</td>\n",
              "      <td>13</td>\n",
              "      <td>10</td>\n",
              "      <td>3</td>\n",
              "      <td>NaN</td>\n",
              "      <td>7.7</td>\n",
              "      <td>0.61</td>\n",
              "    </tr>\n",
              "    <tr>\n",
              "      <th>24</th>\n",
              "      <td>fffe3700300033003500</td>\n",
              "      <td>2008-09-14</td>\n",
              "      <td>Female</td>\n",
              "      <td>Service</td>\n",
              "      <td>No</td>\n",
              "      <td>22</td>\n",
              "      <td>5</td>\n",
              "      <td>2</td>\n",
              "      <td>3</td>\n",
              "      <td>8.0</td>\n",
              "      <td>NaN</td>\n",
              "      <td>0.91</td>\n",
              "    </tr>\n",
              "  </tbody>\n",
              "</table>\n",
              "</div>"
            ],
            "text/plain": [
              "                 Employee ID  ... Mental Fatigue Score\n",
              "0   fffe32003000360033003200  ...                 0.16\n",
              "1       fffe3700360033003500  ...                 0.36\n",
              "2   fffe31003300320037003900  ...                 0.49\n",
              "3   fffe32003400380032003900  ...                 0.20\n",
              "4   fffe31003900340031003600  ...                 0.52\n",
              "5       fffe3300350037003500  ...                 0.29\n",
              "6   fffe33003300340039003100  ...                 0.62\n",
              "7   fffe32003600320037003400  ...                 0.33\n",
              "8   fffe32003200300034003700  ...                 0.56\n",
              "9   fffe31003600320030003200  ...                 0.67\n",
              "10  fffe33003100330032003700  ...                 0.50\n",
              "11      fffe3400310035003800  ...                 0.12\n",
              "12  fffe32003100300030003700  ...                 0.40\n",
              "13  fffe31003800330032003500  ...                 0.33\n",
              "14  fffe33003100330036003300  ...                 0.51\n",
              "15  fffe31003700350033003100  ...                 0.32\n",
              "16  fffe33003200360037003000  ...                 0.39\n",
              "17  fffe31003500350030003400  ...                 0.59\n",
              "18  fffe31003000380035003800  ...                 0.22\n",
              "19      fffe3300350037003200  ...                 0.68\n",
              "20  fffe31003300360039003000  ...                 0.57\n",
              "21  fffe32003700370038003300  ...                 0.47\n",
              "22  fffe31003800390035003300  ...                 0.46\n",
              "23      fffe3700370035003600  ...                 0.61\n",
              "24      fffe3700300033003500  ...                 0.91\n",
              "\n",
              "[25 rows x 12 columns]"
            ]
          },
          "metadata": {
            "tags": []
          },
          "execution_count": 6
        }
      ]
    },
    {
      "cell_type": "markdown",
      "metadata": {
        "id": "d5drhSvLH15T"
      },
      "source": [
        "# **Data Preprocessing**"
      ]
    },
    {
      "cell_type": "code",
      "metadata": {
        "id": "kL-YVNAqIDv1",
        "colab": {
          "base_uri": "https://localhost:8080/"
        },
        "outputId": "b04c92c4-24d7-4960-b1c8-b8c766d88722"
      },
      "source": [
        "newframe = csvdata.rename(columns = {'Employee ID': 'Emd_ID',\t'Date of Joining': 'Join_date',\t'Company Type': 'Comp_type',\t'WFH Setup Available': 'WFH',\t'Vacations taken': 'Vacation',\t'Designation': 'Desig',\t'Average Hours worked per day': 'work_hours','Employee satisfaction score': 'Satisfaction', 'Mental Fatigue Score': 'Fatigue'}, inplace = False )\n",
        "print(newframe)"
      ],
      "execution_count": 15,
      "outputs": [
        {
          "output_type": "stream",
          "text": [
            "                         Emd_ID   Join_date  ... Satisfaction Fatigue\n",
            "0      fffe32003000360033003200  2008-09-30  ...          3.8    0.16\n",
            "1          fffe3700360033003500  2008-11-30  ...          5.0    0.36\n",
            "2      fffe31003300320037003900  2008-03-10  ...          5.8    0.49\n",
            "3      fffe32003400380032003900  2008-11-03  ...          2.6    0.20\n",
            "4      fffe31003900340031003600  2008-07-24  ...          6.9    0.52\n",
            "...                         ...         ...  ...          ...     ...\n",
            "22745  fffe31003500370039003100  2008-12-30  ...          NaN    0.41\n",
            "22746  fffe33003000350031003800  2008-01-19  ...          6.7    0.59\n",
            "22747          fffe390032003000  2008-11-05  ...          NaN    0.72\n",
            "22748  fffe33003300320036003900  2008-01-10  ...          5.9    0.52\n",
            "22749      fffe3400350031003800  2008-01-06  ...          7.8    0.61\n",
            "\n",
            "[22750 rows x 12 columns]\n"
          ],
          "name": "stdout"
        }
      ]
    },
    {
      "cell_type": "code",
      "metadata": {
        "colab": {
          "base_uri": "https://localhost:8080/",
          "height": 507
        },
        "id": "Oq0yF4q8KWzA",
        "outputId": "ab807881-c889-4a10-cc62-a4e9ddde044d"
      },
      "source": [
        "plt.scatter(newframe.Satisfaction, newframe.Fatigue)"
      ],
      "execution_count": 16,
      "outputs": [
        {
          "output_type": "execute_result",
          "data": {
            "text/plain": [
              "<matplotlib.collections.PathCollection at 0x7efce832a550>"
            ]
          },
          "metadata": {
            "tags": []
          },
          "execution_count": 16
        },
        {
          "output_type": "display_data",
          "data": {
            "image/png": "[encoded data removed]",
            "text/plain": [
              "<Figure size 800x550 with 1 Axes>"
            ]
          },
          "metadata": {
            "tags": []
          }
        }
      ]
    },
    {
      "cell_type": "code",
      "metadata": {
        "colab": {
          "base_uri": "https://localhost:8080/",
          "height": 569
        },
        "id": "tgrsLBeYL-48",
        "outputId": "7d8b3c45-a1ee-4fd1-9d23-dfd7b8d111d7"
      },
      "source": [
        "import seaborn as sns\n",
        "\n",
        "newframe_numeric = newframe[['Age', 'Tenure', 'Vacation', 'Desig', 'work_hours', 'Satisfaction', 'Fatigue']]\n",
        "data_corr = newframe_numeric.corr()\n",
        "sns.heatmap(data_corr, xticklabels= data_corr.columns, yticklabels= data_corr.columns)"
      ],
      "execution_count": 19,
      "outputs": [
        {
          "output_type": "execute_result",
          "data": {
            "text/plain": [
              "<matplotlib.axes._subplots.AxesSubplot at 0x7efce70395d0>"
            ]
          },
          "metadata": {
            "tags": []
          },
          "execution_count": 19
        },
        {
          "output_type": "display_data",
          "data": {
            "image/png": "[encoded data removed]",
            "text/plain": [
              "<Figure size 800x550 with 2 Axes>"
            ]
          },
          "metadata": {
            "tags": []
          }
        }
      ]
    },
    {
      "cell_type": "markdown",
      "metadata": {
        "id": "xRVqsTvzPwR2"
      },
      "source": [
        "**Using Pandas Profiling for checking nature of dataset**"
      ]
    },
    {
      "cell_type": "code",
      "metadata": {
        "colab": {
          "base_uri": "https://localhost:8080/"
        },
        "id": "1PR9MlwPP6DF",
        "outputId": "74bd0c90-4029-4413-de85-4d99f8f0bbf8"
      },
      "source": [
        "import pandas_profiling\n",
        "\n",
        "newframe.columns\n",
        "\n",
        "data_rep = newframe[['Emd_ID', 'Gender', 'Comp_type', 'WFH', 'Age', 'Tenure', 'Vacation', 'Desig', 'work_hours', 'Satisfaction', 'Fatigue']]\n",
        "\n",
        "data_rep.dtypes"
      ],
      "execution_count": 48,
      "outputs": [
        {
          "output_type": "execute_result",
          "data": {
            "text/plain": [
              "Emd_ID           object\n",
              "Gender           object\n",
              "Comp_type        object\n",
              "WFH              object\n",
              "Age               int64\n",
              "Tenure            int64\n",
              "Vacation          int64\n",
              "Desig             int64\n",
              "work_hours      float64\n",
              "Satisfaction    float64\n",
              "Fatigue         float64\n",
              "dtype: object"
            ]
          },
          "metadata": {
            "tags": []
          },
          "execution_count": 48
        }
      ]
    }
  ]
}