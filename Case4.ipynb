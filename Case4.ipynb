{
  "nbformat": 4,
  "nbformat_minor": 0,
  "metadata": {
    "colab": {
      "name": "Case4.ipynb",
      "provenance": [],
      "toc_visible": true,
      "authorship_tag": "ABX9TyNjvonlhx2YiD2mRJwjfY+q",
      "include_colab_link": true
    },
    "kernelspec": {
      "name": "python3",
      "display_name": "Python 3"
    },
    "language_info": {
      "name": "python"
    }
  },
  "cells": [
    {
      "cell_type": "markdown",
      "metadata": {
        "id": "view-in-github",
        "colab_type": "text"
      },
      "source": [
        "<a href=\"https://colab.research.google.com/github/Bhaktaraj-Pooja/ML-Project/blob/main/Case4.ipynb\" target=\"_parent\"><img src=\"https://colab.research.google.com/assets/colab-badge.svg\" alt=\"Open In Colab\"/></a>"
      ]
    },
    {
      "cell_type": "markdown",
      "metadata": {
        "id": "02EoeRjuub1z"
      },
      "source": [
        "# **Importing dataset into python**"
      ]
    },
    {
      "cell_type": "code",
      "metadata": {
        "id": "hwKlpknxua6F"
      },
      "source": [
        "## First Step - Import train.csv (Case 4 - Work life balance)\n",
        "\n",
        "## inporting necessary libraries:\n",
        "\n",
        "import pandas as pd"
      ],
      "execution_count": 1,
      "outputs": []
    },
    {
      "cell_type": "code",
      "metadata": {
        "id": "61-rc5LI-p9s"
      },
      "source": [
        "csvdata = pd.read_csv(\"/content/train.csv\")"
      ],
      "execution_count": 5,
      "outputs": []
    },
    {
      "cell_type": "code",
      "metadata": {
        "colab": {
          "base_uri": "https://localhost:8080/"
        },
        "id": "Z8lh5nisAa2m",
        "outputId": "3104cdf4-d91b-482e-84da-0620af840517"
      },
      "source": [
        "csvdata.shape"
      ],
      "execution_count": 6,
      "outputs": [
        {
          "output_type": "execute_result",
          "data": {
            "text/plain": [
              "(22750, 12)"
            ]
          },
          "metadata": {
            "tags": []
          },
          "execution_count": 6
        }
      ]
    },
    {
      "cell_type": "code",
      "metadata": {
        "colab": {
          "base_uri": "https://localhost:8080/"
        },
        "id": "iL9r2B0LAiy7",
        "outputId": "1cf37748-5929-4079-ce21-4082a3469225"
      },
      "source": [
        "csvdata.columns"
      ],
      "execution_count": 7,
      "outputs": [
        {
          "output_type": "execute_result",
          "data": {
            "text/plain": [
              "Index(['Employee ID', 'Date of Joining', 'Gender', 'Company Type',\n",
              "       'WFH Setup Available', 'Age', 'Tenure', 'Vacations taken',\n",
              "       'Designation', 'Average Hours worked per day',\n",
              "       'Employee satisfaction score', 'Mental Fatigue Score'],\n",
              "      dtype='object')"
            ]
          },
          "metadata": {
            "tags": []
          },
          "execution_count": 7
        }
      ]
    },
    {
      "cell_type": "code",
      "metadata": {
        "colab": {
          "base_uri": "https://localhost:8080/"
        },
        "id": "FlCyAIVaAwK_",
        "outputId": "a81c7898-98f6-4095-c871-6338571950c4"
      },
      "source": [
        "csvdata.dtypes"
      ],
      "execution_count": 8,
      "outputs": [
        {
          "output_type": "execute_result",
          "data": {
            "text/plain": [
              "Employee ID                      object\n",
              "Date of Joining                  object\n",
              "Gender                           object\n",
              "Company Type                     object\n",
              "WFH Setup Available              object\n",
              "Age                               int64\n",
              "Tenure                            int64\n",
              "Vacations taken                   int64\n",
              "Designation                       int64\n",
              "Average Hours worked per day    float64\n",
              "Employee satisfaction score     float64\n",
              "Mental Fatigue Score            float64\n",
              "dtype: object"
            ]
          },
          "metadata": {
            "tags": []
          },
          "execution_count": 8
        }
      ]
    },
    {
      "cell_type": "markdown",
      "metadata": {
        "id": "ysrz48U5_Ai3"
      },
      "source": [
        "# New Section"
      ]
    }
  ]
}