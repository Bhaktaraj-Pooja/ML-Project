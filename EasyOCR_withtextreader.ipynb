{
  "nbformat": 4,
  "nbformat_minor": 0,
  "metadata": {
    "colab": {
      "name": "EasyOCR.ipynb",
      "provenance": [],
      "include_colab_link": true
    },
    "kernelspec": {
      "name": "python3",
      "display_name": "Python 3"
    },
    "language_info": {
      "name": "python"
    }
  },
  "cells": [
    {
      "cell_type": "markdown",
      "metadata": {
        "id": "view-in-github",
        "colab_type": "text"
      },
      "source": [
        "<a href=\"https://colab.research.google.com/github/Bhaktaraj-Pooja/ML-Project/blob/main/EasyOCR_withtextreader.ipynb\" target=\"_parent\"><img src=\"https://colab.research.google.com/assets/colab-badge.svg\" alt=\"Open In Colab\"/></a>"
      ]
    },
    {
      "cell_type": "markdown",
      "metadata": {
        "id": "H0D-ub2V9sB5"
      },
      "source": [
        "#**Install and Import Packages**"
      ]
    },
    {
      "cell_type": "code",
      "metadata": {
        "id": "Ee5j-65W7FEu",
        "outputId": "6505bcac-7c83-4005-ae92-7e9eb2c27b0d",
        "colab": {
          "base_uri": "https://localhost:8080/"
        }
      },
      "source": [
        "!pip install torch torchvision torchaudio\n",
        "!pip install easyocr"
      ],
      "execution_count": 1,
      "outputs": [
        {
          "output_type": "stream",
          "text": [
            "Requirement already satisfied: torch in /usr/local/lib/python3.7/dist-packages (1.8.1+cu101)\n",
            "Requirement already satisfied: torchvision in /usr/local/lib/python3.7/dist-packages (0.9.1+cu101)\n",
            "Collecting torchaudio\n",
            "\u001b[?25l  Downloading https://files.pythonhosted.org/packages/aa/55/01ad9244bcd595e39cea5ce30726a7fe02fd963d07daeb136bfe7e23f0a5/torchaudio-0.8.1-cp37-cp37m-manylinux1_x86_64.whl (1.9MB)\n",
            "\u001b[K     |████████████████████████████████| 1.9MB 3.0MB/s \n",
            "\u001b[?25hRequirement already satisfied: typing-extensions in /usr/local/lib/python3.7/dist-packages (from torch) (3.7.4.3)\n",
            "Requirement already satisfied: numpy in /usr/local/lib/python3.7/dist-packages (from torch) (1.19.5)\n",
            "Requirement already satisfied: pillow>=4.1.1 in /usr/local/lib/python3.7/dist-packages (from torchvision) (7.1.2)\n",
            "Installing collected packages: torchaudio\n",
            "Successfully installed torchaudio-0.8.1\n",
            "Collecting easyocr\n",
            "\u001b[?25l  Downloading https://files.pythonhosted.org/packages/9d/b4/6a402a7ec3890e94313a7d2804190713e2c942371b39c7ccd9070280bc36/easyocr-1.3.2-py3-none-any.whl (63.2MB)\n",
            "\u001b[K     |████████████████████████████████| 63.2MB 58kB/s \n",
            "\u001b[?25hRequirement already satisfied: Pillow in /usr/local/lib/python3.7/dist-packages (from easyocr) (7.1.2)\n",
            "Requirement already satisfied: numpy in /usr/local/lib/python3.7/dist-packages (from easyocr) (1.19.5)\n",
            "Requirement already satisfied: torchvision>=0.5 in /usr/local/lib/python3.7/dist-packages (from easyocr) (0.9.1+cu101)\n",
            "Requirement already satisfied: scipy in /usr/local/lib/python3.7/dist-packages (from easyocr) (1.4.1)\n",
            "Collecting python-bidi\n",
            "  Downloading https://files.pythonhosted.org/packages/33/b0/f942d146a2f457233baaafd6bdf624eba8e0f665045b4abd69d1b62d097d/python_bidi-0.4.2-py2.py3-none-any.whl\n",
            "Requirement already satisfied: PyYAML in /usr/local/lib/python3.7/dist-packages (from easyocr) (3.13)\n",
            "Requirement already satisfied: opencv-python in /usr/local/lib/python3.7/dist-packages (from easyocr) (4.1.2.30)\n",
            "Requirement already satisfied: scikit-image in /usr/local/lib/python3.7/dist-packages (from easyocr) (0.16.2)\n",
            "Requirement already satisfied: torch in /usr/local/lib/python3.7/dist-packages (from easyocr) (1.8.1+cu101)\n",
            "Requirement already satisfied: six in /usr/local/lib/python3.7/dist-packages (from python-bidi->easyocr) (1.15.0)\n",
            "Requirement already satisfied: matplotlib!=3.0.0,>=2.0.0 in /usr/local/lib/python3.7/dist-packages (from scikit-image->easyocr) (3.2.2)\n",
            "Requirement already satisfied: PyWavelets>=0.4.0 in /usr/local/lib/python3.7/dist-packages (from scikit-image->easyocr) (1.1.1)\n",
            "Requirement already satisfied: imageio>=2.3.0 in /usr/local/lib/python3.7/dist-packages (from scikit-image->easyocr) (2.4.1)\n",
            "Requirement already satisfied: networkx>=2.0 in /usr/local/lib/python3.7/dist-packages (from scikit-image->easyocr) (2.5.1)\n",
            "Requirement already satisfied: typing-extensions in /usr/local/lib/python3.7/dist-packages (from torch->easyocr) (3.7.4.3)\n",
            "Requirement already satisfied: kiwisolver>=1.0.1 in /usr/local/lib/python3.7/dist-packages (from matplotlib!=3.0.0,>=2.0.0->scikit-image->easyocr) (1.3.1)\n",
            "Requirement already satisfied: python-dateutil>=2.1 in /usr/local/lib/python3.7/dist-packages (from matplotlib!=3.0.0,>=2.0.0->scikit-image->easyocr) (2.8.1)\n",
            "Requirement already satisfied: pyparsing!=2.0.4,!=2.1.2,!=2.1.6,>=2.0.1 in /usr/local/lib/python3.7/dist-packages (from matplotlib!=3.0.0,>=2.0.0->scikit-image->easyocr) (2.4.7)\n",
            "Requirement already satisfied: cycler>=0.10 in /usr/local/lib/python3.7/dist-packages (from matplotlib!=3.0.0,>=2.0.0->scikit-image->easyocr) (0.10.0)\n",
            "Requirement already satisfied: decorator<5,>=4.3 in /usr/local/lib/python3.7/dist-packages (from networkx>=2.0->scikit-image->easyocr) (4.4.2)\n",
            "Installing collected packages: python-bidi, easyocr\n",
            "Successfully installed easyocr-1.3.2 python-bidi-0.4.2\n"
          ],
          "name": "stdout"
        }
      ]
    },
    {
      "cell_type": "code",
      "metadata": {
        "id": "C4_BHd657tUm"
      },
      "source": [
        "import easyocr\n",
        "import cv2\n",
        "from matplotlib import pyplot as plt\n",
        "import numpy as np\n",
        "import re"
      ],
      "execution_count": 10,
      "outputs": []
    },
    {
      "cell_type": "markdown",
      "metadata": {
        "id": "0zLrlP1p-B24"
      },
      "source": [
        "#**Read Images**"
      ]
    },
    {
      "cell_type": "code",
      "metadata": {
        "colab": {
          "base_uri": "https://localhost:8080/"
        },
        "id": "y0rvzg3y-o5I",
        "outputId": "c93936ca-c2ef-439c-91e9-4d07354f8532"
      },
      "source": [
        "from google.colab import drive\n",
        "drive.mount('/content/drive/')"
      ],
      "execution_count": 3,
      "outputs": [
        {
          "output_type": "stream",
          "text": [
            "Mounted at /content/drive/\n"
          ],
          "name": "stdout"
        }
      ]
    },
    {
      "cell_type": "code",
      "metadata": {
        "id": "f78OTPNv-BUQ"
      },
      "source": [
        "image_path = \"/content/drive/MyDrive/OCR_DataSet/tmp/TE_144.jpg\""
      ],
      "execution_count": 4,
      "outputs": []
    },
    {
      "cell_type": "code",
      "metadata": {
        "id": "f0yWRqUpDby7"
      },
      "source": [
        "image = cv2.imread(image_path, cv2.IMREAD_GRAYSCALE) "
      ],
      "execution_count": 29,
      "outputs": []
    },
    {
      "cell_type": "code",
      "metadata": {
        "colab": {
          "base_uri": "https://localhost:8080/"
        },
        "id": "IWPzLT0c-SkI",
        "outputId": "f3898266-40ba-4d0a-9d0d-ed88945b2121"
      },
      "source": [
        "reader = easyocr.Reader(['en'], gpu=False)\n",
        "result = reader.readtext(image_path, detail = 0)\n",
        "result"
      ],
      "execution_count": 30,
      "outputs": [
        {
          "output_type": "stream",
          "text": [
            "Using CPU. Note: This module is much faster with a GPU.\n"
          ],
          "name": "stderr"
        },
        {
          "output_type": "execute_result",
          "data": {
            "text/plain": [
              "['Arthurs',\n",
              " '237 Kashington',\n",
              " 'Hobcken, HJ',\n",
              " '07030',\n",
              " '(201) 856-5009',\n",
              " 'IOze Alerandr',\n",
              " 'Gst',\n",
              " '3',\n",
              " 'C 1844',\n",
              " 'Tab/62',\n",
              " \"Octo1'17 01:44P4\",\n",
              " 'Bar',\n",
              " \"Krtnur'$\",\n",
              " 'Burger #CnsBleu',\n",
              " '13.95',\n",
              " 'Qur',\n",
              " 'Burger **Avocado',\n",
              " '15,95',\n",
              " 'Loaded Nacnos',\n",
              " '12.95',\n",
              " 'Pirt Boston Lager',\n",
              " '6.00',\n",
              " '2 Pint   {eunaling',\n",
              " '12.00',\n",
              " 'Yona Longcoard',\n",
              " '6,00',\n",
              " 'Quesadi Ila',\n",
              " '13.95',\n",
              " 'Kood',\n",
              " '56.80',\n",
              " 'Tiquor',\n",
              " '24,00',\n",
              " 'Ta/',\n",
              " '3,98',\n",
              " '02;Zepm Tota| Due',\n",
              " '84',\n",
              " '78',\n",
              " '20k added to parties & Or more',\n",
              " 'Trark   You for Dining with Us!',\n",
              " 'Frvate',\n",
              " 'Roome',\n",
              " 'Available',\n",
              " 'for',\n",
              " 'Your',\n",
              " 'Next',\n",
              " 'Party!']"
            ]
          },
          "metadata": {
            "tags": []
          },
          "execution_count": 30
        }
      ]
    },
    {
      "cell_type": "code",
      "metadata": {
        "colab": {
          "base_uri": "https://localhost:8080/",
          "height": 35
        },
        "id": "e0heROfhCu9y",
        "outputId": "27a2f435-12db-42a3-c075-1190faa3c078"
      },
      "source": [
        "result[34]"
      ],
      "execution_count": 6,
      "outputs": [
        {
          "output_type": "execute_result",
          "data": {
            "application/vnd.google.colaboratory.intrinsic+json": {
              "type": "string"
            },
            "text/plain": [
              "'02;Zepm Tota| Due'"
            ]
          },
          "metadata": {
            "tags": []
          },
          "execution_count": 6
        }
      ]
    },
    {
      "cell_type": "code",
      "metadata": {
        "id": "_1eQZ96hDlZJ"
      },
      "source": [
        "def find_amounts(text):\n",
        "    amounts = re.findall(r'\\d+\\.\\d{2}\\b', text)\n",
        "    floats = [float(amount) for amount in amounts]\n",
        "    unique = list(dict.fromkeys(floats))\n",
        "    return unique"
      ],
      "execution_count": 8,
      "outputs": []
    },
    {
      "cell_type": "code",
      "metadata": {
        "id": "6aDg2rK9Dod6"
      },
      "source": [
        "i = 0\n",
        "fr = \"\"\n",
        "for i in result:\n",
        "  fr = fr + i + \".\"\n",
        "  fr =  fr + \"\\n\""
      ],
      "execution_count": 27,
      "outputs": []
    },
    {
      "cell_type": "code",
      "metadata": {
        "id": "GIbFvDv9E6LC",
        "outputId": "f9e70e0d-67f0-470f-d571-aa80b2a8e459",
        "colab": {
          "base_uri": "https://localhost:8080/"
        }
      },
      "source": [
        "print(fr)"
      ],
      "execution_count": 28,
      "outputs": [
        {
          "output_type": "stream",
          "text": [
            "Arthurs.\n",
            "237 Kashington.\n",
            "Hobcken, HJ.\n",
            "07030.\n",
            "(201) 856-5009.\n",
            "IOze Alerandr.\n",
            "Gst.\n",
            "3.\n",
            "C 1844.\n",
            "Tab/62.\n",
            "Octo1'17 01:44P4.\n",
            "Bar.\n",
            "Krtnur'$.\n",
            "Burger #CnsBleu.\n",
            "13.95.\n",
            "Qur.\n",
            "Burger **Avocado.\n",
            "15,95.\n",
            "Loaded Nacnos.\n",
            "12.95.\n",
            "Pirt Boston Lager.\n",
            "6.00.\n",
            "2 Pint   {eunaling.\n",
            "12.00.\n",
            "Yona Longcoard.\n",
            "6,00.\n",
            "Quesadi Ila.\n",
            "13.95.\n",
            "Kood.\n",
            "56.80.\n",
            "Tiquor.\n",
            "24,00.\n",
            "Ta/.\n",
            "3,98.\n",
            "02;Zepm Tota| Due.\n",
            "84.\n",
            "78.\n",
            "20k added to parties & Or more.\n",
            "Trark   You for Dining with Us!.\n",
            "Frvate.\n",
            "Roome.\n",
            "Available.\n",
            "for.\n",
            "Your.\n",
            "Next.\n",
            "Party!.\n",
            "\n"
          ],
          "name": "stdout"
        }
      ]
    },
    {
      "cell_type": "code",
      "metadata": {
        "id": "5OgdEl05FTkb",
        "outputId": "57c3962e-93b2-4284-cd7e-e24695ab7d43",
        "colab": {
          "base_uri": "https://localhost:8080/"
        }
      },
      "source": [
        "find_amounts(fr)"
      ],
      "execution_count": 31,
      "outputs": [
        {
          "output_type": "execute_result",
          "data": {
            "text/plain": [
              "[13.95, 12.95, 6.0, 12.0, 56.8]"
            ]
          },
          "metadata": {
            "tags": []
          },
          "execution_count": 31
        }
      ]
    },
    {
      "cell_type": "markdown",
      "metadata": {
        "id": "rccmIsBr_RXO"
      },
      "source": [
        "#**Draw Results**"
      ]
    },
    {
      "cell_type": "code",
      "metadata": {
        "id": "mv4BmkGS_N4Y",
        "outputId": "2c07829b-c1c4-46ae-f21b-4010f7d01273",
        "colab": {
          "base_uri": "https://localhost:8080/",
          "height": 219
        }
      },
      "source": [
        "top_left = tuple(result[0][0][0])\n",
        "bottom_right = tuple(result[0][0][2])\n",
        "text = result[0][1]\n",
        "font = cv2.FONT_HERSHEY_SIMPLEX"
      ],
      "execution_count": 7,
      "outputs": [
        {
          "output_type": "error",
          "ename": "IndexError",
          "evalue": "ignored",
          "traceback": [
            "\u001b[0;31m---------------------------------------------------------------------------\u001b[0m",
            "\u001b[0;31mIndexError\u001b[0m                                Traceback (most recent call last)",
            "\u001b[0;32m<ipython-input-7-a13842e5364f>\u001b[0m in \u001b[0;36m<module>\u001b[0;34m()\u001b[0m\n\u001b[1;32m      1\u001b[0m \u001b[0mtop_left\u001b[0m \u001b[0;34m=\u001b[0m \u001b[0mtuple\u001b[0m\u001b[0;34m(\u001b[0m\u001b[0mresult\u001b[0m\u001b[0;34m[\u001b[0m\u001b[0;36m0\u001b[0m\u001b[0;34m]\u001b[0m\u001b[0;34m[\u001b[0m\u001b[0;36m0\u001b[0m\u001b[0;34m]\u001b[0m\u001b[0;34m[\u001b[0m\u001b[0;36m0\u001b[0m\u001b[0;34m]\u001b[0m\u001b[0;34m)\u001b[0m\u001b[0;34m\u001b[0m\u001b[0;34m\u001b[0m\u001b[0m\n\u001b[0;32m----> 2\u001b[0;31m \u001b[0mbottom_right\u001b[0m \u001b[0;34m=\u001b[0m \u001b[0mtuple\u001b[0m\u001b[0;34m(\u001b[0m\u001b[0mresult\u001b[0m\u001b[0;34m[\u001b[0m\u001b[0;36m0\u001b[0m\u001b[0;34m]\u001b[0m\u001b[0;34m[\u001b[0m\u001b[0;36m0\u001b[0m\u001b[0;34m]\u001b[0m\u001b[0;34m[\u001b[0m\u001b[0;36m2\u001b[0m\u001b[0;34m]\u001b[0m\u001b[0;34m)\u001b[0m\u001b[0;34m\u001b[0m\u001b[0;34m\u001b[0m\u001b[0m\n\u001b[0m\u001b[1;32m      3\u001b[0m \u001b[0mtext\u001b[0m \u001b[0;34m=\u001b[0m \u001b[0mresult\u001b[0m\u001b[0;34m[\u001b[0m\u001b[0;36m0\u001b[0m\u001b[0;34m]\u001b[0m\u001b[0;34m[\u001b[0m\u001b[0;36m1\u001b[0m\u001b[0;34m]\u001b[0m\u001b[0;34m\u001b[0m\u001b[0;34m\u001b[0m\u001b[0m\n\u001b[1;32m      4\u001b[0m \u001b[0mfont\u001b[0m \u001b[0;34m=\u001b[0m \u001b[0mcv2\u001b[0m\u001b[0;34m.\u001b[0m\u001b[0mFONT_HERSHEY_SIMPLEX\u001b[0m\u001b[0;34m\u001b[0m\u001b[0;34m\u001b[0m\u001b[0m\n",
            "\u001b[0;31mIndexError\u001b[0m: string index out of range"
          ]
        }
      ]
    },
    {
      "cell_type": "code",
      "metadata": {
        "id": "i-1WIY5z__IB"
      },
      "source": [
        "img = cv2.imread(image_path)\n",
        "img = cv2.rectangle(img, top_left, bottom_right, (0,255,0), 5)\n",
        "img = cv2.putText(img, text, top_left, font, .5, (255,255,255),2, cv2.LINE_AA)\n",
        "plt.imshow(img)\n",
        "plt.show()"
      ],
      "execution_count": null,
      "outputs": []
    },
    {
      "cell_type": "markdown",
      "metadata": {
        "id": "tWn3S4QoDiWS"
      },
      "source": [
        "#**Multiple Lines**"
      ]
    },
    {
      "cell_type": "code",
      "metadata": {
        "id": "Ioh-CLDhDlC5"
      },
      "source": [
        "img = cv2.imread(image_path)\n",
        "for detection in result:\n",
        "    top_left = tuple([int(val) for val in detection[0][0]])\n",
        "    bottom_right = tuple([int(val) for val in detection[0][2]])\n",
        "    text = detection[1]\n",
        "    font = cv2.FONT_HERSHEY_SIMPLEX\n",
        "    img = cv2.rectangle(img, top_left, bottom_right, (0,255,0), 5)\n",
        "    img = cv2.putText(img, text, top_left, font, .5, (255,255,255),2, cv2.LINE_AA)\n",
        "\n",
        "plt.figure(figsize=(10,10))\n",
        "plt.imshow(img)\n",
        "plt.show()"
      ],
      "execution_count": null,
      "outputs": []
    }
  ]
}