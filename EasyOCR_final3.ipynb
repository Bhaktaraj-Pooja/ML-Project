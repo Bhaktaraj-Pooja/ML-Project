{
  "nbformat": 4,
  "nbformat_minor": 0,
  "metadata": {
    "colab": {
      "name": "EasyOCR.ipynb",
      "provenance": [],
      "include_colab_link": true
    },
    "kernelspec": {
      "name": "python3",
      "display_name": "Python 3"
    },
    "language_info": {
      "name": "python"
    },
    "accelerator": "GPU"
  },
  "cells": [
    {
      "cell_type": "markdown",
      "metadata": {
        "id": "view-in-github",
        "colab_type": "text"
      },
      "source": [
        "<a href=\"https://colab.research.google.com/github/Bhaktaraj-Pooja/ML-Project/blob/main/EasyOCR_final3.ipynb\" target=\"_parent\"><img src=\"https://colab.research.google.com/assets/colab-badge.svg\" alt=\"Open In Colab\"/></a>"
      ]
    },
    {
      "cell_type": "markdown",
      "metadata": {
        "id": "H0D-ub2V9sB5"
      },
      "source": [
        "#**Install and Import Packages**"
      ]
    },
    {
      "cell_type": "code",
      "metadata": {
        "id": "Ee5j-65W7FEu",
        "colab": {
          "base_uri": "https://localhost:8080/"
        },
        "outputId": "61cf1057-3014-418d-f086-e43e991eb443"
      },
      "source": [
        "!pip install torch torchvision torchaudio\n",
        "!pip install easyocr"
      ],
      "execution_count": 7,
      "outputs": [
        {
          "output_type": "stream",
          "text": [
            "Requirement already satisfied: torch in /usr/local/lib/python3.7/dist-packages (1.8.1+cu101)\n",
            "Requirement already satisfied: torchvision in /usr/local/lib/python3.7/dist-packages (0.9.1+cu101)\n",
            "Requirement already satisfied: torchaudio in /usr/local/lib/python3.7/dist-packages (0.8.1)\n",
            "Requirement already satisfied: typing-extensions in /usr/local/lib/python3.7/dist-packages (from torch) (3.7.4.3)\n",
            "Requirement already satisfied: numpy in /usr/local/lib/python3.7/dist-packages (from torch) (1.19.5)\n",
            "Requirement already satisfied: pillow>=4.1.1 in /usr/local/lib/python3.7/dist-packages (from torchvision) (7.1.2)\n",
            "Requirement already satisfied: easyocr in /usr/local/lib/python3.7/dist-packages (1.3.2)\n",
            "Requirement already satisfied: torchvision>=0.5 in /usr/local/lib/python3.7/dist-packages (from easyocr) (0.9.1+cu101)\n",
            "Requirement already satisfied: torch in /usr/local/lib/python3.7/dist-packages (from easyocr) (1.8.1+cu101)\n",
            "Requirement already satisfied: opencv-python in /usr/local/lib/python3.7/dist-packages (from easyocr) (4.1.2.30)\n",
            "Requirement already satisfied: scikit-image in /usr/local/lib/python3.7/dist-packages (from easyocr) (0.16.2)\n",
            "Requirement already satisfied: Pillow in /usr/local/lib/python3.7/dist-packages (from easyocr) (7.1.2)\n",
            "Requirement already satisfied: PyYAML in /usr/local/lib/python3.7/dist-packages (from easyocr) (3.13)\n",
            "Requirement already satisfied: scipy in /usr/local/lib/python3.7/dist-packages (from easyocr) (1.4.1)\n",
            "Requirement already satisfied: python-bidi in /usr/local/lib/python3.7/dist-packages (from easyocr) (0.4.2)\n",
            "Requirement already satisfied: numpy in /usr/local/lib/python3.7/dist-packages (from easyocr) (1.19.5)\n",
            "Requirement already satisfied: typing-extensions in /usr/local/lib/python3.7/dist-packages (from torch->easyocr) (3.7.4.3)\n",
            "Requirement already satisfied: imageio>=2.3.0 in /usr/local/lib/python3.7/dist-packages (from scikit-image->easyocr) (2.4.1)\n",
            "Requirement already satisfied: networkx>=2.0 in /usr/local/lib/python3.7/dist-packages (from scikit-image->easyocr) (2.5.1)\n",
            "Requirement already satisfied: PyWavelets>=0.4.0 in /usr/local/lib/python3.7/dist-packages (from scikit-image->easyocr) (1.1.1)\n",
            "Requirement already satisfied: matplotlib!=3.0.0,>=2.0.0 in /usr/local/lib/python3.7/dist-packages (from scikit-image->easyocr) (3.2.2)\n",
            "Requirement already satisfied: six in /usr/local/lib/python3.7/dist-packages (from python-bidi->easyocr) (1.15.0)\n",
            "Requirement already satisfied: decorator<5,>=4.3 in /usr/local/lib/python3.7/dist-packages (from networkx>=2.0->scikit-image->easyocr) (4.4.2)\n",
            "Requirement already satisfied: cycler>=0.10 in /usr/local/lib/python3.7/dist-packages (from matplotlib!=3.0.0,>=2.0.0->scikit-image->easyocr) (0.10.0)\n",
            "Requirement already satisfied: python-dateutil>=2.1 in /usr/local/lib/python3.7/dist-packages (from matplotlib!=3.0.0,>=2.0.0->scikit-image->easyocr) (2.8.1)\n",
            "Requirement already satisfied: kiwisolver>=1.0.1 in /usr/local/lib/python3.7/dist-packages (from matplotlib!=3.0.0,>=2.0.0->scikit-image->easyocr) (1.3.1)\n",
            "Requirement already satisfied: pyparsing!=2.0.4,!=2.1.2,!=2.1.6,>=2.0.1 in /usr/local/lib/python3.7/dist-packages (from matplotlib!=3.0.0,>=2.0.0->scikit-image->easyocr) (2.4.7)\n"
          ],
          "name": "stdout"
        }
      ]
    },
    {
      "cell_type": "code",
      "metadata": {
        "id": "C4_BHd657tUm"
      },
      "source": [
        "!pip install pdf2image\n",
        "\n",
        "import easyocr\n",
        "import cv2\n",
        "from matplotlib import pyplot as plt\n",
        "import numpy as np\n",
        "import re\n",
        "import pandas as pd\n",
        "\n",
        "from pdf2image import convert_from_path"
      ],
      "execution_count": 8,
      "outputs": []
    },
    {
      "cell_type": "code",
      "metadata": {
        "id": "wY4Ero1kOMA-"
      },
      "source": [
        "!apt install tesseract-ocr\n",
        "!apt install libtesseract-dev\n",
        "!pip install pdf2image\n",
        "!apt-get install poppler-utils\n",
        "!pip install pytesseract\n",
        "\n",
        "import PIL\n",
        "import os\n",
        "import cv2\n",
        "import pytesseract\n",
        "import re\n",
        "import matplotlib.pyplot as plt\n",
        "import numpy as np\n",
        "import pandas as pd\n",
        "\n",
        "from PIL import Image\n",
        "from os import listdir\n",
        "from os.path import isfile, join\n",
        "from pytesseract import Output\n",
        "from pdf2image import convert_from_path\n",
        "from skimage.filters import threshold_local"
      ],
      "execution_count": null,
      "outputs": []
    },
    {
      "cell_type": "markdown",
      "metadata": {
        "id": "0zLrlP1p-B24"
      },
      "source": [
        "#**Read Images**"
      ]
    },
    {
      "cell_type": "code",
      "metadata": {
        "id": "Hs6QUpuvIBnG"
      },
      "source": [
        "import os\n",
        "from os import listdir\n",
        "from os.path import isfile, join"
      ],
      "execution_count": 9,
      "outputs": []
    },
    {
      "cell_type": "code",
      "metadata": {
        "colab": {
          "base_uri": "https://localhost:8080/"
        },
        "id": "y0rvzg3y-o5I",
        "outputId": "81d5bb06-954e-479b-d110-f83caabb54ce"
      },
      "source": [
        "from google.colab import drive\n",
        "drive.mount('/content/drive/')"
      ],
      "execution_count": 10,
      "outputs": [
        {
          "output_type": "stream",
          "text": [
            "Drive already mounted at /content/drive/; to attempt to forcibly remount, call drive.mount(\"/content/drive/\", force_remount=True).\n"
          ],
          "name": "stdout"
        }
      ]
    },
    {
      "cell_type": "code",
      "metadata": {
        "id": "hshgJWBkN5r_",
        "outputId": "71e4aa24-c739-49ec-9fea-552b9cff21c2",
        "colab": {
          "base_uri": "https://localhost:8080/"
        }
      },
      "source": [
        "#Store folder path in variable\n",
        "folder = \"/content/drive/MyDrive/OCR_DataSet/Test/\"\n",
        "\n",
        "#Get all pdf files in the path\n",
        "files = [file for file in listdir(folder) if isfile(join(folder, file)) and file.endswith('.pdf')]\n",
        "print(files)"
      ],
      "execution_count": 11,
      "outputs": [
        {
          "output_type": "stream",
          "text": [
            "['TE_146.pdf', 'TE_192.pdf', 'TE_171.pdf', 'TE_152.pdf', 'TE_183.pdf', 'TE_193.pdf', 'TE_187.pdf', 'TE_167.pdf', 'TE_147.pdf', 'TE_177.pdf', 'TE_172.pdf', 'TE_154.pdf', 'TE_151.pdf', 'TE_164.pdf', 'TE_149.pdf', 'TE_168.pdf', 'TE_143.pdf', 'TE_142.pdf', 'TE_169.pdf', 'TE_197.pdf', 'TE_144.pdf', 'TE_175.pdf', 'TE_139.pdf', 'TE_198.pdf', 'TE_162.pdf', 'TE_186.pdf', 'TE_189.pdf', 'TE_191.pdf', 'TE_194.pdf', 'TE_196.pdf', 'TE_181.pdf', 'TE_132.pdf', 'TE_184.pdf', 'TE_134.pdf', 'TE_163.pdf', 'TE_190.pdf', 'TE_199.pdf', 'TE_135.pdf', 'TE_138.pdf', 'TE_159.pdf', 'TE_165.pdf', 'TE_179.pdf', 'TE_182.pdf', 'TE_156.pdf', 'TE_153.pdf', 'TE_133.pdf', 'TE_137.pdf', 'TE_148.pdf', 'TE_180.pdf', 'TE_140.pdf', 'TE_155.pdf', 'TE_188.pdf', 'TE_174.pdf', 'TE_195.pdf', 'TE_200.pdf', 'TE_141.pdf', 'TE_157.pdf', 'TE_136.pdf', 'TE_158.pdf', 'TE_178.pdf', 'TE_170.pdf', 'TE_160.pdf', 'TE_145.pdf', 'TE_166.pdf', 'TE_185.pdf', 'TE_173.pdf', 'TE_150.pdf', 'TE_161.pdf', 'TE_176.pdf', 'TE_131.pdf']\n"
          ],
          "name": "stdout"
        }
      ]
    },
    {
      "cell_type": "code",
      "metadata": {
        "id": "_1eQZ96hDlZJ"
      },
      "source": [
        "def find_amounts(text):\n",
        "    amounts = re.findall(r'\\d+\\.\\d{2}\\b', text)\n",
        "    floats = [float(amount) for amount in amounts]\n",
        "    unique = list(dict.fromkeys(floats))\n",
        "    return unique"
      ],
      "execution_count": 12,
      "outputs": []
    },
    {
      "cell_type": "code",
      "metadata": {
        "id": "MiLwWnxsMXMf",
        "outputId": "98321b06-e223-4698-efde-2552e92d1989",
        "colab": {
          "base_uri": "https://localhost:8080/",
          "height": 273
        }
      },
      "source": [
        "Submission = pd.DataFrame(columns=['FileName', 'Total Amount'])\n",
        "\n",
        "dir_tmp = \"/content/drive/MyDrive/OCR_DataSet/tmp/\"\n",
        "\n",
        "for fn in files:\n",
        "   \n",
        "    # Get file name\n",
        "    base_filename = os.path.splitext(os.path.basename(fn))[0] + '.jpg' \n",
        "    print(\"bas_filename: \", base_filename)    \n",
        "\n",
        "    name_only = os.path.splitext(os.path.basename(fn))[0]\n",
        "    print(\"name_only: \", name_only)\n",
        "\n",
        "    images1 = convert_from_path(folder + fn, dpi=100, output_folder=dir_tmp, fmt='jpg', last_page=1, first_page =0, output_file=name_only)\n",
        "\n",
        "    for page in images1:\n",
        "            page.save(os.path.join(dir_tmp, base_filename), 'JPEG')\n",
        "\n",
        "    image_path = save_dir + base_filename\n",
        "    image = cv2.imread(image_path, cv2.IMREAD_GRAYSCALE)\n",
        "    reader = easyocr.Reader(['en'], gpu=True)\n",
        "    result = reader.readtext(image_path, detail = 0)\n",
        "    result\n",
        "    i = 0\n",
        "    fr = \"\"\n",
        "    for i in result:\n",
        "        fr = fr + i + \".\"\n",
        "        #fr =  fr + \"\\n\"\n",
        "    amount = find_amounts(fr)\n",
        "    max_amount = 0\n",
        "    if amount:\n",
        "        max_amount = max(amount)\n",
        "        print(name_only, max_amount)\n",
        "    name_only = os.path.splitext(os.path.basename(imgf))[0]\n",
        "    # add data to submission file dataset\n",
        "    Submission = Submission.append({'FileName':name_only,\n",
        "                      'Total Amount':max_amount}, ignore_index = True)\n",
        "    \n",
        "\n",
        "# write output file to Google drive\n",
        "output_path = '/content/drive/MyDrive/PDF_EasyOCR_Final.csv'\n",
        "Submission.to_csv(output_path, index=False)    "
      ],
      "execution_count": 13,
      "outputs": [
        {
          "output_type": "stream",
          "text": [
            "bas_filename:  TE_146.jpg\n",
            "name_only:  TE_146\n"
          ],
          "name": "stdout"
        },
        {
          "output_type": "error",
          "ename": "NameError",
          "evalue": "ignored",
          "traceback": [
            "\u001b[0;31m---------------------------------------------------------------------------\u001b[0m",
            "\u001b[0;31mNameError\u001b[0m                                 Traceback (most recent call last)",
            "\u001b[0;32m<ipython-input-13-63a672ce257b>\u001b[0m in \u001b[0;36m<module>\u001b[0;34m()\u001b[0m\n\u001b[1;32m     12\u001b[0m     \u001b[0mprint\u001b[0m\u001b[0;34m(\u001b[0m\u001b[0;34m\"name_only: \"\u001b[0m\u001b[0;34m,\u001b[0m \u001b[0mname_only\u001b[0m\u001b[0;34m)\u001b[0m\u001b[0;34m\u001b[0m\u001b[0;34m\u001b[0m\u001b[0m\n\u001b[1;32m     13\u001b[0m \u001b[0;34m\u001b[0m\u001b[0m\n\u001b[0;32m---> 14\u001b[0;31m     \u001b[0mimages1\u001b[0m \u001b[0;34m=\u001b[0m \u001b[0mconvert_from_path\u001b[0m\u001b[0;34m(\u001b[0m\u001b[0mfolder\u001b[0m \u001b[0;34m+\u001b[0m \u001b[0mfn\u001b[0m\u001b[0;34m,\u001b[0m \u001b[0mdpi\u001b[0m\u001b[0;34m=\u001b[0m\u001b[0;36m100\u001b[0m\u001b[0;34m,\u001b[0m \u001b[0moutput_folder\u001b[0m\u001b[0;34m=\u001b[0m\u001b[0mdir_tmp\u001b[0m\u001b[0;34m,\u001b[0m \u001b[0mfmt\u001b[0m\u001b[0;34m=\u001b[0m\u001b[0;34m'jpg'\u001b[0m\u001b[0;34m,\u001b[0m \u001b[0mlast_page\u001b[0m\u001b[0;34m=\u001b[0m\u001b[0;36m1\u001b[0m\u001b[0;34m,\u001b[0m \u001b[0mfirst_page\u001b[0m \u001b[0;34m=\u001b[0m\u001b[0;36m0\u001b[0m\u001b[0;34m,\u001b[0m \u001b[0moutput_file\u001b[0m\u001b[0;34m=\u001b[0m\u001b[0mname_only\u001b[0m\u001b[0;34m)\u001b[0m\u001b[0;34m\u001b[0m\u001b[0;34m\u001b[0m\u001b[0m\n\u001b[0m\u001b[1;32m     15\u001b[0m \u001b[0;34m\u001b[0m\u001b[0m\n\u001b[1;32m     16\u001b[0m     \u001b[0;32mfor\u001b[0m \u001b[0mpage\u001b[0m \u001b[0;32min\u001b[0m \u001b[0mimages1\u001b[0m\u001b[0;34m:\u001b[0m\u001b[0;34m\u001b[0m\u001b[0;34m\u001b[0m\u001b[0m\n",
            "\u001b[0;31mNameError\u001b[0m: name 'convert_from_path' is not defined"
          ]
        }
      ]
    },
    {
      "cell_type": "code",
      "metadata": {
        "id": "f78OTPNv-BUQ"
      },
      "source": [
        "# save_dir = \"/content/drive/MyDrive/OCR_DataSet/tmp/\"\n",
        "# imgfiles = [file for file in listdir(save_dir) if isfile(join(save_dir, file)) and file.endswith('.jpg')]\n",
        "# print(imgfiles)\n",
        "\n",
        "# Submission = pd.DataFrame(columns=['FileName', 'Total Amount'])\n",
        "\n",
        "# for imgf in imgfiles:\n",
        "#     image_path = save_dir + imgf\n",
        "#     image = cv2.imread(image_path, cv2.IMREAD_GRAYSCALE)\n",
        "#     reader = easyocr.Reader(['en'], gpu=True)\n",
        "#     result = reader.readtext(image_path, detail = 0)\n",
        "#     result\n",
        "#     i = 0\n",
        "#     fr = \"\"\n",
        "#     for i in result:\n",
        "#         fr = fr + i + \".\"\n",
        "#         #fr =  fr + \"\\n\"\n",
        "#     amount = find_amounts(fr)\n",
        "#     max_amount = 0\n",
        "#     if amount:\n",
        "#         max_amount = max(amount)\n",
        "#         print(name_only, max_amount)\n",
        "#     name_only = os.path.splitext(os.path.basename(imgf))[0]\n",
        "#     # add data to submission file dataset\n",
        "#     Submission = Submission.append({'FileName':name_only,\n",
        "#                       'Total Amount':max_amount}, ignore_index = True)\n"
      ],
      "execution_count": null,
      "outputs": []
    },
    {
      "cell_type": "markdown",
      "metadata": {
        "id": "rccmIsBr_RXO"
      },
      "source": [
        "#**Draw Results**"
      ]
    }
  ]
}