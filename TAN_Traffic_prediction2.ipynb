{
  "nbformat": 4,
  "nbformat_minor": 0,
  "metadata": {
    "colab": {
      "name": "Traffic_prediction2.ipynb",
      "provenance": [],
      "toc_visible": true,
      "authorship_tag": "ABX9TyMm16MDQAuNxJvEdjuBSXEc",
      "include_colab_link": true
    },
    "kernelspec": {
      "name": "python3",
      "display_name": "Python 3"
    },
    "language_info": {
      "name": "python"
    }
  },
  "cells": [
    {
      "cell_type": "markdown",
      "metadata": {
        "id": "view-in-github",
        "colab_type": "text"
      },
      "source": [
        "<a href=\"https://colab.research.google.com/github/Bhaktaraj-Pooja/ML-Project/blob/main/TAN_Traffic_prediction2.ipynb\" target=\"_parent\"><img src=\"https://colab.research.google.com/assets/colab-badge.svg\" alt=\"Open In Colab\"/></a>"
      ]
    },
    {
      "cell_type": "code",
      "metadata": {
        "id": "mCgfbPIxduwo"
      },
      "source": [
        "import pandas as pd\n",
        "\n",
        "from sklearn import tree\n",
        "from sklearn.metrics import mean_squared_error\n",
        "from sklearn.preprocessing import OneHotEncoder"
      ],
      "execution_count": 160,
      "outputs": []
    },
    {
      "cell_type": "code",
      "metadata": {
        "colab": {
          "base_uri": "https://localhost:8080/"
        },
        "id": "cmO5ImEregI_",
        "outputId": "dd04f2ec-a265-4a70-c036-15ff3ab92802"
      },
      "source": [
        "from google.colab import drive\n",
        "drive.mount('/content/drive')"
      ],
      "execution_count": 161,
      "outputs": [
        {
          "output_type": "stream",
          "text": [
            "Drive already mounted at /content/drive; to attempt to forcibly remount, call drive.mount(\"/content/drive\", force_remount=True).\n"
          ],
          "name": "stdout"
        }
      ]
    },
    {
      "cell_type": "markdown",
      "metadata": {
        "id": "uOfEz6XXe5Ku"
      },
      "source": [
        "#**Load data**"
      ]
    },
    {
      "cell_type": "code",
      "metadata": {
        "id": "MYZAJfE0eWL7"
      },
      "source": [
        "train_set = pd.read_csv('/content/drive/MyDrive/Train_traffic.csv')\n",
        "test_set = pd.read_csv('/content/drive/MyDrive/Test_traffic.csv')"
      ],
      "execution_count": 162,
      "outputs": []
    },
    {
      "cell_type": "code",
      "metadata": {
        "colab": {
          "base_uri": "https://localhost:8080/"
        },
        "id": "IYXA6UqyeqTn",
        "outputId": "31321ad7-8e18-4d34-b64c-40301fd62698"
      },
      "source": [
        "print(train_set.head())"
      ],
      "execution_count": 163,
      "outputs": [
        {
          "output_type": "stream",
          "text": [
            "             date_time is_holiday  ...  weather_description  traffic_volume\n",
            "0  2012-10-02 09:00:00       None  ...     scattered clouds            5545\n",
            "1  2012-10-02 10:00:00       None  ...        broken clouds            4516\n",
            "2  2012-10-02 11:00:00       None  ...      overcast clouds            4767\n",
            "3  2012-10-02 12:00:00       None  ...      overcast clouds            5026\n",
            "4  2012-10-02 13:00:00       None  ...        broken clouds            4918\n",
            "\n",
            "[5 rows x 15 columns]\n"
          ],
          "name": "stdout"
        }
      ]
    },
    {
      "cell_type": "markdown",
      "metadata": {
        "id": "Qy-14Z1Ze98-"
      },
      "source": [
        "#**Prepare Train Data**"
      ]
    },
    {
      "cell_type": "code",
      "metadata": {
        "id": "iAPUVlxOesr3"
      },
      "source": [
        "train_set['date_time'] = pd.to_datetime(train_set.date_time)"
      ],
      "execution_count": 164,
      "outputs": []
    },
    {
      "cell_type": "code",
      "metadata": {
        "id": "oy4Wc8RIevVn"
      },
      "source": [
        "train_set['year'] = train_set.date_time.dt.year\n",
        "train_set['month'] = train_set.date_time.dt.month\n",
        "train_set['day'] = train_set.date_time.dt.day\n",
        "train_set['hour'] = train_set.date_time.dt.hour"
      ],
      "execution_count": 165,
      "outputs": []
    },
    {
      "cell_type": "code",
      "metadata": {
        "colab": {
          "base_uri": "https://localhost:8080/"
        },
        "id": "GH4MzEXxex3Q",
        "outputId": "5fcc9ace-12e1-4a50-f1de-89f7edf8fc67"
      },
      "source": [
        "train_copy = train_set.drop(['date_time'], axis=1)\n",
        "print(train_copy.head())"
      ],
      "execution_count": 166,
      "outputs": [
        {
          "output_type": "stream",
          "text": [
            "  is_holiday  air_pollution_index  humidity  wind_speed  ...  year  month  day  hour\n",
            "0       None                  121        89           2  ...  2012     10    2     9\n",
            "1       None                  178        67           3  ...  2012     10    2    10\n",
            "2       None                  113        66           3  ...  2012     10    2    11\n",
            "3       None                   20        66           3  ...  2012     10    2    12\n",
            "4       None                  281        65           3  ...  2012     10    2    13\n",
            "\n",
            "[5 rows x 18 columns]\n"
          ],
          "name": "stdout"
        }
      ]
    },
    {
      "cell_type": "markdown",
      "metadata": {
        "id": "8kJRpJg_fELx"
      },
      "source": [
        "#**One-hot-encoding**"
      ]
    },
    {
      "cell_type": "code",
      "metadata": {
        "id": "SOWppTdZe0dN"
      },
      "source": [
        "train_onehot = train_copy.copy()"
      ],
      "execution_count": 167,
      "outputs": []
    },
    {
      "cell_type": "code",
      "metadata": {
        "id": "WNSXMUaUfJnH"
      },
      "source": [
        "train_onehot = pd.get_dummies(train_onehot, columns=['is_holiday', 'weather_type', 'weather_description'], \n",
        "                              prefix=['is_holiday', 'weather_type', 'weather_desc'])"
      ],
      "execution_count": 168,
      "outputs": []
    },
    {
      "cell_type": "code",
      "metadata": {
        "colab": {
          "base_uri": "https://localhost:8080/",
          "height": 251
        },
        "id": "9RqEpVg5fMj3",
        "outputId": "6b827645-17b7-4e5c-c156-d5a90c0c7a1c"
      },
      "source": [
        "train_onehot = train_onehot.astype(float)\n",
        "train_onehot.head()"
      ],
      "execution_count": 169,
      "outputs": [
        {
          "output_type": "execute_result",
          "data": {
            "text/html": [
              "<div>\n",
              "<style scoped>\n",
              "    .dataframe tbody tr th:only-of-type {\n",
              "        vertical-align: middle;\n",
              "    }\n",
              "\n",
              "    .dataframe tbody tr th {\n",
              "        vertical-align: top;\n",
              "    }\n",
              "\n",
              "    .dataframe thead th {\n",
              "        text-align: right;\n",
              "    }\n",
              "</style>\n",
              "<table border=\"1\" class=\"dataframe\">\n",
              "  <thead>\n",
              "    <tr style=\"text-align: right;\">\n",
              "      <th></th>\n",
              "      <th>air_pollution_index</th>\n",
              "      <th>humidity</th>\n",
              "      <th>wind_speed</th>\n",
              "      <th>wind_direction</th>\n",
              "      <th>visibility_in_miles</th>\n",
              "      <th>dew_point</th>\n",
              "      <th>temperature</th>\n",
              "      <th>rain_p_h</th>\n",
              "      <th>snow_p_h</th>\n",
              "      <th>clouds_all</th>\n",
              "      <th>traffic_volume</th>\n",
              "      <th>year</th>\n",
              "      <th>month</th>\n",
              "      <th>day</th>\n",
              "      <th>hour</th>\n",
              "      <th>is_holiday_Christmas Day</th>\n",
              "      <th>is_holiday_Columbus Day</th>\n",
              "      <th>is_holiday_Independence Day</th>\n",
              "      <th>is_holiday_Labor Day</th>\n",
              "      <th>is_holiday_Martin Luther King Jr Day</th>\n",
              "      <th>is_holiday_Memorial Day</th>\n",
              "      <th>is_holiday_New Years Day</th>\n",
              "      <th>is_holiday_None</th>\n",
              "      <th>is_holiday_State Fair</th>\n",
              "      <th>is_holiday_Thanksgiving Day</th>\n",
              "      <th>is_holiday_Veterans Day</th>\n",
              "      <th>is_holiday_Washingtons Birthday</th>\n",
              "      <th>weather_type_Clear</th>\n",
              "      <th>weather_type_Clouds</th>\n",
              "      <th>weather_type_Drizzle</th>\n",
              "      <th>weather_type_Fog</th>\n",
              "      <th>weather_type_Haze</th>\n",
              "      <th>weather_type_Mist</th>\n",
              "      <th>weather_type_Rain</th>\n",
              "      <th>weather_type_Smoke</th>\n",
              "      <th>weather_type_Snow</th>\n",
              "      <th>weather_type_Squall</th>\n",
              "      <th>weather_type_Thunderstorm</th>\n",
              "      <th>weather_desc_SQUALLS</th>\n",
              "      <th>weather_desc_Sky is Clear</th>\n",
              "      <th>weather_desc_broken clouds</th>\n",
              "      <th>weather_desc_drizzle</th>\n",
              "      <th>weather_desc_few clouds</th>\n",
              "      <th>weather_desc_fog</th>\n",
              "      <th>weather_desc_freezing rain</th>\n",
              "      <th>weather_desc_haze</th>\n",
              "      <th>weather_desc_heavy intensity drizzle</th>\n",
              "      <th>weather_desc_heavy intensity rain</th>\n",
              "      <th>weather_desc_heavy snow</th>\n",
              "      <th>weather_desc_light intensity drizzle</th>\n",
              "      <th>weather_desc_light intensity shower rain</th>\n",
              "      <th>weather_desc_light rain</th>\n",
              "      <th>weather_desc_light rain and snow</th>\n",
              "      <th>weather_desc_light shower snow</th>\n",
              "      <th>weather_desc_light snow</th>\n",
              "      <th>weather_desc_mist</th>\n",
              "      <th>weather_desc_moderate rain</th>\n",
              "      <th>weather_desc_overcast clouds</th>\n",
              "      <th>weather_desc_proximity shower rain</th>\n",
              "      <th>weather_desc_proximity thunderstorm</th>\n",
              "      <th>weather_desc_proximity thunderstorm with drizzle</th>\n",
              "      <th>weather_desc_proximity thunderstorm with rain</th>\n",
              "      <th>weather_desc_scattered clouds</th>\n",
              "      <th>weather_desc_shower drizzle</th>\n",
              "      <th>weather_desc_shower snow</th>\n",
              "      <th>weather_desc_sky is clear</th>\n",
              "      <th>weather_desc_sleet</th>\n",
              "      <th>weather_desc_smoke</th>\n",
              "      <th>weather_desc_snow</th>\n",
              "      <th>weather_desc_thunderstorm</th>\n",
              "      <th>weather_desc_thunderstorm with drizzle</th>\n",
              "      <th>weather_desc_thunderstorm with heavy rain</th>\n",
              "      <th>weather_desc_thunderstorm with light drizzle</th>\n",
              "      <th>weather_desc_thunderstorm with light rain</th>\n",
              "      <th>weather_desc_thunderstorm with rain</th>\n",
              "      <th>weather_desc_very heavy rain</th>\n",
              "    </tr>\n",
              "  </thead>\n",
              "  <tbody>\n",
              "    <tr>\n",
              "      <th>0</th>\n",
              "      <td>121.0</td>\n",
              "      <td>89.0</td>\n",
              "      <td>2.0</td>\n",
              "      <td>329.0</td>\n",
              "      <td>1.0</td>\n",
              "      <td>1.0</td>\n",
              "      <td>288.28</td>\n",
              "      <td>0.0</td>\n",
              "      <td>0.0</td>\n",
              "      <td>40.0</td>\n",
              "      <td>5545.0</td>\n",
              "      <td>2012.0</td>\n",
              "      <td>10.0</td>\n",
              "      <td>2.0</td>\n",
              "      <td>9.0</td>\n",
              "      <td>0.0</td>\n",
              "      <td>0.0</td>\n",
              "      <td>0.0</td>\n",
              "      <td>0.0</td>\n",
              "      <td>0.0</td>\n",
              "      <td>0.0</td>\n",
              "      <td>0.0</td>\n",
              "      <td>1.0</td>\n",
              "      <td>0.0</td>\n",
              "      <td>0.0</td>\n",
              "      <td>0.0</td>\n",
              "      <td>0.0</td>\n",
              "      <td>0.0</td>\n",
              "      <td>1.0</td>\n",
              "      <td>0.0</td>\n",
              "      <td>0.0</td>\n",
              "      <td>0.0</td>\n",
              "      <td>0.0</td>\n",
              "      <td>0.0</td>\n",
              "      <td>0.0</td>\n",
              "      <td>0.0</td>\n",
              "      <td>0.0</td>\n",
              "      <td>0.0</td>\n",
              "      <td>0.0</td>\n",
              "      <td>0.0</td>\n",
              "      <td>0.0</td>\n",
              "      <td>0.0</td>\n",
              "      <td>0.0</td>\n",
              "      <td>0.0</td>\n",
              "      <td>0.0</td>\n",
              "      <td>0.0</td>\n",
              "      <td>0.0</td>\n",
              "      <td>0.0</td>\n",
              "      <td>0.0</td>\n",
              "      <td>0.0</td>\n",
              "      <td>0.0</td>\n",
              "      <td>0.0</td>\n",
              "      <td>0.0</td>\n",
              "      <td>0.0</td>\n",
              "      <td>0.0</td>\n",
              "      <td>0.0</td>\n",
              "      <td>0.0</td>\n",
              "      <td>0.0</td>\n",
              "      <td>0.0</td>\n",
              "      <td>0.0</td>\n",
              "      <td>0.0</td>\n",
              "      <td>0.0</td>\n",
              "      <td>1.0</td>\n",
              "      <td>0.0</td>\n",
              "      <td>0.0</td>\n",
              "      <td>0.0</td>\n",
              "      <td>0.0</td>\n",
              "      <td>0.0</td>\n",
              "      <td>0.0</td>\n",
              "      <td>0.0</td>\n",
              "      <td>0.0</td>\n",
              "      <td>0.0</td>\n",
              "      <td>0.0</td>\n",
              "      <td>0.0</td>\n",
              "      <td>0.0</td>\n",
              "      <td>0.0</td>\n",
              "    </tr>\n",
              "    <tr>\n",
              "      <th>1</th>\n",
              "      <td>178.0</td>\n",
              "      <td>67.0</td>\n",
              "      <td>3.0</td>\n",
              "      <td>330.0</td>\n",
              "      <td>1.0</td>\n",
              "      <td>1.0</td>\n",
              "      <td>289.36</td>\n",
              "      <td>0.0</td>\n",
              "      <td>0.0</td>\n",
              "      <td>75.0</td>\n",
              "      <td>4516.0</td>\n",
              "      <td>2012.0</td>\n",
              "      <td>10.0</td>\n",
              "      <td>2.0</td>\n",
              "      <td>10.0</td>\n",
              "      <td>0.0</td>\n",
              "      <td>0.0</td>\n",
              "      <td>0.0</td>\n",
              "      <td>0.0</td>\n",
              "      <td>0.0</td>\n",
              "      <td>0.0</td>\n",
              "      <td>0.0</td>\n",
              "      <td>1.0</td>\n",
              "      <td>0.0</td>\n",
              "      <td>0.0</td>\n",
              "      <td>0.0</td>\n",
              "      <td>0.0</td>\n",
              "      <td>0.0</td>\n",
              "      <td>1.0</td>\n",
              "      <td>0.0</td>\n",
              "      <td>0.0</td>\n",
              "      <td>0.0</td>\n",
              "      <td>0.0</td>\n",
              "      <td>0.0</td>\n",
              "      <td>0.0</td>\n",
              "      <td>0.0</td>\n",
              "      <td>0.0</td>\n",
              "      <td>0.0</td>\n",
              "      <td>0.0</td>\n",
              "      <td>0.0</td>\n",
              "      <td>1.0</td>\n",
              "      <td>0.0</td>\n",
              "      <td>0.0</td>\n",
              "      <td>0.0</td>\n",
              "      <td>0.0</td>\n",
              "      <td>0.0</td>\n",
              "      <td>0.0</td>\n",
              "      <td>0.0</td>\n",
              "      <td>0.0</td>\n",
              "      <td>0.0</td>\n",
              "      <td>0.0</td>\n",
              "      <td>0.0</td>\n",
              "      <td>0.0</td>\n",
              "      <td>0.0</td>\n",
              "      <td>0.0</td>\n",
              "      <td>0.0</td>\n",
              "      <td>0.0</td>\n",
              "      <td>0.0</td>\n",
              "      <td>0.0</td>\n",
              "      <td>0.0</td>\n",
              "      <td>0.0</td>\n",
              "      <td>0.0</td>\n",
              "      <td>0.0</td>\n",
              "      <td>0.0</td>\n",
              "      <td>0.0</td>\n",
              "      <td>0.0</td>\n",
              "      <td>0.0</td>\n",
              "      <td>0.0</td>\n",
              "      <td>0.0</td>\n",
              "      <td>0.0</td>\n",
              "      <td>0.0</td>\n",
              "      <td>0.0</td>\n",
              "      <td>0.0</td>\n",
              "      <td>0.0</td>\n",
              "      <td>0.0</td>\n",
              "      <td>0.0</td>\n",
              "    </tr>\n",
              "    <tr>\n",
              "      <th>2</th>\n",
              "      <td>113.0</td>\n",
              "      <td>66.0</td>\n",
              "      <td>3.0</td>\n",
              "      <td>329.0</td>\n",
              "      <td>2.0</td>\n",
              "      <td>2.0</td>\n",
              "      <td>289.58</td>\n",
              "      <td>0.0</td>\n",
              "      <td>0.0</td>\n",
              "      <td>90.0</td>\n",
              "      <td>4767.0</td>\n",
              "      <td>2012.0</td>\n",
              "      <td>10.0</td>\n",
              "      <td>2.0</td>\n",
              "      <td>11.0</td>\n",
              "      <td>0.0</td>\n",
              "      <td>0.0</td>\n",
              "      <td>0.0</td>\n",
              "      <td>0.0</td>\n",
              "      <td>0.0</td>\n",
              "      <td>0.0</td>\n",
              "      <td>0.0</td>\n",
              "      <td>1.0</td>\n",
              "      <td>0.0</td>\n",
              "      <td>0.0</td>\n",
              "      <td>0.0</td>\n",
              "      <td>0.0</td>\n",
              "      <td>0.0</td>\n",
              "      <td>1.0</td>\n",
              "      <td>0.0</td>\n",
              "      <td>0.0</td>\n",
              "      <td>0.0</td>\n",
              "      <td>0.0</td>\n",
              "      <td>0.0</td>\n",
              "      <td>0.0</td>\n",
              "      <td>0.0</td>\n",
              "      <td>0.0</td>\n",
              "      <td>0.0</td>\n",
              "      <td>0.0</td>\n",
              "      <td>0.0</td>\n",
              "      <td>0.0</td>\n",
              "      <td>0.0</td>\n",
              "      <td>0.0</td>\n",
              "      <td>0.0</td>\n",
              "      <td>0.0</td>\n",
              "      <td>0.0</td>\n",
              "      <td>0.0</td>\n",
              "      <td>0.0</td>\n",
              "      <td>0.0</td>\n",
              "      <td>0.0</td>\n",
              "      <td>0.0</td>\n",
              "      <td>0.0</td>\n",
              "      <td>0.0</td>\n",
              "      <td>0.0</td>\n",
              "      <td>0.0</td>\n",
              "      <td>0.0</td>\n",
              "      <td>0.0</td>\n",
              "      <td>1.0</td>\n",
              "      <td>0.0</td>\n",
              "      <td>0.0</td>\n",
              "      <td>0.0</td>\n",
              "      <td>0.0</td>\n",
              "      <td>0.0</td>\n",
              "      <td>0.0</td>\n",
              "      <td>0.0</td>\n",
              "      <td>0.0</td>\n",
              "      <td>0.0</td>\n",
              "      <td>0.0</td>\n",
              "      <td>0.0</td>\n",
              "      <td>0.0</td>\n",
              "      <td>0.0</td>\n",
              "      <td>0.0</td>\n",
              "      <td>0.0</td>\n",
              "      <td>0.0</td>\n",
              "      <td>0.0</td>\n",
              "      <td>0.0</td>\n",
              "    </tr>\n",
              "    <tr>\n",
              "      <th>3</th>\n",
              "      <td>20.0</td>\n",
              "      <td>66.0</td>\n",
              "      <td>3.0</td>\n",
              "      <td>329.0</td>\n",
              "      <td>5.0</td>\n",
              "      <td>5.0</td>\n",
              "      <td>290.13</td>\n",
              "      <td>0.0</td>\n",
              "      <td>0.0</td>\n",
              "      <td>90.0</td>\n",
              "      <td>5026.0</td>\n",
              "      <td>2012.0</td>\n",
              "      <td>10.0</td>\n",
              "      <td>2.0</td>\n",
              "      <td>12.0</td>\n",
              "      <td>0.0</td>\n",
              "      <td>0.0</td>\n",
              "      <td>0.0</td>\n",
              "      <td>0.0</td>\n",
              "      <td>0.0</td>\n",
              "      <td>0.0</td>\n",
              "      <td>0.0</td>\n",
              "      <td>1.0</td>\n",
              "      <td>0.0</td>\n",
              "      <td>0.0</td>\n",
              "      <td>0.0</td>\n",
              "      <td>0.0</td>\n",
              "      <td>0.0</td>\n",
              "      <td>1.0</td>\n",
              "      <td>0.0</td>\n",
              "      <td>0.0</td>\n",
              "      <td>0.0</td>\n",
              "      <td>0.0</td>\n",
              "      <td>0.0</td>\n",
              "      <td>0.0</td>\n",
              "      <td>0.0</td>\n",
              "      <td>0.0</td>\n",
              "      <td>0.0</td>\n",
              "      <td>0.0</td>\n",
              "      <td>0.0</td>\n",
              "      <td>0.0</td>\n",
              "      <td>0.0</td>\n",
              "      <td>0.0</td>\n",
              "      <td>0.0</td>\n",
              "      <td>0.0</td>\n",
              "      <td>0.0</td>\n",
              "      <td>0.0</td>\n",
              "      <td>0.0</td>\n",
              "      <td>0.0</td>\n",
              "      <td>0.0</td>\n",
              "      <td>0.0</td>\n",
              "      <td>0.0</td>\n",
              "      <td>0.0</td>\n",
              "      <td>0.0</td>\n",
              "      <td>0.0</td>\n",
              "      <td>0.0</td>\n",
              "      <td>0.0</td>\n",
              "      <td>1.0</td>\n",
              "      <td>0.0</td>\n",
              "      <td>0.0</td>\n",
              "      <td>0.0</td>\n",
              "      <td>0.0</td>\n",
              "      <td>0.0</td>\n",
              "      <td>0.0</td>\n",
              "      <td>0.0</td>\n",
              "      <td>0.0</td>\n",
              "      <td>0.0</td>\n",
              "      <td>0.0</td>\n",
              "      <td>0.0</td>\n",
              "      <td>0.0</td>\n",
              "      <td>0.0</td>\n",
              "      <td>0.0</td>\n",
              "      <td>0.0</td>\n",
              "      <td>0.0</td>\n",
              "      <td>0.0</td>\n",
              "      <td>0.0</td>\n",
              "    </tr>\n",
              "    <tr>\n",
              "      <th>4</th>\n",
              "      <td>281.0</td>\n",
              "      <td>65.0</td>\n",
              "      <td>3.0</td>\n",
              "      <td>329.0</td>\n",
              "      <td>7.0</td>\n",
              "      <td>7.0</td>\n",
              "      <td>291.14</td>\n",
              "      <td>0.0</td>\n",
              "      <td>0.0</td>\n",
              "      <td>75.0</td>\n",
              "      <td>4918.0</td>\n",
              "      <td>2012.0</td>\n",
              "      <td>10.0</td>\n",
              "      <td>2.0</td>\n",
              "      <td>13.0</td>\n",
              "      <td>0.0</td>\n",
              "      <td>0.0</td>\n",
              "      <td>0.0</td>\n",
              "      <td>0.0</td>\n",
              "      <td>0.0</td>\n",
              "      <td>0.0</td>\n",
              "      <td>0.0</td>\n",
              "      <td>1.0</td>\n",
              "      <td>0.0</td>\n",
              "      <td>0.0</td>\n",
              "      <td>0.0</td>\n",
              "      <td>0.0</td>\n",
              "      <td>0.0</td>\n",
              "      <td>1.0</td>\n",
              "      <td>0.0</td>\n",
              "      <td>0.0</td>\n",
              "      <td>0.0</td>\n",
              "      <td>0.0</td>\n",
              "      <td>0.0</td>\n",
              "      <td>0.0</td>\n",
              "      <td>0.0</td>\n",
              "      <td>0.0</td>\n",
              "      <td>0.0</td>\n",
              "      <td>0.0</td>\n",
              "      <td>0.0</td>\n",
              "      <td>1.0</td>\n",
              "      <td>0.0</td>\n",
              "      <td>0.0</td>\n",
              "      <td>0.0</td>\n",
              "      <td>0.0</td>\n",
              "      <td>0.0</td>\n",
              "      <td>0.0</td>\n",
              "      <td>0.0</td>\n",
              "      <td>0.0</td>\n",
              "      <td>0.0</td>\n",
              "      <td>0.0</td>\n",
              "      <td>0.0</td>\n",
              "      <td>0.0</td>\n",
              "      <td>0.0</td>\n",
              "      <td>0.0</td>\n",
              "      <td>0.0</td>\n",
              "      <td>0.0</td>\n",
              "      <td>0.0</td>\n",
              "      <td>0.0</td>\n",
              "      <td>0.0</td>\n",
              "      <td>0.0</td>\n",
              "      <td>0.0</td>\n",
              "      <td>0.0</td>\n",
              "      <td>0.0</td>\n",
              "      <td>0.0</td>\n",
              "      <td>0.0</td>\n",
              "      <td>0.0</td>\n",
              "      <td>0.0</td>\n",
              "      <td>0.0</td>\n",
              "      <td>0.0</td>\n",
              "      <td>0.0</td>\n",
              "      <td>0.0</td>\n",
              "      <td>0.0</td>\n",
              "      <td>0.0</td>\n",
              "      <td>0.0</td>\n",
              "      <td>0.0</td>\n",
              "    </tr>\n",
              "  </tbody>\n",
              "</table>\n",
              "</div>"
            ],
            "text/plain": [
              "   air_pollution_index  ...  weather_desc_very heavy rain\n",
              "0                121.0  ...                           0.0\n",
              "1                178.0  ...                           0.0\n",
              "2                113.0  ...                           0.0\n",
              "3                 20.0  ...                           0.0\n",
              "4                281.0  ...                           0.0\n",
              "\n",
              "[5 rows x 76 columns]"
            ]
          },
          "metadata": {
            "tags": []
          },
          "execution_count": 169
        }
      ]
    },
    {
      "cell_type": "markdown",
      "metadata": {
        "id": "e41hvnLIfQmv"
      },
      "source": [
        "#**Preparing the Test data**"
      ]
    },
    {
      "cell_type": "code",
      "metadata": {
        "id": "bMxxe2AEfNzQ"
      },
      "source": [
        "test_set['date_time'] = pd.to_datetime(test_set.date_time)"
      ],
      "execution_count": 170,
      "outputs": []
    },
    {
      "cell_type": "code",
      "metadata": {
        "id": "q2gvWoi6fXJY"
      },
      "source": [
        "test_set['year'] = test_set.date_time.dt.year\n",
        "test_set['month'] = test_set.date_time.dt.month\n",
        "test_set['day'] = test_set.date_time.dt.day\n",
        "test_set['hour'] = test_set.date_time.dt.hour"
      ],
      "execution_count": 171,
      "outputs": []
    },
    {
      "cell_type": "code",
      "metadata": {
        "id": "fmA6oAKNfYEQ"
      },
      "source": [
        "test_copy = test_set.drop(['date_time'], axis=1)"
      ],
      "execution_count": 172,
      "outputs": []
    },
    {
      "cell_type": "code",
      "metadata": {
        "id": "BZ4D_DJNfbam"
      },
      "source": [
        "test_onehot = test_copy.copy()\n",
        "test_onehot = pd.get_dummies(test_onehot, columns=['is_holiday', 'weather_type', 'weather_description'], \n",
        "                              prefix=['is_holiday', 'weather_type', 'weather_desc'])"
      ],
      "execution_count": 173,
      "outputs": []
    },
    {
      "cell_type": "code",
      "metadata": {
        "colab": {
          "base_uri": "https://localhost:8080/"
        },
        "id": "yo9xyPJvfd8B",
        "outputId": "cfbd0e67-bb8e-4dde-d4b6-80288b7a9dfb"
      },
      "source": [
        "print(len(train_onehot.columns))\n",
        "print(len(train_onehot))"
      ],
      "execution_count": 174,
      "outputs": [
        {
          "output_type": "stream",
          "text": [
            "76\n",
            "33750\n"
          ],
          "name": "stdout"
        }
      ]
    },
    {
      "cell_type": "code",
      "metadata": {
        "colab": {
          "base_uri": "https://localhost:8080/"
        },
        "id": "Vqw5hYo8ffuP",
        "outputId": "46e307e0-bb35-4db6-cd67-5321c16d866e"
      },
      "source": [
        "print(len(test_onehot.columns))\n",
        "print(len(test_onehot))"
      ],
      "execution_count": 175,
      "outputs": [
        {
          "output_type": "stream",
          "text": [
            "68\n",
            "14454\n"
          ],
          "name": "stdout"
        }
      ]
    },
    {
      "cell_type": "code",
      "metadata": {
        "colab": {
          "base_uri": "https://localhost:8080/"
        },
        "id": "oCLi4JB7fho4",
        "outputId": "7366d4a9-63b8-404e-b608-d4368efde8aa"
      },
      "source": [
        "# find the features that are not in test data set\n",
        "for x in train_onehot.columns:\n",
        "    if x not in test_onehot.columns and x != 'traffic_volume':\n",
        "        print(x)\n",
        "        test_onehot[x] = train_onehot[x]"
      ],
      "execution_count": 176,
      "outputs": [
        {
          "output_type": "stream",
          "text": [
            "weather_type_Squall\n",
            "weather_desc_SQUALLS\n",
            "weather_desc_freezing rain\n",
            "weather_desc_light rain and snow\n",
            "weather_desc_shower snow\n",
            "weather_desc_thunderstorm with drizzle\n",
            "weather_desc_very heavy rain\n"
          ],
          "name": "stdout"
        }
      ]
    },
    {
      "cell_type": "code",
      "metadata": {
        "id": "ybP3bPKhfkjx"
      },
      "source": [
        "test_onehot = test_onehot.astype(float)"
      ],
      "execution_count": 177,
      "outputs": []
    },
    {
      "cell_type": "markdown",
      "metadata": {
        "id": "50Jn6lm8fozN"
      },
      "source": [
        "#**Train and Test data**"
      ]
    },
    {
      "cell_type": "code",
      "metadata": {
        "id": "jGO99ByTfmiD"
      },
      "source": [
        "y_train = train_onehot['traffic_volume']\n",
        "x_train = train_onehot.drop(['traffic_volume'], axis=1)"
      ],
      "execution_count": 178,
      "outputs": []
    },
    {
      "cell_type": "markdown",
      "metadata": {
        "id": "tamaudI4fxfY"
      },
      "source": [
        "#**Training**"
      ]
    },
    {
      "cell_type": "code",
      "metadata": {
        "colab": {
          "base_uri": "https://localhost:8080/"
        },
        "id": "0Ha5sLRUfu44",
        "outputId": "6cc35b39-adb1-4db8-975c-ad5ac450c635"
      },
      "source": [
        "dec_tree_reg = tree.DecisionTreeRegressor()\n",
        "dec_tree_reg.fit(x_train, y_train)"
      ],
      "execution_count": 179,
      "outputs": [
        {
          "output_type": "execute_result",
          "data": {
            "text/plain": [
              "DecisionTreeRegressor(ccp_alpha=0.0, criterion='mse', max_depth=None,\n",
              "                      max_features=None, max_leaf_nodes=None,\n",
              "                      min_impurity_decrease=0.0, min_impurity_split=None,\n",
              "                      min_samples_leaf=1, min_samples_split=2,\n",
              "                      min_weight_fraction_leaf=0.0, presort='deprecated',\n",
              "                      random_state=None, splitter='best')"
            ]
          },
          "metadata": {
            "tags": []
          },
          "execution_count": 179
        }
      ]
    },
    {
      "cell_type": "markdown",
      "metadata": {
        "id": "XxuWrqRTf4ow"
      },
      "source": [
        "#**Decision Tree Regressor**"
      ]
    },
    {
      "cell_type": "code",
      "metadata": {
        "colab": {
          "base_uri": "https://localhost:8080/"
        },
        "id": "vm2ruDb-f8By",
        "outputId": "5f6fe27c-d8bf-40ba-e4c6-68cf3ac2ec9a"
      },
      "source": [
        "preds = dec_tree_reg.predict(test_onehot)\n",
        "print(len(preds))\n",
        "print(preds)\n",
        "preds = preds.astype(int)\n",
        "print(preds)"
      ],
      "execution_count": 180,
      "outputs": [
        {
          "output_type": "stream",
          "text": [
            "14454\n",
            "[ 582.  582.  582. ... 3382. 1422. 1011.]\n",
            "[ 582  582  582 ... 3382 1422 1011]\n"
          ],
          "name": "stdout"
        }
      ]
    },
    {
      "cell_type": "code",
      "metadata": {
        "colab": {
          "base_uri": "https://localhost:8080/"
        },
        "id": "ATQql2k6gBB5",
        "outputId": "de8e8493-2d97-4b16-e5c7-c0fa4a1b8d6d"
      },
      "source": [
        "submission = pd.DataFrame(columns = ['date_time', 'traffic_volume']) \n",
        "print(submission.head())\n",
        "submission.date_time = test_set.date_time\n",
        "submission.traffic_volume = preds\n",
        "print(len(submission))\n",
        "print(submission.head())\n",
        "submission.to_csv('/content/drive/MyDrive/traffic_predict.csv', index=False)"
      ],
      "execution_count": 181,
      "outputs": [
        {
          "output_type": "stream",
          "text": [
            "Empty DataFrame\n",
            "Columns: [date_time, traffic_volume]\n",
            "Index: []\n",
            "14454\n",
            "            date_time  traffic_volume\n",
            "0 2017-05-18 00:00:00             582\n",
            "1 2017-05-18 00:00:00             582\n",
            "2 2017-05-18 00:00:00             582\n",
            "3 2017-05-18 01:00:00             355\n",
            "4 2017-05-18 01:00:00             870\n"
          ],
          "name": "stdout"
        }
      ]
    }
  ]
}