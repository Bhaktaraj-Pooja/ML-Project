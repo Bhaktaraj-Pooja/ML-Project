{
  "nbformat": 4,
  "nbformat_minor": 0,
  "metadata": {
    "kernelspec": {
      "language": "python",
      "display_name": "Python 3",
      "name": "python3"
    },
    "language_info": {
      "pygments_lexer": "ipython3",
      "nbconvert_exporter": "python",
      "version": "3.6.4",
      "file_extension": ".py",
      "codemirror_mode": {
        "name": "ipython",
        "version": 3
      },
      "name": "python",
      "mimetype": "text/x-python"
    },
    "colab": {
      "name": "DG_Tom and Jerry_29052021.ipynb",
      "provenance": [],
      "collapsed_sections": [],
      "include_colab_link": true
    }
  },
  "cells": [
    {
      "cell_type": "markdown",
      "metadata": {
        "id": "view-in-github",
        "colab_type": "text"
      },
      "source": [
        "<a href=\"https://colab.research.google.com/github/Bhaktaraj-Pooja/ML-Project/blob/main/DG_Tom_and_Jerry_29052021.ipynb\" target=\"_parent\"><img src=\"https://colab.research.google.com/assets/colab-badge.svg\" alt=\"Open In Colab\"/></a>"
      ]
    },
    {
      "cell_type": "code",
      "metadata": {
        "_uuid": "8f2839f25d086af736a60e9eeb907d3b93b6e0e5",
        "_cell_guid": "b1076dfc-b9ad-4769-8c92-a6c4dae69d19",
        "trusted": true,
        "id": "Wvx0ySHyjuH_"
      },
      "source": [
        "# Importing Libraries \n",
        "\n",
        "\n",
        "import numpy as np # linear algebra\n",
        "import pandas as pd # data processing, CSV file I/O (e.g. pd.read_csv)\n",
        "import keras\n",
        "import matplotlib.pyplot as plt\n",
        "import seaborn as sns\n",
        "sns.set(style='darkgrid')\n",
        "from sklearn.preprocessing import LabelEncoder\n",
        "#from keras.utils import to_categorical\n",
        "from tensorflow.keras.utils import to_categorical\n",
        "import cv2 as cv\n",
        "from keras.layers import Dense, Conv2D, BatchNormalization, Activation\n",
        "from keras.layers import AveragePooling2D, Input, Flatten\n",
        "from keras.optimizers import Adam\n",
        "from keras.callbacks import ModelCheckpoint, LearningRateScheduler\n",
        "from keras.preprocessing.image import ImageDataGenerator\n",
        "from keras.regularizers import l2\n",
        "from keras import backend as K\n",
        "from keras.models import Model\n",
        "import cv2 \n",
        "from tqdm import tqdm\n",
        "\n",
        "import os\n",
        "#for dirname, _, filenames in os.walk('/kaggle/input'):\n",
        "      #for filename in filenames:\n",
        "       #print(os.path.join(dirname, filename))\n",
        "\n",
        "# Any results you write to the current directory are saved as output."
      ],
      "execution_count": 195,
      "outputs": []
    },
    {
      "cell_type": "code",
      "metadata": {
        "id": "vmpoq7W6kYDf",
        "colab": {
          "base_uri": "https://localhost:8080/"
        },
        "outputId": "7c82a1e7-5fbe-4eee-de9e-ca5a6ccdfebb"
      },
      "source": [
        "from google.colab import drive\n",
        "drive.mount('/content/drive',force_remount= True)"
      ],
      "execution_count": 196,
      "outputs": [
        {
          "output_type": "stream",
          "text": [
            "Mounted at /content/drive\n"
          ],
          "name": "stdout"
        }
      ]
    },
    {
      "cell_type": "code",
      "metadata": {
        "trusted": true,
        "id": "0oAt4TGajuIN",
        "colab": {
          "base_uri": "https://localhost:8080/"
        },
        "outputId": "d9db7269-4df2-492c-9703-f49ce7aad81f"
      },
      "source": [
        "traindf=pd.read_csv('/content/drive/MyDrive/ColabNotebooks/ToonsProblem/Train.csv')\n",
        "print(traindf.shape)\n",
        "testdf=pd.read_csv('/content/drive/MyDrive/ColabNotebooks/ToonsProblem/Test.csv')\n",
        "print(testdf.shape)"
      ],
      "execution_count": 197,
      "outputs": [
        {
          "output_type": "stream",
          "text": [
            "(297, 2)\n",
            "(179, 1)\n"
          ],
          "name": "stdout"
        }
      ]
    },
    {
      "cell_type": "code",
      "metadata": {
        "trusted": true,
        "id": "Xwv2mdHEjuIP",
        "colab": {
          "base_uri": "https://localhost:8080/",
          "height": 202
        },
        "outputId": "c78ed2e6-5b9b-4a13-c378-7294c0a53238"
      },
      "source": [
        "traindf.head()"
      ],
      "execution_count": 198,
      "outputs": [
        {
          "output_type": "execute_result",
          "data": {
            "text/html": [
              "<div>\n",
              "<style scoped>\n",
              "    .dataframe tbody tr th:only-of-type {\n",
              "        vertical-align: middle;\n",
              "    }\n",
              "\n",
              "    .dataframe tbody tr th {\n",
              "        vertical-align: top;\n",
              "    }\n",
              "\n",
              "    .dataframe thead th {\n",
              "        text-align: right;\n",
              "    }\n",
              "</style>\n",
              "<table border=\"1\" class=\"dataframe\">\n",
              "  <thead>\n",
              "    <tr style=\"text-align: right;\">\n",
              "      <th></th>\n",
              "      <th>Frame_ID</th>\n",
              "      <th>Emotion</th>\n",
              "    </tr>\n",
              "  </thead>\n",
              "  <tbody>\n",
              "    <tr>\n",
              "      <th>0</th>\n",
              "      <td>frame1.jpg</td>\n",
              "      <td>happy</td>\n",
              "    </tr>\n",
              "    <tr>\n",
              "      <th>1</th>\n",
              "      <td>frame2.jpg</td>\n",
              "      <td>surprised</td>\n",
              "    </tr>\n",
              "    <tr>\n",
              "      <th>2</th>\n",
              "      <td>frame3.jpg</td>\n",
              "      <td>surprised</td>\n",
              "    </tr>\n",
              "    <tr>\n",
              "      <th>3</th>\n",
              "      <td>frame4.jpg</td>\n",
              "      <td>angry</td>\n",
              "    </tr>\n",
              "    <tr>\n",
              "      <th>4</th>\n",
              "      <td>frame5.jpg</td>\n",
              "      <td>surprised</td>\n",
              "    </tr>\n",
              "  </tbody>\n",
              "</table>\n",
              "</div>"
            ],
            "text/plain": [
              "     Frame_ID    Emotion\n",
              "0  frame1.jpg      happy\n",
              "1  frame2.jpg  surprised\n",
              "2  frame3.jpg  surprised\n",
              "3  frame4.jpg      angry\n",
              "4  frame5.jpg  surprised"
            ]
          },
          "metadata": {
            "tags": []
          },
          "execution_count": 198
        }
      ]
    },
    {
      "cell_type": "code",
      "metadata": {
        "trusted": true,
        "id": "m3YtL3EojuIQ",
        "colab": {
          "base_uri": "https://localhost:8080/",
          "height": 105
        },
        "outputId": "51ecac44-371b-4819-d2c1-36ca51314842"
      },
      "source": [
        "## Create Frames For Train video \n",
        "'''\n",
        "import cv2\n",
        "vidcap = cv2.VideoCapture('/content/drive/MyDrive/ColabNotebooks/ToonsProblem/Train Tom and jerry.mp4')\n",
        "\n",
        "def getFrame(sec):\n",
        "    vidcap.set(cv2.CAP_PROP_POS_MSEC,sec*1000)\n",
        "    hasFrames,image = vidcap.read()\n",
        "    if hasFrames:\n",
        "        cv2.imwrite(\"/content/drive/MyDrive/ColabNotebooks/ToonsProblem/Train_frame/frame\"+str(count)+\".jpg\", image) # save frame as JPG file\n",
        "    return hasFrames,image\n",
        "train_images =[]\n",
        "IMAGE_SIZE = (150,150)\n",
        "sec = 1\n",
        "frameRate = 1 #//it will capture image in each 0.5 second\n",
        "count=1\n",
        "success,image = getFrame(sec)\n",
        "while success:\n",
        "    count = count + 1\n",
        "    sec = sec + frameRate\n",
        "    sec = round(sec, 2)\n",
        "    success = getFrame(sec)\n",
        "'''"
      ],
      "execution_count": 199,
      "outputs": [
        {
          "output_type": "execute_result",
          "data": {
            "application/vnd.google.colaboratory.intrinsic+json": {
              "type": "string"
            },
            "text/plain": [
              "'\\nimport cv2\\nvidcap = cv2.VideoCapture(\\'/content/drive/MyDrive/ColabNotebooks/ToonsProblem/Train Tom and jerry.mp4\\')\\n\\ndef getFrame(sec):\\n    vidcap.set(cv2.CAP_PROP_POS_MSEC,sec*1000)\\n    hasFrames,image = vidcap.read()\\n    if hasFrames:\\n        cv2.imwrite(\"/content/drive/MyDrive/ColabNotebooks/ToonsProblem/Train_frame/frame\"+str(count)+\".jpg\", image) # save frame as JPG file\\n    return hasFrames,image\\ntrain_images =[]\\nIMAGE_SIZE = (150,150)\\nsec = 1\\nframeRate = 1 #//it will capture image in each 0.5 second\\ncount=1\\nsuccess,image = getFrame(sec)\\nwhile success:\\n    count = count + 1\\n    sec = sec + frameRate\\n    sec = round(sec, 2)\\n    success = getFrame(sec)\\n'"
            ]
          },
          "metadata": {
            "tags": []
          },
          "execution_count": 199
        }
      ]
    },
    {
      "cell_type": "code",
      "metadata": {
        "trusted": true,
        "id": "xrQIuOLMjuIS",
        "colab": {
          "base_uri": "https://localhost:8080/",
          "height": 357
        },
        "outputId": "f6eba376-41dc-4770-ca9e-3ff04abed622"
      },
      "source": [
        "plt.figure(figsize=(10,5))\n",
        "sns.countplot(x='Emotion', data=traindf,\n",
        "                   order=list(traindf['Emotion'].value_counts().sort_index().index) ,\n",
        "                   color='cyan')"
      ],
      "execution_count": 200,
      "outputs": [
        {
          "output_type": "execute_result",
          "data": {
            "text/plain": [
              "<matplotlib.axes._subplots.AxesSubplot at 0x7f5a32d41e90>"
            ]
          },
          "metadata": {
            "tags": []
          },
          "execution_count": 200
        },
        {
          "output_type": "display_data",
          "data": {
            "image/png": "[encoded data removed]",
            "text/plain": [
              "<Figure size 720x360 with 1 Axes>"
            ]
          },
          "metadata": {
            "tags": []
          }
        }
      ]
    },
    {
      "cell_type": "code",
      "metadata": {
        "trusted": true,
        "id": "7ZN_vWBhjuIT",
        "colab": {
          "base_uri": "https://localhost:8080/"
        },
        "outputId": "330bbbdd-7a07-418f-d8c3-12a7938c17a9"
      },
      "source": [
        "traindf.loc[traindf['Frame_ID'] == 'frame0.jpg']['Emotion']\n",
        "class_names =np.unique(traindf['Emotion'])\n",
        "class_names_label = {class_name:i for i, class_name in enumerate(class_names)}\n",
        "\n",
        "nb_classes = len(class_names)\n",
        "print(class_names_label)"
      ],
      "execution_count": 201,
      "outputs": [
        {
          "output_type": "stream",
          "text": [
            "{'Unknown': 0, 'angry': 1, 'happy': 2, 'sad': 3, 'surprised': 4}\n"
          ],
          "name": "stdout"
        }
      ]
    },
    {
      "cell_type": "code",
      "metadata": {
        "trusted": true,
        "id": "wRs-Q5AVjuIV",
        "colab": {
          "base_uri": "https://localhost:8080/",
          "height": 105
        },
        "outputId": "7bdb0b25-9696-4efc-e4c5-cdb1bb0350ca"
      },
      "source": [
        "## Create Frames For Test video\n",
        "'''\n",
        "import cv2\n",
        "vidcap = cv2.VideoCapture('/content/drive/MyDrive/ColabNotebooks/ToonsProblem/Test Tom and Jerry.mp4')\n",
        "\n",
        "def getFrame(sec):\n",
        "    vidcap.set(cv2.CAP_PROP_POS_MSEC,sec*1000)\n",
        "    hasFrames,image = vidcap.read()\n",
        "    if hasFrames:\n",
        "        cv2.imwrite(\"/content/drive/MyDrive/ColabNotebooks/ToonsProblem/Test_frame/\"\"test\"+str(count)+\".jpg\", image) # save frame as JPG file\n",
        "    return hasFrames,image\n",
        "test_images =[]\n",
        "IMAGE_SIZE = (150,150)\n",
        "sec = 1\n",
        "frameRate = 1 #//it will capture image in each 0.5 second\n",
        "count=1\n",
        "success,image = getFrame(sec)\n",
        "while success:\n",
        "    count = count + 1\n",
        "    sec = sec + frameRate\n",
        "    sec = round(sec, 2)\n",
        "    success = getFrame(sec)\n",
        "'''    "
      ],
      "execution_count": 202,
      "outputs": [
        {
          "output_type": "execute_result",
          "data": {
            "application/vnd.google.colaboratory.intrinsic+json": {
              "type": "string"
            },
            "text/plain": [
              "'\\nimport cv2\\nvidcap = cv2.VideoCapture(\\'/content/drive/MyDrive/ColabNotebooks/ToonsProblem/Test Tom and Jerry.mp4\\')\\n\\ndef getFrame(sec):\\n    vidcap.set(cv2.CAP_PROP_POS_MSEC,sec*1000)\\n    hasFrames,image = vidcap.read()\\n    if hasFrames:\\n        cv2.imwrite(\"/content/drive/MyDrive/ColabNotebooks/ToonsProblem/Test_frame/\"\"test\"+str(count)+\".jpg\", image) # save frame as JPG file\\n    return hasFrames,image\\ntest_images =[]\\nIMAGE_SIZE = (150,150)\\nsec = 1\\nframeRate = 1 #//it will capture image in each 0.5 second\\ncount=1\\nsuccess,image = getFrame(sec)\\nwhile success:\\n    count = count + 1\\n    sec = sec + frameRate\\n    sec = round(sec, 2)\\n    success = getFrame(sec)\\n'"
            ]
          },
          "metadata": {
            "tags": []
          },
          "execution_count": 202
        }
      ]
    },
    {
      "cell_type": "code",
      "metadata": {
        "trusted": true,
        "id": "fEUupCWIjuIX",
        "colab": {
          "base_uri": "https://localhost:8080/"
        },
        "outputId": "5ef48086-f622-4906-d268-cede9e2cea47"
      },
      "source": [
        "## Read Train Frames \n",
        "\n",
        "IMAGE_SIZE = (256, 256)\n",
        "dataset = '/content/drive/MyDrive/ColabNotebooks/ToonsProblem/Train_frame'\n",
        "output = []\n",
        "train_images = []\n",
        "train_labels = []\n",
        "for files in tqdm(os.listdir(dataset)):\n",
        "    try:\n",
        "        label=class_names_label[traindf.loc[traindf['Frame_ID'] == files]['Emotion'].values[0]]\n",
        "    except:\n",
        "        #do nothing\n",
        "        a=1\n",
        "    img_path=os.path.join(dataset, files)\n",
        "    # Open and resize the img\n",
        "    image = cv2.imread(img_path)\n",
        "    image = cv2.cvtColor(image, cv2.COLOR_BGR2RGB)\n",
        "    image = cv2.resize(image, IMAGE_SIZE) \n",
        "    # Append the image and its corresponding label to the output\n",
        "    train_images.append(image)\n",
        "    train_labels.append(label)"
      ],
      "execution_count": 203,
      "outputs": [
        {
          "output_type": "stream",
          "text": [
            "100%|██████████| 297/297 [00:04<00:00, 61.72it/s]\n"
          ],
          "name": "stderr"
        }
      ]
    },
    {
      "cell_type": "code",
      "metadata": {
        "trusted": true,
        "id": "MyQ7S5ecjuIY"
      },
      "source": [
        "train_images = np.array(train_images, dtype = 'float32')/255\n",
        "train_labels = np.array(train_labels, dtype = 'int32') "
      ],
      "execution_count": 204,
      "outputs": []
    },
    {
      "cell_type": "code",
      "metadata": {
        "trusted": true,
        "id": "jNV297-fjuIZ",
        "colab": {
          "base_uri": "https://localhost:8080/"
        },
        "outputId": "87aff51b-7073-439a-acf6-cef976b477f1"
      },
      "source": [
        "## Read test Frames \n",
        "IMAGE_SIZE = (256, 256)\n",
        "dataset = '/content/drive/MyDrive/ColabNotebooks/ToonsProblem/Test_frame'\n",
        "output = []\n",
        "test_images = []\n",
        "for files in tqdm(os.listdir(dataset)):\n",
        "    img_path=os.path.join(dataset, files)\n",
        "    image = cv2.imread(img_path)\n",
        "    image = cv2.cvtColor(image, cv2.COLOR_BGR2RGB)\n",
        "    image = cv2.resize(image, IMAGE_SIZE) \n",
        "    # Append the image and its corresponding label to the output\n",
        "    test_images.append(image)\n",
        "test_images = np.array(test_images, dtype = 'float32')/255"
      ],
      "execution_count": 205,
      "outputs": [
        {
          "output_type": "stream",
          "text": [
            "100%|██████████| 179/179 [00:02<00:00, 67.62it/s]\n"
          ],
          "name": "stderr"
        }
      ]
    },
    {
      "cell_type": "code",
      "metadata": {
        "trusted": true,
        "id": "Y3GYexVmjuIb",
        "colab": {
          "base_uri": "https://localhost:8080/",
          "height": 289
        },
        "outputId": "77772c02-dada-4b04-c306-6d45c0d34b8c"
      },
      "source": [
        "plt.imshow(test_images[25])"
      ],
      "execution_count": 206,
      "outputs": [
        {
          "output_type": "execute_result",
          "data": {
            "text/plain": [
              "<matplotlib.image.AxesImage at 0x7f5a30061590>"
            ]
          },
          "metadata": {
            "tags": []
          },
          "execution_count": 206
        },
        {
          "output_type": "display_data",
          "data": {
            "image/png": "[encoded data removed]",
            "text/plain": [
              "<Figure size 432x288 with 1 Axes>"
            ]
          },
          "metadata": {
            "tags": []
          }
        }
      ]
    },
    {
      "cell_type": "code",
      "metadata": {
        "trusted": true,
        "id": "j-AibgYhjuIc"
      },
      "source": [
        "from sklearn.model_selection import train_test_split\n",
        "x_train,x_val,y_train,y_val=train_test_split(train_images,train_labels,test_size=0.3)"
      ],
      "execution_count": 207,
      "outputs": []
    },
    {
      "cell_type": "code",
      "metadata": {
        "trusted": true,
        "id": "niZuWMXPjuId",
        "colab": {
          "base_uri": "https://localhost:8080/"
        },
        "outputId": "fd324538-6169-4a89-cb1e-d8035b8598c0"
      },
      "source": [
        "input_shape = x_train.shape[1:]\n",
        "# Normalize data.\n",
        "x_train = x_train.astype('float32') \n",
        "y_train = y_train.astype('float32') \n",
        "print(input_shape)"
      ],
      "execution_count": 208,
      "outputs": [
        {
          "output_type": "stream",
          "text": [
            "(256, 256, 3)\n"
          ],
          "name": "stdout"
        }
      ]
    },
    {
      "cell_type": "code",
      "metadata": {
        "trusted": true,
        "id": "T3nmHQdqjuIf",
        "colab": {
          "base_uri": "https://localhost:8080/"
        },
        "outputId": "7eb2e1f3-544d-43d9-a37d-ceafce92eb56"
      },
      "source": [
        "print(y_train.shape)\n",
        "print(y_val.shape)"
      ],
      "execution_count": 209,
      "outputs": [
        {
          "output_type": "stream",
          "text": [
            "(207,)\n",
            "(90,)\n"
          ],
          "name": "stdout"
        }
      ]
    },
    {
      "cell_type": "code",
      "metadata": {
        "trusted": true,
        "id": "lRYc2QVWjuIf",
        "colab": {
          "base_uri": "https://localhost:8080/"
        },
        "outputId": "08526b55-8c68-4f7e-e486-3a50b597060b"
      },
      "source": [
        "print(x_train.shape)\n",
        "print(x_val.shape)"
      ],
      "execution_count": 210,
      "outputs": [
        {
          "output_type": "stream",
          "text": [
            "(207, 256, 256, 3)\n",
            "(90, 256, 256, 3)\n"
          ],
          "name": "stdout"
        }
      ]
    },
    {
      "cell_type": "code",
      "metadata": {
        "trusted": true,
        "id": "mNBASpXLjuIg"
      },
      "source": [
        "    from keras.models import Sequential\n",
        "    from keras.layers import Conv2D, MaxPooling2D, Dense, Flatten, Dropout\n",
        "    from keras.optimizers import SGD\n",
        "    from keras.callbacks import TensorBoard"
      ],
      "execution_count": 211,
      "outputs": []
    },
    {
      "cell_type": "code",
      "metadata": {
        "trusted": true,
        "id": "QFVn2hSyjuIh",
        "colab": {
          "base_uri": "https://localhost:8080/"
        },
        "outputId": "b112ef07-7605-4ae8-fa38-6b0722e6cbd1"
      },
      "source": [
        "classifier = Sequential()\n",
        "\n",
        "# Step 1 - Convolution\n",
        "classifier.add(Conv2D(32,(3,3), input_shape = (256,256, 3), activation = 'relu'))\n",
        "\n",
        "# Step 2 - Pooling\n",
        "classifier.add(MaxPooling2D(pool_size = (2, 2)))\n",
        "\n",
        "#Adding more layers \n",
        "classifier.add(Conv2D(32,(3,3), activation='relu'))\n",
        "classifier.add(MaxPooling2D(pool_size = (2,2)))\n",
        "\n",
        "#Adding more layers \n",
        "\n",
        "classifier.add(Conv2D(32,(3,3), activation='relu'))\n",
        "classifier.add(MaxPooling2D(pool_size = (2,2)))\n",
        "classifier.add(Conv2D(32,(3,3), activation='relu'))\n",
        "classifier.add(MaxPooling2D(pool_size = (2,2)))\n",
        "\n",
        "# Step 3 - Flattening\n",
        "classifier.add(Dropout(0.5))\n",
        "classifier.add(Flatten())\n",
        "\n",
        "# Step 4 - Full connection\n",
        "#classifier.add(Dense(output_dim = 300, activation = 'relu'))\n",
        "#classifier.add(Dense(output_dim = 100, activation = 'relu'))\n",
        "#classifier.add(Dense(output_dim = 5, activation = 'softmax'))\n",
        "\n",
        "classifier.add(Dense(300, activation = 'relu'))\n",
        "classifier.add(Dense(100, activation = 'relu'))\n",
        "classifier.add(Dense(5, activation = 'softmax'))\n",
        "\n",
        "# Compiling the CNN\n",
        "from keras import optimizers\n",
        "\n",
        "#o = optimizers.SGD(lr=0.01, decay=1e-6, momentum=0.9, nesterov=True)\n",
        "#classifier.compile(optimizer = Adam(lr=0.001), loss = 'sparse_categorical_crossentropy', metrics = ['accuracy'])\n",
        "classifier.compile(optimizer = Adam(learning_rate=0.001), loss = 'sparse_categorical_crossentropy', metrics = ['accuracy'])\n",
        "\n",
        "epochs=50\n",
        "classifier.fit(x_train,\n",
        "             y_train,\n",
        "             batch_size=32,\n",
        "             #nb_epoch=epochs,\n",
        "             epochs=epochs,\n",
        "             verbose=1,\n",
        "             validation_data=(x_val,y_val))"
      ],
      "execution_count": null,
      "outputs": [
        {
          "output_type": "stream",
          "text": [
            "Epoch 1/50\n",
            "7/7 [==============================] - 16s 2s/step - loss: 1.5516 - accuracy: 0.3504 - val_loss: 1.6972 - val_accuracy: 0.4000\n",
            "Epoch 2/50\n",
            "7/7 [==============================] - 15s 2s/step - loss: 1.5044 - accuracy: 0.4032 - val_loss: 1.3780 - val_accuracy: 0.4444\n",
            "Epoch 3/50\n",
            "7/7 [==============================] - 15s 2s/step - loss: 1.3055 - accuracy: 0.4994 - val_loss: 1.3622 - val_accuracy: 0.3778\n",
            "Epoch 4/50\n",
            "7/7 [==============================] - 15s 2s/step - loss: 1.2615 - accuracy: 0.5338 - val_loss: 1.3804 - val_accuracy: 0.4333\n",
            "Epoch 5/50\n",
            "7/7 [==============================] - 15s 2s/step - loss: 1.2196 - accuracy: 0.5268 - val_loss: 1.2795 - val_accuracy: 0.4444\n",
            "Epoch 6/50\n",
            "7/7 [==============================] - 15s 2s/step - loss: 1.0545 - accuracy: 0.5555 - val_loss: 1.2437 - val_accuracy: 0.4667\n",
            "Epoch 7/50\n",
            "7/7 [==============================] - 15s 2s/step - loss: 0.9609 - accuracy: 0.6451 - val_loss: 1.2505 - val_accuracy: 0.4444\n",
            "Epoch 8/50\n",
            "7/7 [==============================] - 15s 2s/step - loss: 0.8158 - accuracy: 0.7105 - val_loss: 1.3036 - val_accuracy: 0.4667\n",
            "Epoch 9/50\n",
            "7/7 [==============================] - 15s 2s/step - loss: 0.6731 - accuracy: 0.7676 - val_loss: 1.4239 - val_accuracy: 0.5556\n",
            "Epoch 10/50\n",
            "7/7 [==============================] - 15s 2s/step - loss: 0.6575 - accuracy: 0.7707 - val_loss: 1.1908 - val_accuracy: 0.5444\n",
            "Epoch 11/50\n",
            "7/7 [==============================] - 15s 2s/step - loss: 0.3547 - accuracy: 0.9019 - val_loss: 1.5194 - val_accuracy: 0.5000\n",
            "Epoch 12/50\n",
            "7/7 [==============================] - 15s 2s/step - loss: 0.3604 - accuracy: 0.8656 - val_loss: 1.2546 - val_accuracy: 0.6000\n",
            "Epoch 13/50\n",
            "7/7 [==============================] - 15s 2s/step - loss: 0.3153 - accuracy: 0.8704 - val_loss: 1.7074 - val_accuracy: 0.5778\n",
            "Epoch 14/50\n",
            "7/7 [==============================] - 15s 2s/step - loss: 0.2770 - accuracy: 0.9064 - val_loss: 1.4644 - val_accuracy: 0.5667\n",
            "Epoch 15/50\n",
            "7/7 [==============================] - 15s 2s/step - loss: 0.3161 - accuracy: 0.8710 - val_loss: 1.4682 - val_accuracy: 0.5667\n",
            "Epoch 16/50\n",
            "7/7 [==============================] - 15s 2s/step - loss: 0.1617 - accuracy: 0.9438 - val_loss: 1.4580 - val_accuracy: 0.6222\n",
            "Epoch 17/50\n",
            "7/7 [==============================] - 15s 2s/step - loss: 0.1822 - accuracy: 0.9374 - val_loss: 1.4775 - val_accuracy: 0.6222\n",
            "Epoch 18/50\n",
            "7/7 [==============================] - 15s 2s/step - loss: 0.0895 - accuracy: 0.9799 - val_loss: 1.6816 - val_accuracy: 0.5556\n",
            "Epoch 19/50\n",
            "7/7 [==============================] - 15s 2s/step - loss: 0.0721 - accuracy: 0.9807 - val_loss: 1.5739 - val_accuracy: 0.6111\n",
            "Epoch 20/50\n",
            "7/7 [==============================] - 15s 2s/step - loss: 0.0570 - accuracy: 0.9769 - val_loss: 1.6728 - val_accuracy: 0.5778\n",
            "Epoch 21/50\n",
            "7/7 [==============================] - 15s 2s/step - loss: 0.0653 - accuracy: 0.9729 - val_loss: 1.7547 - val_accuracy: 0.6222\n",
            "Epoch 22/50\n",
            "7/7 [==============================] - 15s 2s/step - loss: 0.0742 - accuracy: 0.9787 - val_loss: 1.7344 - val_accuracy: 0.6111\n",
            "Epoch 23/50\n",
            "7/7 [==============================] - 15s 2s/step - loss: 0.0577 - accuracy: 0.9714 - val_loss: 1.5733 - val_accuracy: 0.6333\n",
            "Epoch 24/50\n",
            "7/7 [==============================] - 15s 2s/step - loss: 0.0478 - accuracy: 0.9945 - val_loss: 1.5198 - val_accuracy: 0.6222\n",
            "Epoch 25/50\n",
            "7/7 [==============================] - 15s 2s/step - loss: 0.0455 - accuracy: 0.9801 - val_loss: 1.8696 - val_accuracy: 0.6889\n",
            "Epoch 26/50\n",
            "7/7 [==============================] - 15s 2s/step - loss: 0.1068 - accuracy: 0.9455 - val_loss: 1.6793 - val_accuracy: 0.6222\n",
            "Epoch 27/50\n",
            "7/7 [==============================] - 15s 2s/step - loss: 0.0265 - accuracy: 0.9969 - val_loss: 1.6593 - val_accuracy: 0.6444\n",
            "Epoch 28/50\n",
            "7/7 [==============================] - 15s 2s/step - loss: 0.0215 - accuracy: 0.9964 - val_loss: 1.9961 - val_accuracy: 0.6222\n",
            "Epoch 29/50\n",
            "7/7 [==============================] - 15s 2s/step - loss: 0.0372 - accuracy: 0.9913 - val_loss: 2.2972 - val_accuracy: 0.6333\n",
            "Epoch 30/50\n",
            "2/7 [=======>......................] - ETA: 10s - loss: 0.0242 - accuracy: 0.9922"
          ],
          "name": "stdout"
        }
      ]
    },
    {
      "cell_type": "code",
      "metadata": {
        "trusted": true,
        "id": "LxxSibUyjuIj"
      },
      "source": [
        "classifier.summary()"
      ],
      "execution_count": null,
      "outputs": []
    },
    {
      "cell_type": "code",
      "metadata": {
        "trusted": true,
        "id": "BK2cb_fKjuIk"
      },
      "source": [
        "import pydot\n",
        "#keras.utils.plot_model(classifier)"
      ],
      "execution_count": null,
      "outputs": []
    },
    {
      "cell_type": "code",
      "metadata": {
        "trusted": true,
        "id": "kZIWdDs1juIk"
      },
      "source": [
        "scores = classifier.evaluate(x_val, y_val, verbose=1)\n",
        "print('Test loss:', scores[0])\n",
        "print('Test accuracy:', scores[1])"
      ],
      "execution_count": null,
      "outputs": []
    },
    {
      "cell_type": "code",
      "metadata": {
        "trusted": true,
        "id": "UeOQvzHejuIl"
      },
      "source": [
        "y_test_prob = classifier.predict(test_images)\n",
        "y_test_prob.round(2)"
      ],
      "execution_count": null,
      "outputs": []
    },
    {
      "cell_type": "code",
      "metadata": {
        "trusted": true,
        "id": "9rIz0_7RjuIm"
      },
      "source": [
        "y_test_pred = classifier.predict_classes(test_images)\n",
        "y_test_pred"
      ],
      "execution_count": null,
      "outputs": []
    },
    {
      "cell_type": "code",
      "metadata": {
        "trusted": true,
        "id": "GRdM7n_0juIn"
      },
      "source": [
        "elo = np.array(class_names)[y_test_pred]\n",
        "elo"
      ],
      "execution_count": null,
      "outputs": []
    },
    {
      "cell_type": "code",
      "metadata": {
        "trusted": true,
        "id": "Esz07-QZjuIo"
      },
      "source": [
        "f=95\n",
        "print(plt.imshow(test_images[f]),elo[f])"
      ],
      "execution_count": null,
      "outputs": []
    },
    {
      "cell_type": "code",
      "metadata": {
        "trusted": true,
        "id": "Rl7bg_uBjuIo"
      },
      "source": [
        "type(elo)"
      ],
      "execution_count": null,
      "outputs": []
    },
    {
      "cell_type": "code",
      "metadata": {
        "trusted": true,
        "id": "nUPs0TubjuIp"
      },
      "source": [
        "df2 = testdf.assign(Emotion = elo) "
      ],
      "execution_count": null,
      "outputs": []
    },
    {
      "cell_type": "code",
      "metadata": {
        "trusted": true,
        "id": "r5CCo3T5juIq"
      },
      "source": [
        "df2.head()"
      ],
      "execution_count": null,
      "outputs": []
    },
    {
      "cell_type": "code",
      "metadata": {
        "trusted": true,
        "id": "FRZ_lHOBjuIr"
      },
      "source": [
        "df2.to_csv('/content/drive/MyDrive/ColabNotebooks/ToonsProblem/Submission/submission2.csv', header=True, index=False)"
      ],
      "execution_count": null,
      "outputs": []
    },
    {
      "cell_type": "code",
      "metadata": {
        "trusted": true,
        "id": "PZi9he-ljuIr"
      },
      "source": [
        ""
      ],
      "execution_count": null,
      "outputs": []
    }
  ]
}